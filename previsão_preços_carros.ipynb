{
  "nbformat": 4,
  "nbformat_minor": 0,
  "metadata": {
    "colab": {
      "provenance": [],
      "toc_visible": true,
      "authorship_tag": "ABX9TyPkwK1zbuGkgAMxF6KwSXhm",
      "include_colab_link": true
    },
    "kernelspec": {
      "name": "python3",
      "display_name": "Python 3"
    },
    "language_info": {
      "name": "python"
    }
  },
  "cells": [
    {
      "cell_type": "markdown",
      "metadata": {
        "id": "view-in-github",
        "colab_type": "text"
      },
      "source": [
        "<a href=\"https://colab.research.google.com/github/VicenteJFonseca/previs-o_pre-o_carros/blob/main/previs%C3%A3o_pre%C3%A7os_carros.ipynb\" target=\"_parent\"><img src=\"https://colab.research.google.com/assets/colab-badge.svg\" alt=\"Open In Colab\"/></a>"
      ]
    },
    {
      "cell_type": "markdown",
      "source": [
        "Fonte dados: https://www.kaggle.com/datasets/vagnerbessa/average-car-prices-bazil\n",
        "\n",
        "\n",
        "---\n",
        "\n"
      ],
      "metadata": {
        "id": "GxJjBJm1A2cS"
      }
    },
    {
      "cell_type": "markdown",
      "source": [
        "# Importando Dados e Bibliotecas Python"
      ],
      "metadata": {
        "id": "aobDV-GO2qFy"
      }
    },
    {
      "cell_type": "code",
      "execution_count": 67,
      "metadata": {
        "id": "gHULNh0tyCtY"
      },
      "outputs": [],
      "source": [
        "import os\n",
        "import pickle\n",
        "import numpy as np\n",
        "import pandas as pd\n",
        "import seaborn as sns\n",
        "import matplotlib.pyplot as plt"
      ]
    },
    {
      "cell_type": "code",
      "source": [
        "from google.colab import drive\n",
        "drive.mount('/content/drive')"
      ],
      "metadata": {
        "colab": {
          "base_uri": "https://localhost:8080/"
        },
        "id": "t5Z_pONH_l_h",
        "outputId": "f792eedb-10a4-4c38-9e3c-49f7b04046d2"
      },
      "execution_count": 68,
      "outputs": [
        {
          "output_type": "stream",
          "name": "stdout",
          "text": [
            "Drive already mounted at /content/drive; to attempt to forcibly remount, call drive.mount(\"/content/drive\", force_remount=True).\n"
          ]
        }
      ]
    },
    {
      "cell_type": "code",
      "source": [
        "fipe22 = pd.read_csv(\"/content/drive/MyDrive/Colab Notebooks/Datasets/fipe_2022.csv\", delimiter = \",\")"
      ],
      "metadata": {
        "id": "OExNoYur_wcA"
      },
      "execution_count": 69,
      "outputs": []
    },
    {
      "cell_type": "markdown",
      "source": [
        "# Visualização dos Dados"
      ],
      "metadata": {
        "id": "28hMgffD2xyc"
      }
    },
    {
      "cell_type": "code",
      "source": [
        "fipe22.head()"
      ],
      "metadata": {
        "colab": {
          "base_uri": "https://localhost:8080/",
          "height": 357
        },
        "id": "86fzt6p4_6Aq",
        "outputId": "d0353073-6021-40a0-862a-81affb33aec5"
      },
      "execution_count": 70,
      "outputs": [
        {
          "output_type": "execute_result",
          "data": {
            "text/plain": [
              "   year_of_reference month_of_reference fipe_code authentication  brand  \\\n",
              "0               2022            January  038001-6     vwmrywl5qs  Acura   \n",
              "1               2022            January  038001-6     t9mt723qhz  Acura   \n",
              "2               2022            January  038001-6     tr5wv4z21g  Acura   \n",
              "3               2022            January  038001-6     s2xxsjz3mt  Acura   \n",
              "4               2022            January  038001-6     rtm9gj7zk8  Acura   \n",
              "\n",
              "     model      fuel    gear  engine_size  year_model  avg_price_brl  \\\n",
              "0  NSX 3.0  Gasoline  manual          3.0        1995        43779.0   \n",
              "1  NSX 3.0  Gasoline  manual          3.0        1994        42244.0   \n",
              "2  NSX 3.0  Gasoline  manual          3.0        1993        40841.0   \n",
              "3  NSX 3.0  Gasoline  manual          3.0        1992        39028.0   \n",
              "4  NSX 3.0  Gasoline  manual          3.0        1991        35678.0   \n",
              "\n",
              "   age_years  \n",
              "0         28  \n",
              "1         29  \n",
              "2         30  \n",
              "3         31  \n",
              "4         32  "
            ],
            "text/html": [
              "\n",
              "  <div id=\"df-dc30e51a-8a85-4cfa-b9e4-f9ed49196fd8\">\n",
              "    <div class=\"colab-df-container\">\n",
              "      <div>\n",
              "<style scoped>\n",
              "    .dataframe tbody tr th:only-of-type {\n",
              "        vertical-align: middle;\n",
              "    }\n",
              "\n",
              "    .dataframe tbody tr th {\n",
              "        vertical-align: top;\n",
              "    }\n",
              "\n",
              "    .dataframe thead th {\n",
              "        text-align: right;\n",
              "    }\n",
              "</style>\n",
              "<table border=\"1\" class=\"dataframe\">\n",
              "  <thead>\n",
              "    <tr style=\"text-align: right;\">\n",
              "      <th></th>\n",
              "      <th>year_of_reference</th>\n",
              "      <th>month_of_reference</th>\n",
              "      <th>fipe_code</th>\n",
              "      <th>authentication</th>\n",
              "      <th>brand</th>\n",
              "      <th>model</th>\n",
              "      <th>fuel</th>\n",
              "      <th>gear</th>\n",
              "      <th>engine_size</th>\n",
              "      <th>year_model</th>\n",
              "      <th>avg_price_brl</th>\n",
              "      <th>age_years</th>\n",
              "    </tr>\n",
              "  </thead>\n",
              "  <tbody>\n",
              "    <tr>\n",
              "      <th>0</th>\n",
              "      <td>2022</td>\n",
              "      <td>January</td>\n",
              "      <td>038001-6</td>\n",
              "      <td>vwmrywl5qs</td>\n",
              "      <td>Acura</td>\n",
              "      <td>NSX 3.0</td>\n",
              "      <td>Gasoline</td>\n",
              "      <td>manual</td>\n",
              "      <td>3.0</td>\n",
              "      <td>1995</td>\n",
              "      <td>43779.0</td>\n",
              "      <td>28</td>\n",
              "    </tr>\n",
              "    <tr>\n",
              "      <th>1</th>\n",
              "      <td>2022</td>\n",
              "      <td>January</td>\n",
              "      <td>038001-6</td>\n",
              "      <td>t9mt723qhz</td>\n",
              "      <td>Acura</td>\n",
              "      <td>NSX 3.0</td>\n",
              "      <td>Gasoline</td>\n",
              "      <td>manual</td>\n",
              "      <td>3.0</td>\n",
              "      <td>1994</td>\n",
              "      <td>42244.0</td>\n",
              "      <td>29</td>\n",
              "    </tr>\n",
              "    <tr>\n",
              "      <th>2</th>\n",
              "      <td>2022</td>\n",
              "      <td>January</td>\n",
              "      <td>038001-6</td>\n",
              "      <td>tr5wv4z21g</td>\n",
              "      <td>Acura</td>\n",
              "      <td>NSX 3.0</td>\n",
              "      <td>Gasoline</td>\n",
              "      <td>manual</td>\n",
              "      <td>3.0</td>\n",
              "      <td>1993</td>\n",
              "      <td>40841.0</td>\n",
              "      <td>30</td>\n",
              "    </tr>\n",
              "    <tr>\n",
              "      <th>3</th>\n",
              "      <td>2022</td>\n",
              "      <td>January</td>\n",
              "      <td>038001-6</td>\n",
              "      <td>s2xxsjz3mt</td>\n",
              "      <td>Acura</td>\n",
              "      <td>NSX 3.0</td>\n",
              "      <td>Gasoline</td>\n",
              "      <td>manual</td>\n",
              "      <td>3.0</td>\n",
              "      <td>1992</td>\n",
              "      <td>39028.0</td>\n",
              "      <td>31</td>\n",
              "    </tr>\n",
              "    <tr>\n",
              "      <th>4</th>\n",
              "      <td>2022</td>\n",
              "      <td>January</td>\n",
              "      <td>038001-6</td>\n",
              "      <td>rtm9gj7zk8</td>\n",
              "      <td>Acura</td>\n",
              "      <td>NSX 3.0</td>\n",
              "      <td>Gasoline</td>\n",
              "      <td>manual</td>\n",
              "      <td>3.0</td>\n",
              "      <td>1991</td>\n",
              "      <td>35678.0</td>\n",
              "      <td>32</td>\n",
              "    </tr>\n",
              "  </tbody>\n",
              "</table>\n",
              "</div>\n",
              "      <button class=\"colab-df-convert\" onclick=\"convertToInteractive('df-dc30e51a-8a85-4cfa-b9e4-f9ed49196fd8')\"\n",
              "              title=\"Convert this dataframe to an interactive table.\"\n",
              "              style=\"display:none;\">\n",
              "        \n",
              "  <svg xmlns=\"http://www.w3.org/2000/svg\" height=\"24px\"viewBox=\"0 0 24 24\"\n",
              "       width=\"24px\">\n",
              "    <path d=\"M0 0h24v24H0V0z\" fill=\"none\"/>\n",
              "    <path d=\"M18.56 5.44l.94 2.06.94-2.06 2.06-.94-2.06-.94-.94-2.06-.94 2.06-2.06.94zm-11 1L8.5 8.5l.94-2.06 2.06-.94-2.06-.94L8.5 2.5l-.94 2.06-2.06.94zm10 10l.94 2.06.94-2.06 2.06-.94-2.06-.94-.94-2.06-.94 2.06-2.06.94z\"/><path d=\"M17.41 7.96l-1.37-1.37c-.4-.4-.92-.59-1.43-.59-.52 0-1.04.2-1.43.59L10.3 9.45l-7.72 7.72c-.78.78-.78 2.05 0 2.83L4 21.41c.39.39.9.59 1.41.59.51 0 1.02-.2 1.41-.59l7.78-7.78 2.81-2.81c.8-.78.8-2.07 0-2.86zM5.41 20L4 18.59l7.72-7.72 1.47 1.35L5.41 20z\"/>\n",
              "  </svg>\n",
              "      </button>\n",
              "      \n",
              "  <style>\n",
              "    .colab-df-container {\n",
              "      display:flex;\n",
              "      flex-wrap:wrap;\n",
              "      gap: 12px;\n",
              "    }\n",
              "\n",
              "    .colab-df-convert {\n",
              "      background-color: #E8F0FE;\n",
              "      border: none;\n",
              "      border-radius: 50%;\n",
              "      cursor: pointer;\n",
              "      display: none;\n",
              "      fill: #1967D2;\n",
              "      height: 32px;\n",
              "      padding: 0 0 0 0;\n",
              "      width: 32px;\n",
              "    }\n",
              "\n",
              "    .colab-df-convert:hover {\n",
              "      background-color: #E2EBFA;\n",
              "      box-shadow: 0px 1px 2px rgba(60, 64, 67, 0.3), 0px 1px 3px 1px rgba(60, 64, 67, 0.15);\n",
              "      fill: #174EA6;\n",
              "    }\n",
              "\n",
              "    [theme=dark] .colab-df-convert {\n",
              "      background-color: #3B4455;\n",
              "      fill: #D2E3FC;\n",
              "    }\n",
              "\n",
              "    [theme=dark] .colab-df-convert:hover {\n",
              "      background-color: #434B5C;\n",
              "      box-shadow: 0px 1px 3px 1px rgba(0, 0, 0, 0.15);\n",
              "      filter: drop-shadow(0px 1px 2px rgba(0, 0, 0, 0.3));\n",
              "      fill: #FFFFFF;\n",
              "    }\n",
              "  </style>\n",
              "\n",
              "      <script>\n",
              "        const buttonEl =\n",
              "          document.querySelector('#df-dc30e51a-8a85-4cfa-b9e4-f9ed49196fd8 button.colab-df-convert');\n",
              "        buttonEl.style.display =\n",
              "          google.colab.kernel.accessAllowed ? 'block' : 'none';\n",
              "\n",
              "        async function convertToInteractive(key) {\n",
              "          const element = document.querySelector('#df-dc30e51a-8a85-4cfa-b9e4-f9ed49196fd8');\n",
              "          const dataTable =\n",
              "            await google.colab.kernel.invokeFunction('convertToInteractive',\n",
              "                                                     [key], {});\n",
              "          if (!dataTable) return;\n",
              "\n",
              "          const docLinkHtml = 'Like what you see? Visit the ' +\n",
              "            '<a target=\"_blank\" href=https://colab.research.google.com/notebooks/data_table.ipynb>data table notebook</a>'\n",
              "            + ' to learn more about interactive tables.';\n",
              "          element.innerHTML = '';\n",
              "          dataTable['output_type'] = 'display_data';\n",
              "          await google.colab.output.renderOutput(dataTable, element);\n",
              "          const docLink = document.createElement('div');\n",
              "          docLink.innerHTML = docLinkHtml;\n",
              "          element.appendChild(docLink);\n",
              "        }\n",
              "      </script>\n",
              "    </div>\n",
              "  </div>\n",
              "  "
            ]
          },
          "metadata": {},
          "execution_count": 70
        }
      ]
    },
    {
      "cell_type": "code",
      "source": [
        "fipe22.info()"
      ],
      "metadata": {
        "colab": {
          "base_uri": "https://localhost:8080/"
        },
        "id": "22KJaPc8ACeY",
        "outputId": "be4adf34-0944-48da-9cda-58ab1de0d3c6"
      },
      "execution_count": 71,
      "outputs": [
        {
          "output_type": "stream",
          "name": "stdout",
          "text": [
            "<class 'pandas.core.frame.DataFrame'>\n",
            "RangeIndex: 290275 entries, 0 to 290274\n",
            "Data columns (total 12 columns):\n",
            " #   Column              Non-Null Count   Dtype  \n",
            "---  ------              --------------   -----  \n",
            " 0   year_of_reference   290275 non-null  int64  \n",
            " 1   month_of_reference  290275 non-null  object \n",
            " 2   fipe_code           290275 non-null  object \n",
            " 3   authentication      290275 non-null  object \n",
            " 4   brand               290275 non-null  object \n",
            " 5   model               290275 non-null  object \n",
            " 6   fuel                290275 non-null  object \n",
            " 7   gear                290275 non-null  object \n",
            " 8   engine_size         290275 non-null  float64\n",
            " 9   year_model          290275 non-null  int64  \n",
            " 10  avg_price_brl       290275 non-null  float64\n",
            " 11  age_years           290275 non-null  int64  \n",
            "dtypes: float64(2), int64(3), object(7)\n",
            "memory usage: 26.6+ MB\n"
          ]
        }
      ]
    },
    {
      "cell_type": "code",
      "source": [
        "sns.pairplot(fipe22[[\"year_of_reference\", \"engine_size\", \"year_model\", \"avg_price_brl\",\"age_years\"]], diag_kind=\"kde\")"
      ],
      "metadata": {
        "id": "7EX0S72CUkrm",
        "outputId": "eb9b3583-3286-48fa-8d62-89ff4303d9c7",
        "colab": {
          "base_uri": "https://localhost:8080/",
          "height": 920
        }
      },
      "execution_count": 132,
      "outputs": [
        {
          "output_type": "execute_result",
          "data": {
            "text/plain": [
              "<seaborn.axisgrid.PairGrid at 0x7f9093cb9e20>"
            ]
          },
          "metadata": {},
          "execution_count": 132
        },
        {
          "output_type": "display_data",
          "data": {
            "text/plain": [
              "<Figure size 900x900 with 30 Axes>"
            ],
            "image/png": "[encoded data removed]"
          },
          "metadata": {
            "needs_background": "light"
          }
        }
      ]
    },
    {
      "cell_type": "code",
      "source": [
        "fipe22_numericas = fipe22.drop([\"month_of_reference\",\"fipe_code\",\"authentication\",\"brand\",\"model\",\"fuel\",\"gear\",\"engine_size\"], axis = 1)\n",
        "stats = fipe22.describe()\n",
        "stats = stats.transpose()\n",
        "stats"
      ],
      "metadata": {
        "id": "NDfg90IoVRw9",
        "outputId": "07797c66-1251-4126-d925-9f16ace85afd",
        "colab": {
          "base_uri": "https://localhost:8080/",
          "height": 206
        }
      },
      "execution_count": 136,
      "outputs": [
        {
          "output_type": "execute_result",
          "data": {
            "text/plain": [
              "                      count           mean            std     min      25%  \\\n",
              "year_of_reference  290275.0    2022.000000       0.000000  2022.0   2022.0   \n",
              "engine_size        290275.0       2.266047       1.033109     0.7      1.6   \n",
              "year_model         290275.0    2008.896633       9.263619  1985.0   2001.0   \n",
              "avg_price_brl      290275.0  122087.206184  321913.886198  1831.0  21875.0   \n",
              "age_years          290275.0      14.103367       9.263619     0.0      7.0   \n",
              "\n",
              "                       50%       75%        max  \n",
              "year_of_reference   2022.0    2022.0     2022.0  \n",
              "engine_size            2.0       2.8        6.7  \n",
              "year_model          2010.0    2016.0     2023.0  \n",
              "avg_price_brl      46836.0  106165.0  8600000.0  \n",
              "age_years             13.0      22.0       38.0  "
            ],
            "text/html": [
              "\n",
              "  <div id=\"df-545edc2a-e338-408b-afaf-48a22c8b2df8\">\n",
              "    <div class=\"colab-df-container\">\n",
              "      <div>\n",
              "<style scoped>\n",
              "    .dataframe tbody tr th:only-of-type {\n",
              "        vertical-align: middle;\n",
              "    }\n",
              "\n",
              "    .dataframe tbody tr th {\n",
              "        vertical-align: top;\n",
              "    }\n",
              "\n",
              "    .dataframe thead th {\n",
              "        text-align: right;\n",
              "    }\n",
              "</style>\n",
              "<table border=\"1\" class=\"dataframe\">\n",
              "  <thead>\n",
              "    <tr style=\"text-align: right;\">\n",
              "      <th></th>\n",
              "      <th>count</th>\n",
              "      <th>mean</th>\n",
              "      <th>std</th>\n",
              "      <th>min</th>\n",
              "      <th>25%</th>\n",
              "      <th>50%</th>\n",
              "      <th>75%</th>\n",
              "      <th>max</th>\n",
              "    </tr>\n",
              "  </thead>\n",
              "  <tbody>\n",
              "    <tr>\n",
              "      <th>year_of_reference</th>\n",
              "      <td>290275.0</td>\n",
              "      <td>2022.000000</td>\n",
              "      <td>0.000000</td>\n",
              "      <td>2022.0</td>\n",
              "      <td>2022.0</td>\n",
              "      <td>2022.0</td>\n",
              "      <td>2022.0</td>\n",
              "      <td>2022.0</td>\n",
              "    </tr>\n",
              "    <tr>\n",
              "      <th>engine_size</th>\n",
              "      <td>290275.0</td>\n",
              "      <td>2.266047</td>\n",
              "      <td>1.033109</td>\n",
              "      <td>0.7</td>\n",
              "      <td>1.6</td>\n",
              "      <td>2.0</td>\n",
              "      <td>2.8</td>\n",
              "      <td>6.7</td>\n",
              "    </tr>\n",
              "    <tr>\n",
              "      <th>year_model</th>\n",
              "      <td>290275.0</td>\n",
              "      <td>2008.896633</td>\n",
              "      <td>9.263619</td>\n",
              "      <td>1985.0</td>\n",
              "      <td>2001.0</td>\n",
              "      <td>2010.0</td>\n",
              "      <td>2016.0</td>\n",
              "      <td>2023.0</td>\n",
              "    </tr>\n",
              "    <tr>\n",
              "      <th>avg_price_brl</th>\n",
              "      <td>290275.0</td>\n",
              "      <td>122087.206184</td>\n",
              "      <td>321913.886198</td>\n",
              "      <td>1831.0</td>\n",
              "      <td>21875.0</td>\n",
              "      <td>46836.0</td>\n",
              "      <td>106165.0</td>\n",
              "      <td>8600000.0</td>\n",
              "    </tr>\n",
              "    <tr>\n",
              "      <th>age_years</th>\n",
              "      <td>290275.0</td>\n",
              "      <td>14.103367</td>\n",
              "      <td>9.263619</td>\n",
              "      <td>0.0</td>\n",
              "      <td>7.0</td>\n",
              "      <td>13.0</td>\n",
              "      <td>22.0</td>\n",
              "      <td>38.0</td>\n",
              "    </tr>\n",
              "  </tbody>\n",
              "</table>\n",
              "</div>\n",
              "      <button class=\"colab-df-convert\" onclick=\"convertToInteractive('df-545edc2a-e338-408b-afaf-48a22c8b2df8')\"\n",
              "              title=\"Convert this dataframe to an interactive table.\"\n",
              "              style=\"display:none;\">\n",
              "        \n",
              "  <svg xmlns=\"http://www.w3.org/2000/svg\" height=\"24px\"viewBox=\"0 0 24 24\"\n",
              "       width=\"24px\">\n",
              "    <path d=\"M0 0h24v24H0V0z\" fill=\"none\"/>\n",
              "    <path d=\"M18.56 5.44l.94 2.06.94-2.06 2.06-.94-2.06-.94-.94-2.06-.94 2.06-2.06.94zm-11 1L8.5 8.5l.94-2.06 2.06-.94-2.06-.94L8.5 2.5l-.94 2.06-2.06.94zm10 10l.94 2.06.94-2.06 2.06-.94-2.06-.94-.94-2.06-.94 2.06-2.06.94z\"/><path d=\"M17.41 7.96l-1.37-1.37c-.4-.4-.92-.59-1.43-.59-.52 0-1.04.2-1.43.59L10.3 9.45l-7.72 7.72c-.78.78-.78 2.05 0 2.83L4 21.41c.39.39.9.59 1.41.59.51 0 1.02-.2 1.41-.59l7.78-7.78 2.81-2.81c.8-.78.8-2.07 0-2.86zM5.41 20L4 18.59l7.72-7.72 1.47 1.35L5.41 20z\"/>\n",
              "  </svg>\n",
              "      </button>\n",
              "      \n",
              "  <style>\n",
              "    .colab-df-container {\n",
              "      display:flex;\n",
              "      flex-wrap:wrap;\n",
              "      gap: 12px;\n",
              "    }\n",
              "\n",
              "    .colab-df-convert {\n",
              "      background-color: #E8F0FE;\n",
              "      border: none;\n",
              "      border-radius: 50%;\n",
              "      cursor: pointer;\n",
              "      display: none;\n",
              "      fill: #1967D2;\n",
              "      height: 32px;\n",
              "      padding: 0 0 0 0;\n",
              "      width: 32px;\n",
              "    }\n",
              "\n",
              "    .colab-df-convert:hover {\n",
              "      background-color: #E2EBFA;\n",
              "      box-shadow: 0px 1px 2px rgba(60, 64, 67, 0.3), 0px 1px 3px 1px rgba(60, 64, 67, 0.15);\n",
              "      fill: #174EA6;\n",
              "    }\n",
              "\n",
              "    [theme=dark] .colab-df-convert {\n",
              "      background-color: #3B4455;\n",
              "      fill: #D2E3FC;\n",
              "    }\n",
              "\n",
              "    [theme=dark] .colab-df-convert:hover {\n",
              "      background-color: #434B5C;\n",
              "      box-shadow: 0px 1px 3px 1px rgba(0, 0, 0, 0.15);\n",
              "      filter: drop-shadow(0px 1px 2px rgba(0, 0, 0, 0.3));\n",
              "      fill: #FFFFFF;\n",
              "    }\n",
              "  </style>\n",
              "\n",
              "      <script>\n",
              "        const buttonEl =\n",
              "          document.querySelector('#df-545edc2a-e338-408b-afaf-48a22c8b2df8 button.colab-df-convert');\n",
              "        buttonEl.style.display =\n",
              "          google.colab.kernel.accessAllowed ? 'block' : 'none';\n",
              "\n",
              "        async function convertToInteractive(key) {\n",
              "          const element = document.querySelector('#df-545edc2a-e338-408b-afaf-48a22c8b2df8');\n",
              "          const dataTable =\n",
              "            await google.colab.kernel.invokeFunction('convertToInteractive',\n",
              "                                                     [key], {});\n",
              "          if (!dataTable) return;\n",
              "\n",
              "          const docLinkHtml = 'Like what you see? Visit the ' +\n",
              "            '<a target=\"_blank\" href=https://colab.research.google.com/notebooks/data_table.ipynb>data table notebook</a>'\n",
              "            + ' to learn more about interactive tables.';\n",
              "          element.innerHTML = '';\n",
              "          dataTable['output_type'] = 'display_data';\n",
              "          await google.colab.output.renderOutput(dataTable, element);\n",
              "          const docLink = document.createElement('div');\n",
              "          docLink.innerHTML = docLinkHtml;\n",
              "          element.appendChild(docLink);\n",
              "        }\n",
              "      </script>\n",
              "    </div>\n",
              "  </div>\n",
              "  "
            ]
          },
          "metadata": {},
          "execution_count": 136
        }
      ]
    },
    {
      "cell_type": "markdown",
      "source": [
        "## Aplicando Pandas Profiling"
      ],
      "metadata": {
        "id": "5UXk55Ki23dK"
      }
    },
    {
      "cell_type": "code",
      "source": [
        "# %pip install -U pandas-profiling\n",
        "# from pandas_profiling import ProfileReport\n",
        "# profile = ProfileReport(fipe22)"
      ],
      "metadata": {
        "id": "k0QiBAja2mTN"
      },
      "execution_count": 72,
      "outputs": []
    },
    {
      "cell_type": "code",
      "source": [
        "# profile.to_notebook_iframe()"
      ],
      "metadata": {
        "id": "7dhmQ1iw3LYs"
      },
      "execution_count": 73,
      "outputs": []
    },
    {
      "cell_type": "markdown",
      "source": [
        "# Pré-processamento dos dados"
      ],
      "metadata": {
        "id": "1e_YihSo52gg"
      }
    },
    {
      "cell_type": "markdown",
      "source": [
        "## Tratamento da variável 'brand'"
      ],
      "metadata": {
        "id": "sFHaGeyXG_gZ"
      }
    },
    {
      "cell_type": "code",
      "source": [
        "fipe22.brand.value_counts(normalize=True)"
      ],
      "metadata": {
        "id": "ZRSFPzSG3-Mt",
        "outputId": "f2178861-9b7b-46ad-f706-9c6b713ce213",
        "colab": {
          "base_uri": "https://localhost:8080/"
        }
      },
      "execution_count": 74,
      "outputs": [
        {
          "output_type": "execute_result",
          "data": {
            "text/plain": [
              "GM - Chevrolet     0.097077\n",
              "VW - VolksWagen    0.096949\n",
              "Fiat               0.091510\n",
              "Ford               0.083197\n",
              "Mercedes-Benz      0.060184\n",
              "                     ...   \n",
              "Saturn             0.000083\n",
              "GEELY              0.000083\n",
              "Saab               0.000083\n",
              "Lotus              0.000083\n",
              "SHINERAY           0.000083\n",
              "Name: brand, Length: 86, dtype: float64"
            ]
          },
          "metadata": {},
          "execution_count": 74
        }
      ]
    },
    {
      "cell_type": "code",
      "source": [
        "brand = fipe22.brand.value_counts(normalize=True)"
      ],
      "metadata": {
        "id": "7ubFyYxyC7Ak"
      },
      "execution_count": 75,
      "outputs": []
    },
    {
      "cell_type": "code",
      "source": [
        "brand"
      ],
      "metadata": {
        "id": "bfU66lKhDSjd",
        "outputId": "15f76c50-d6b5-453c-9f32-9155101cfde6",
        "colab": {
          "base_uri": "https://localhost:8080/"
        }
      },
      "execution_count": 76,
      "outputs": [
        {
          "output_type": "execute_result",
          "data": {
            "text/plain": [
              "GM - Chevrolet     0.097077\n",
              "VW - VolksWagen    0.096949\n",
              "Fiat               0.091510\n",
              "Ford               0.083197\n",
              "Mercedes-Benz      0.060184\n",
              "                     ...   \n",
              "Saturn             0.000083\n",
              "GEELY              0.000083\n",
              "Saab               0.000083\n",
              "Lotus              0.000083\n",
              "SHINERAY           0.000083\n",
              "Name: brand, Length: 86, dtype: float64"
            ]
          },
          "metadata": {},
          "execution_count": 76
        }
      ]
    },
    {
      "cell_type": "code",
      "source": [
        "df_brand = pd.DataFrame(brand)"
      ],
      "metadata": {
        "id": "WIqMkjm88hWh"
      },
      "execution_count": 77,
      "outputs": []
    },
    {
      "cell_type": "code",
      "source": [
        "df_brand"
      ],
      "metadata": {
        "id": "KGdSe3Db8l6_",
        "outputId": "cecbd641-5c1d-4917-941c-ce5dc4c1fabf",
        "colab": {
          "base_uri": "https://localhost:8080/",
          "height": 424
        }
      },
      "execution_count": 78,
      "outputs": [
        {
          "output_type": "execute_result",
          "data": {
            "text/plain": [
              "                    brand\n",
              "GM - Chevrolet   0.097077\n",
              "VW - VolksWagen  0.096949\n",
              "Fiat             0.091510\n",
              "Ford             0.083197\n",
              "Mercedes-Benz    0.060184\n",
              "...                   ...\n",
              "Saturn           0.000083\n",
              "GEELY            0.000083\n",
              "Saab             0.000083\n",
              "Lotus            0.000083\n",
              "SHINERAY         0.000083\n",
              "\n",
              "[86 rows x 1 columns]"
            ],
            "text/html": [
              "\n",
              "  <div id=\"df-0a696ec3-9728-4726-93fb-26bc57b7f479\">\n",
              "    <div class=\"colab-df-container\">\n",
              "      <div>\n",
              "<style scoped>\n",
              "    .dataframe tbody tr th:only-of-type {\n",
              "        vertical-align: middle;\n",
              "    }\n",
              "\n",
              "    .dataframe tbody tr th {\n",
              "        vertical-align: top;\n",
              "    }\n",
              "\n",
              "    .dataframe thead th {\n",
              "        text-align: right;\n",
              "    }\n",
              "</style>\n",
              "<table border=\"1\" class=\"dataframe\">\n",
              "  <thead>\n",
              "    <tr style=\"text-align: right;\">\n",
              "      <th></th>\n",
              "      <th>brand</th>\n",
              "    </tr>\n",
              "  </thead>\n",
              "  <tbody>\n",
              "    <tr>\n",
              "      <th>GM - Chevrolet</th>\n",
              "      <td>0.097077</td>\n",
              "    </tr>\n",
              "    <tr>\n",
              "      <th>VW - VolksWagen</th>\n",
              "      <td>0.096949</td>\n",
              "    </tr>\n",
              "    <tr>\n",
              "      <th>Fiat</th>\n",
              "      <td>0.091510</td>\n",
              "    </tr>\n",
              "    <tr>\n",
              "      <th>Ford</th>\n",
              "      <td>0.083197</td>\n",
              "    </tr>\n",
              "    <tr>\n",
              "      <th>Mercedes-Benz</th>\n",
              "      <td>0.060184</td>\n",
              "    </tr>\n",
              "    <tr>\n",
              "      <th>...</th>\n",
              "      <td>...</td>\n",
              "    </tr>\n",
              "    <tr>\n",
              "      <th>Saturn</th>\n",
              "      <td>0.000083</td>\n",
              "    </tr>\n",
              "    <tr>\n",
              "      <th>GEELY</th>\n",
              "      <td>0.000083</td>\n",
              "    </tr>\n",
              "    <tr>\n",
              "      <th>Saab</th>\n",
              "      <td>0.000083</td>\n",
              "    </tr>\n",
              "    <tr>\n",
              "      <th>Lotus</th>\n",
              "      <td>0.000083</td>\n",
              "    </tr>\n",
              "    <tr>\n",
              "      <th>SHINERAY</th>\n",
              "      <td>0.000083</td>\n",
              "    </tr>\n",
              "  </tbody>\n",
              "</table>\n",
              "<p>86 rows × 1 columns</p>\n",
              "</div>\n",
              "      <button class=\"colab-df-convert\" onclick=\"convertToInteractive('df-0a696ec3-9728-4726-93fb-26bc57b7f479')\"\n",
              "              title=\"Convert this dataframe to an interactive table.\"\n",
              "              style=\"display:none;\">\n",
              "        \n",
              "  <svg xmlns=\"http://www.w3.org/2000/svg\" height=\"24px\"viewBox=\"0 0 24 24\"\n",
              "       width=\"24px\">\n",
              "    <path d=\"M0 0h24v24H0V0z\" fill=\"none\"/>\n",
              "    <path d=\"M18.56 5.44l.94 2.06.94-2.06 2.06-.94-2.06-.94-.94-2.06-.94 2.06-2.06.94zm-11 1L8.5 8.5l.94-2.06 2.06-.94-2.06-.94L8.5 2.5l-.94 2.06-2.06.94zm10 10l.94 2.06.94-2.06 2.06-.94-2.06-.94-.94-2.06-.94 2.06-2.06.94z\"/><path d=\"M17.41 7.96l-1.37-1.37c-.4-.4-.92-.59-1.43-.59-.52 0-1.04.2-1.43.59L10.3 9.45l-7.72 7.72c-.78.78-.78 2.05 0 2.83L4 21.41c.39.39.9.59 1.41.59.51 0 1.02-.2 1.41-.59l7.78-7.78 2.81-2.81c.8-.78.8-2.07 0-2.86zM5.41 20L4 18.59l7.72-7.72 1.47 1.35L5.41 20z\"/>\n",
              "  </svg>\n",
              "      </button>\n",
              "      \n",
              "  <style>\n",
              "    .colab-df-container {\n",
              "      display:flex;\n",
              "      flex-wrap:wrap;\n",
              "      gap: 12px;\n",
              "    }\n",
              "\n",
              "    .colab-df-convert {\n",
              "      background-color: #E8F0FE;\n",
              "      border: none;\n",
              "      border-radius: 50%;\n",
              "      cursor: pointer;\n",
              "      display: none;\n",
              "      fill: #1967D2;\n",
              "      height: 32px;\n",
              "      padding: 0 0 0 0;\n",
              "      width: 32px;\n",
              "    }\n",
              "\n",
              "    .colab-df-convert:hover {\n",
              "      background-color: #E2EBFA;\n",
              "      box-shadow: 0px 1px 2px rgba(60, 64, 67, 0.3), 0px 1px 3px 1px rgba(60, 64, 67, 0.15);\n",
              "      fill: #174EA6;\n",
              "    }\n",
              "\n",
              "    [theme=dark] .colab-df-convert {\n",
              "      background-color: #3B4455;\n",
              "      fill: #D2E3FC;\n",
              "    }\n",
              "\n",
              "    [theme=dark] .colab-df-convert:hover {\n",
              "      background-color: #434B5C;\n",
              "      box-shadow: 0px 1px 3px 1px rgba(0, 0, 0, 0.15);\n",
              "      filter: drop-shadow(0px 1px 2px rgba(0, 0, 0, 0.3));\n",
              "      fill: #FFFFFF;\n",
              "    }\n",
              "  </style>\n",
              "\n",
              "      <script>\n",
              "        const buttonEl =\n",
              "          document.querySelector('#df-0a696ec3-9728-4726-93fb-26bc57b7f479 button.colab-df-convert');\n",
              "        buttonEl.style.display =\n",
              "          google.colab.kernel.accessAllowed ? 'block' : 'none';\n",
              "\n",
              "        async function convertToInteractive(key) {\n",
              "          const element = document.querySelector('#df-0a696ec3-9728-4726-93fb-26bc57b7f479');\n",
              "          const dataTable =\n",
              "            await google.colab.kernel.invokeFunction('convertToInteractive',\n",
              "                                                     [key], {});\n",
              "          if (!dataTable) return;\n",
              "\n",
              "          const docLinkHtml = 'Like what you see? Visit the ' +\n",
              "            '<a target=\"_blank\" href=https://colab.research.google.com/notebooks/data_table.ipynb>data table notebook</a>'\n",
              "            + ' to learn more about interactive tables.';\n",
              "          element.innerHTML = '';\n",
              "          dataTable['output_type'] = 'display_data';\n",
              "          await google.colab.output.renderOutput(dataTable, element);\n",
              "          const docLink = document.createElement('div');\n",
              "          docLink.innerHTML = docLinkHtml;\n",
              "          element.appendChild(docLink);\n",
              "        }\n",
              "      </script>\n",
              "    </div>\n",
              "  </div>\n",
              "  "
            ]
          },
          "metadata": {},
          "execution_count": 78
        }
      ]
    },
    {
      "cell_type": "code",
      "source": [
        "df_brand[df_brand[\"brand\"] < 0.01]"
      ],
      "metadata": {
        "id": "Qey9IdpT_AYB",
        "outputId": "f3ab490c-7b59-4755-88a7-426f2193fa57",
        "colab": {
          "base_uri": "https://localhost:8080/",
          "height": 424
        }
      },
      "execution_count": 79,
      "outputs": [
        {
          "output_type": "execute_result",
          "data": {
            "text/plain": [
              "               brand\n",
              "Jaguar      0.009605\n",
              "MINI        0.008103\n",
              "Chrysler    0.006284\n",
              "Lexus       0.006025\n",
              "Caoa Chery  0.005453\n",
              "...              ...\n",
              "Saturn      0.000083\n",
              "GEELY       0.000083\n",
              "Saab        0.000083\n",
              "Lotus       0.000083\n",
              "SHINERAY    0.000083\n",
              "\n",
              "[64 rows x 1 columns]"
            ],
            "text/html": [
              "\n",
              "  <div id=\"df-e93f3f58-6714-4a65-98f1-50d6404908ac\">\n",
              "    <div class=\"colab-df-container\">\n",
              "      <div>\n",
              "<style scoped>\n",
              "    .dataframe tbody tr th:only-of-type {\n",
              "        vertical-align: middle;\n",
              "    }\n",
              "\n",
              "    .dataframe tbody tr th {\n",
              "        vertical-align: top;\n",
              "    }\n",
              "\n",
              "    .dataframe thead th {\n",
              "        text-align: right;\n",
              "    }\n",
              "</style>\n",
              "<table border=\"1\" class=\"dataframe\">\n",
              "  <thead>\n",
              "    <tr style=\"text-align: right;\">\n",
              "      <th></th>\n",
              "      <th>brand</th>\n",
              "    </tr>\n",
              "  </thead>\n",
              "  <tbody>\n",
              "    <tr>\n",
              "      <th>Jaguar</th>\n",
              "      <td>0.009605</td>\n",
              "    </tr>\n",
              "    <tr>\n",
              "      <th>MINI</th>\n",
              "      <td>0.008103</td>\n",
              "    </tr>\n",
              "    <tr>\n",
              "      <th>Chrysler</th>\n",
              "      <td>0.006284</td>\n",
              "    </tr>\n",
              "    <tr>\n",
              "      <th>Lexus</th>\n",
              "      <td>0.006025</td>\n",
              "    </tr>\n",
              "    <tr>\n",
              "      <th>Caoa Chery</th>\n",
              "      <td>0.005453</td>\n",
              "    </tr>\n",
              "    <tr>\n",
              "      <th>...</th>\n",
              "      <td>...</td>\n",
              "    </tr>\n",
              "    <tr>\n",
              "      <th>Saturn</th>\n",
              "      <td>0.000083</td>\n",
              "    </tr>\n",
              "    <tr>\n",
              "      <th>GEELY</th>\n",
              "      <td>0.000083</td>\n",
              "    </tr>\n",
              "    <tr>\n",
              "      <th>Saab</th>\n",
              "      <td>0.000083</td>\n",
              "    </tr>\n",
              "    <tr>\n",
              "      <th>Lotus</th>\n",
              "      <td>0.000083</td>\n",
              "    </tr>\n",
              "    <tr>\n",
              "      <th>SHINERAY</th>\n",
              "      <td>0.000083</td>\n",
              "    </tr>\n",
              "  </tbody>\n",
              "</table>\n",
              "<p>64 rows × 1 columns</p>\n",
              "</div>\n",
              "      <button class=\"colab-df-convert\" onclick=\"convertToInteractive('df-e93f3f58-6714-4a65-98f1-50d6404908ac')\"\n",
              "              title=\"Convert this dataframe to an interactive table.\"\n",
              "              style=\"display:none;\">\n",
              "        \n",
              "  <svg xmlns=\"http://www.w3.org/2000/svg\" height=\"24px\"viewBox=\"0 0 24 24\"\n",
              "       width=\"24px\">\n",
              "    <path d=\"M0 0h24v24H0V0z\" fill=\"none\"/>\n",
              "    <path d=\"M18.56 5.44l.94 2.06.94-2.06 2.06-.94-2.06-.94-.94-2.06-.94 2.06-2.06.94zm-11 1L8.5 8.5l.94-2.06 2.06-.94-2.06-.94L8.5 2.5l-.94 2.06-2.06.94zm10 10l.94 2.06.94-2.06 2.06-.94-2.06-.94-.94-2.06-.94 2.06-2.06.94z\"/><path d=\"M17.41 7.96l-1.37-1.37c-.4-.4-.92-.59-1.43-.59-.52 0-1.04.2-1.43.59L10.3 9.45l-7.72 7.72c-.78.78-.78 2.05 0 2.83L4 21.41c.39.39.9.59 1.41.59.51 0 1.02-.2 1.41-.59l7.78-7.78 2.81-2.81c.8-.78.8-2.07 0-2.86zM5.41 20L4 18.59l7.72-7.72 1.47 1.35L5.41 20z\"/>\n",
              "  </svg>\n",
              "      </button>\n",
              "      \n",
              "  <style>\n",
              "    .colab-df-container {\n",
              "      display:flex;\n",
              "      flex-wrap:wrap;\n",
              "      gap: 12px;\n",
              "    }\n",
              "\n",
              "    .colab-df-convert {\n",
              "      background-color: #E8F0FE;\n",
              "      border: none;\n",
              "      border-radius: 50%;\n",
              "      cursor: pointer;\n",
              "      display: none;\n",
              "      fill: #1967D2;\n",
              "      height: 32px;\n",
              "      padding: 0 0 0 0;\n",
              "      width: 32px;\n",
              "    }\n",
              "\n",
              "    .colab-df-convert:hover {\n",
              "      background-color: #E2EBFA;\n",
              "      box-shadow: 0px 1px 2px rgba(60, 64, 67, 0.3), 0px 1px 3px 1px rgba(60, 64, 67, 0.15);\n",
              "      fill: #174EA6;\n",
              "    }\n",
              "\n",
              "    [theme=dark] .colab-df-convert {\n",
              "      background-color: #3B4455;\n",
              "      fill: #D2E3FC;\n",
              "    }\n",
              "\n",
              "    [theme=dark] .colab-df-convert:hover {\n",
              "      background-color: #434B5C;\n",
              "      box-shadow: 0px 1px 3px 1px rgba(0, 0, 0, 0.15);\n",
              "      filter: drop-shadow(0px 1px 2px rgba(0, 0, 0, 0.3));\n",
              "      fill: #FFFFFF;\n",
              "    }\n",
              "  </style>\n",
              "\n",
              "      <script>\n",
              "        const buttonEl =\n",
              "          document.querySelector('#df-e93f3f58-6714-4a65-98f1-50d6404908ac button.colab-df-convert');\n",
              "        buttonEl.style.display =\n",
              "          google.colab.kernel.accessAllowed ? 'block' : 'none';\n",
              "\n",
              "        async function convertToInteractive(key) {\n",
              "          const element = document.querySelector('#df-e93f3f58-6714-4a65-98f1-50d6404908ac');\n",
              "          const dataTable =\n",
              "            await google.colab.kernel.invokeFunction('convertToInteractive',\n",
              "                                                     [key], {});\n",
              "          if (!dataTable) return;\n",
              "\n",
              "          const docLinkHtml = 'Like what you see? Visit the ' +\n",
              "            '<a target=\"_blank\" href=https://colab.research.google.com/notebooks/data_table.ipynb>data table notebook</a>'\n",
              "            + ' to learn more about interactive tables.';\n",
              "          element.innerHTML = '';\n",
              "          dataTable['output_type'] = 'display_data';\n",
              "          await google.colab.output.renderOutput(dataTable, element);\n",
              "          const docLink = document.createElement('div');\n",
              "          docLink.innerHTML = docLinkHtml;\n",
              "          element.appendChild(docLink);\n",
              "        }\n",
              "      </script>\n",
              "    </div>\n",
              "  </div>\n",
              "  "
            ]
          },
          "metadata": {},
          "execution_count": 79
        }
      ]
    },
    {
      "cell_type": "code",
      "source": [
        "several_brands = df_brand[df_brand[\"brand\"] < 0.01].index.tolist()"
      ],
      "metadata": {
        "id": "_eupC_euDriL"
      },
      "execution_count": 80,
      "outputs": []
    },
    {
      "cell_type": "code",
      "source": [
        "fipe22['brand'] = fipe22['brand'].replace( several_brands, 'Others Brands')"
      ],
      "metadata": {
        "id": "BzpWm-4EGJxR"
      },
      "execution_count": 81,
      "outputs": []
    },
    {
      "cell_type": "code",
      "source": [
        "fipe22['brand'].value_counts(normalize = True)"
      ],
      "metadata": {
        "id": "2FqkEEOUGuiq",
        "outputId": "34349d14-4855-489e-8601-304fc2cff1c4",
        "colab": {
          "base_uri": "https://localhost:8080/"
        }
      },
      "execution_count": 82,
      "outputs": [
        {
          "output_type": "execute_result",
          "data": {
            "text/plain": [
              "Others Brands      0.106416\n",
              "GM - Chevrolet     0.097077\n",
              "VW - VolksWagen    0.096949\n",
              "Fiat               0.091510\n",
              "Ford               0.083197\n",
              "Mercedes-Benz      0.060184\n",
              "Renault            0.052343\n",
              "Audi               0.041919\n",
              "Peugeot            0.038350\n",
              "Toyota             0.035515\n",
              "Mitsubishi         0.035077\n",
              "BMW                0.034657\n",
              "Citroën            0.030247\n",
              "Hyundai            0.025786\n",
              "Land Rover         0.024022\n",
              "Nissan             0.023719\n",
              "Porsche            0.023426\n",
              "Volvo              0.020908\n",
              "Honda              0.019671\n",
              "Kia Motors         0.018855\n",
              "Subaru             0.014255\n",
              "Suzuki             0.013322\n",
              "Jeep               0.012595\n",
              "Name: brand, dtype: float64"
            ]
          },
          "metadata": {},
          "execution_count": 82
        }
      ]
    },
    {
      "cell_type": "markdown",
      "source": [
        "## Seleção de Variáveis"
      ],
      "metadata": {
        "id": "tjZSmUhkWjd0"
      }
    },
    {
      "cell_type": "code",
      "source": [
        "fipe22.info()"
      ],
      "metadata": {
        "colab": {
          "base_uri": "https://localhost:8080/"
        },
        "id": "t75l-EqGWwjf",
        "outputId": "165cba30-4563-4cb6-ee5d-724a44229ce9"
      },
      "execution_count": 83,
      "outputs": [
        {
          "output_type": "stream",
          "name": "stdout",
          "text": [
            "<class 'pandas.core.frame.DataFrame'>\n",
            "RangeIndex: 290275 entries, 0 to 290274\n",
            "Data columns (total 12 columns):\n",
            " #   Column              Non-Null Count   Dtype  \n",
            "---  ------              --------------   -----  \n",
            " 0   year_of_reference   290275 non-null  int64  \n",
            " 1   month_of_reference  290275 non-null  object \n",
            " 2   fipe_code           290275 non-null  object \n",
            " 3   authentication      290275 non-null  object \n",
            " 4   brand               290275 non-null  object \n",
            " 5   model               290275 non-null  object \n",
            " 6   fuel                290275 non-null  object \n",
            " 7   gear                290275 non-null  object \n",
            " 8   engine_size         290275 non-null  float64\n",
            " 9   year_model          290275 non-null  int64  \n",
            " 10  avg_price_brl       290275 non-null  float64\n",
            " 11  age_years           290275 non-null  int64  \n",
            "dtypes: float64(2), int64(3), object(7)\n",
            "memory usage: 26.6+ MB\n"
          ]
        }
      ]
    },
    {
      "cell_type": "code",
      "source": [
        "price_car = fipe22.drop(['year_of_reference','month_of_reference','fipe_code','year_model','authentication','model'], axis = 1)"
      ],
      "metadata": {
        "id": "Grolj1R_Xq9C"
      },
      "execution_count": 84,
      "outputs": []
    },
    {
      "cell_type": "code",
      "source": [
        "price_car.info()"
      ],
      "metadata": {
        "colab": {
          "base_uri": "https://localhost:8080/"
        },
        "id": "in-B5sxnYm6l",
        "outputId": "30a66f2d-19ff-4e8c-cb12-c2c0f3c5b7f2"
      },
      "execution_count": 85,
      "outputs": [
        {
          "output_type": "stream",
          "name": "stdout",
          "text": [
            "<class 'pandas.core.frame.DataFrame'>\n",
            "RangeIndex: 290275 entries, 0 to 290274\n",
            "Data columns (total 6 columns):\n",
            " #   Column         Non-Null Count   Dtype  \n",
            "---  ------         --------------   -----  \n",
            " 0   brand          290275 non-null  object \n",
            " 1   fuel           290275 non-null  object \n",
            " 2   gear           290275 non-null  object \n",
            " 3   engine_size    290275 non-null  float64\n",
            " 4   avg_price_brl  290275 non-null  float64\n",
            " 5   age_years      290275 non-null  int64  \n",
            "dtypes: float64(2), int64(1), object(3)\n",
            "memory usage: 13.3+ MB\n"
          ]
        }
      ]
    },
    {
      "cell_type": "markdown",
      "source": [
        "## Binarização de variáveis categóricas"
      ],
      "metadata": {
        "id": "hlPsN74PPtRR"
      }
    },
    {
      "cell_type": "code",
      "source": [
        "avg_price = pd.get_dummies(data = price_car, columns = ['brand','fuel','gear'])"
      ],
      "metadata": {
        "id": "2aohRZHoZFc1"
      },
      "execution_count": 86,
      "outputs": []
    },
    {
      "cell_type": "code",
      "source": [
        "avg_price.info()"
      ],
      "metadata": {
        "colab": {
          "base_uri": "https://localhost:8080/"
        },
        "id": "SsyJ6bGyatNE",
        "outputId": "58931aa8-cfaa-4d9a-99f1-19b1788ca87e"
      },
      "execution_count": 87,
      "outputs": [
        {
          "output_type": "stream",
          "name": "stdout",
          "text": [
            "<class 'pandas.core.frame.DataFrame'>\n",
            "RangeIndex: 290275 entries, 0 to 290274\n",
            "Data columns (total 31 columns):\n",
            " #   Column                 Non-Null Count   Dtype  \n",
            "---  ------                 --------------   -----  \n",
            " 0   engine_size            290275 non-null  float64\n",
            " 1   avg_price_brl          290275 non-null  float64\n",
            " 2   age_years              290275 non-null  int64  \n",
            " 3   brand_Audi             290275 non-null  uint8  \n",
            " 4   brand_BMW              290275 non-null  uint8  \n",
            " 5   brand_Citroën          290275 non-null  uint8  \n",
            " 6   brand_Fiat             290275 non-null  uint8  \n",
            " 7   brand_Ford             290275 non-null  uint8  \n",
            " 8   brand_GM - Chevrolet   290275 non-null  uint8  \n",
            " 9   brand_Honda            290275 non-null  uint8  \n",
            " 10  brand_Hyundai          290275 non-null  uint8  \n",
            " 11  brand_Jeep             290275 non-null  uint8  \n",
            " 12  brand_Kia Motors       290275 non-null  uint8  \n",
            " 13  brand_Land Rover       290275 non-null  uint8  \n",
            " 14  brand_Mercedes-Benz    290275 non-null  uint8  \n",
            " 15  brand_Mitsubishi       290275 non-null  uint8  \n",
            " 16  brand_Nissan           290275 non-null  uint8  \n",
            " 17  brand_Others Brands    290275 non-null  uint8  \n",
            " 18  brand_Peugeot          290275 non-null  uint8  \n",
            " 19  brand_Porsche          290275 non-null  uint8  \n",
            " 20  brand_Renault          290275 non-null  uint8  \n",
            " 21  brand_Subaru           290275 non-null  uint8  \n",
            " 22  brand_Suzuki           290275 non-null  uint8  \n",
            " 23  brand_Toyota           290275 non-null  uint8  \n",
            " 24  brand_VW - VolksWagen  290275 non-null  uint8  \n",
            " 25  brand_Volvo            290275 non-null  uint8  \n",
            " 26  fuel_Alcohol           290275 non-null  uint8  \n",
            " 27  fuel_Diesel            290275 non-null  uint8  \n",
            " 28  fuel_Gasoline          290275 non-null  uint8  \n",
            " 29  gear_automatic         290275 non-null  uint8  \n",
            " 30  gear_manual            290275 non-null  uint8  \n",
            "dtypes: float64(2), int64(1), uint8(28)\n",
            "memory usage: 14.4 MB\n"
          ]
        }
      ]
    },
    {
      "cell_type": "code",
      "source": [
        "avg_price"
      ],
      "metadata": {
        "id": "1tS5MVK0dZfH",
        "outputId": "daa553bf-744b-4979-946e-0b0821aa6342",
        "colab": {
          "base_uri": "https://localhost:8080/",
          "height": 522
        }
      },
      "execution_count": 88,
      "outputs": [
        {
          "output_type": "execute_result",
          "data": {
            "text/plain": [
              "        engine_size  avg_price_brl  age_years  brand_Audi  brand_BMW  \\\n",
              "0               3.0        43779.0         28           0          0   \n",
              "1               3.0        42244.0         29           0          0   \n",
              "2               3.0        40841.0         30           0          0   \n",
              "3               3.0        39028.0         31           0          0   \n",
              "4               3.0        35678.0         32           0          0   \n",
              "...             ...            ...        ...         ...        ...   \n",
              "290270          1.6        22894.0         14           0          0   \n",
              "290271          1.6        22270.0         15           0          0   \n",
              "290272          1.6        21663.0         16           0          0   \n",
              "290273          1.6        21073.0         17           0          0   \n",
              "290274          1.6        18264.0         18           0          0   \n",
              "\n",
              "        brand_Citroën  brand_Fiat  brand_Ford  brand_GM - Chevrolet  \\\n",
              "0                   0           0           0                     0   \n",
              "1                   0           0           0                     0   \n",
              "2                   0           0           0                     0   \n",
              "3                   0           0           0                     0   \n",
              "4                   0           0           0                     0   \n",
              "...               ...         ...         ...                   ...   \n",
              "290270              0           0           0                     0   \n",
              "290271              0           0           0                     0   \n",
              "290272              0           0           0                     0   \n",
              "290273              0           0           0                     0   \n",
              "290274              0           0           0                     0   \n",
              "\n",
              "        brand_Honda  ...  brand_Subaru  brand_Suzuki  brand_Toyota  \\\n",
              "0                 0  ...             0             0             0   \n",
              "1                 0  ...             0             0             0   \n",
              "2                 0  ...             0             0             0   \n",
              "3                 0  ...             0             0             0   \n",
              "4                 0  ...             0             0             0   \n",
              "...             ...  ...           ...           ...           ...   \n",
              "290270            0  ...             0             0             0   \n",
              "290271            0  ...             0             0             0   \n",
              "290272            0  ...             0             0             0   \n",
              "290273            0  ...             0             0             0   \n",
              "290274            0  ...             0             0             0   \n",
              "\n",
              "        brand_VW - VolksWagen  brand_Volvo  fuel_Alcohol  fuel_Diesel  \\\n",
              "0                           0            0             0            0   \n",
              "1                           0            0             0            0   \n",
              "2                           0            0             0            0   \n",
              "3                           0            0             0            0   \n",
              "4                           0            0             0            0   \n",
              "...                       ...          ...           ...          ...   \n",
              "290270                      0            0             0            0   \n",
              "290271                      0            0             0            0   \n",
              "290272                      0            0             0            0   \n",
              "290273                      0            0             0            0   \n",
              "290274                      0            0             0            0   \n",
              "\n",
              "        fuel_Gasoline  gear_automatic  gear_manual  \n",
              "0                   1               0            1  \n",
              "1                   1               0            1  \n",
              "2                   1               0            1  \n",
              "3                   1               0            1  \n",
              "4                   1               0            1  \n",
              "...               ...             ...          ...  \n",
              "290270              1               0            1  \n",
              "290271              1               0            1  \n",
              "290272              1               0            1  \n",
              "290273              1               0            1  \n",
              "290274              1               0            1  \n",
              "\n",
              "[290275 rows x 31 columns]"
            ],
            "text/html": [
              "\n",
              "  <div id=\"df-993cbac9-fbac-4b6c-9cca-a303223dfa38\">\n",
              "    <div class=\"colab-df-container\">\n",
              "      <div>\n",
              "<style scoped>\n",
              "    .dataframe tbody tr th:only-of-type {\n",
              "        vertical-align: middle;\n",
              "    }\n",
              "\n",
              "    .dataframe tbody tr th {\n",
              "        vertical-align: top;\n",
              "    }\n",
              "\n",
              "    .dataframe thead th {\n",
              "        text-align: right;\n",
              "    }\n",
              "</style>\n",
              "<table border=\"1\" class=\"dataframe\">\n",
              "  <thead>\n",
              "    <tr style=\"text-align: right;\">\n",
              "      <th></th>\n",
              "      <th>engine_size</th>\n",
              "      <th>avg_price_brl</th>\n",
              "      <th>age_years</th>\n",
              "      <th>brand_Audi</th>\n",
              "      <th>brand_BMW</th>\n",
              "      <th>brand_Citroën</th>\n",
              "      <th>brand_Fiat</th>\n",
              "      <th>brand_Ford</th>\n",
              "      <th>brand_GM - Chevrolet</th>\n",
              "      <th>brand_Honda</th>\n",
              "      <th>...</th>\n",
              "      <th>brand_Subaru</th>\n",
              "      <th>brand_Suzuki</th>\n",
              "      <th>brand_Toyota</th>\n",
              "      <th>brand_VW - VolksWagen</th>\n",
              "      <th>brand_Volvo</th>\n",
              "      <th>fuel_Alcohol</th>\n",
              "      <th>fuel_Diesel</th>\n",
              "      <th>fuel_Gasoline</th>\n",
              "      <th>gear_automatic</th>\n",
              "      <th>gear_manual</th>\n",
              "    </tr>\n",
              "  </thead>\n",
              "  <tbody>\n",
              "    <tr>\n",
              "      <th>0</th>\n",
              "      <td>3.0</td>\n",
              "      <td>43779.0</td>\n",
              "      <td>28</td>\n",
              "      <td>0</td>\n",
              "      <td>0</td>\n",
              "      <td>0</td>\n",
              "      <td>0</td>\n",
              "      <td>0</td>\n",
              "      <td>0</td>\n",
              "      <td>0</td>\n",
              "      <td>...</td>\n",
              "      <td>0</td>\n",
              "      <td>0</td>\n",
              "      <td>0</td>\n",
              "      <td>0</td>\n",
              "      <td>0</td>\n",
              "      <td>0</td>\n",
              "      <td>0</td>\n",
              "      <td>1</td>\n",
              "      <td>0</td>\n",
              "      <td>1</td>\n",
              "    </tr>\n",
              "    <tr>\n",
              "      <th>1</th>\n",
              "      <td>3.0</td>\n",
              "      <td>42244.0</td>\n",
              "      <td>29</td>\n",
              "      <td>0</td>\n",
              "      <td>0</td>\n",
              "      <td>0</td>\n",
              "      <td>0</td>\n",
              "      <td>0</td>\n",
              "      <td>0</td>\n",
              "      <td>0</td>\n",
              "      <td>...</td>\n",
              "      <td>0</td>\n",
              "      <td>0</td>\n",
              "      <td>0</td>\n",
              "      <td>0</td>\n",
              "      <td>0</td>\n",
              "      <td>0</td>\n",
              "      <td>0</td>\n",
              "      <td>1</td>\n",
              "      <td>0</td>\n",
              "      <td>1</td>\n",
              "    </tr>\n",
              "    <tr>\n",
              "      <th>2</th>\n",
              "      <td>3.0</td>\n",
              "      <td>40841.0</td>\n",
              "      <td>30</td>\n",
              "      <td>0</td>\n",
              "      <td>0</td>\n",
              "      <td>0</td>\n",
              "      <td>0</td>\n",
              "      <td>0</td>\n",
              "      <td>0</td>\n",
              "      <td>0</td>\n",
              "      <td>...</td>\n",
              "      <td>0</td>\n",
              "      <td>0</td>\n",
              "      <td>0</td>\n",
              "      <td>0</td>\n",
              "      <td>0</td>\n",
              "      <td>0</td>\n",
              "      <td>0</td>\n",
              "      <td>1</td>\n",
              "      <td>0</td>\n",
              "      <td>1</td>\n",
              "    </tr>\n",
              "    <tr>\n",
              "      <th>3</th>\n",
              "      <td>3.0</td>\n",
              "      <td>39028.0</td>\n",
              "      <td>31</td>\n",
              "      <td>0</td>\n",
              "      <td>0</td>\n",
              "      <td>0</td>\n",
              "      <td>0</td>\n",
              "      <td>0</td>\n",
              "      <td>0</td>\n",
              "      <td>0</td>\n",
              "      <td>...</td>\n",
              "      <td>0</td>\n",
              "      <td>0</td>\n",
              "      <td>0</td>\n",
              "      <td>0</td>\n",
              "      <td>0</td>\n",
              "      <td>0</td>\n",
              "      <td>0</td>\n",
              "      <td>1</td>\n",
              "      <td>0</td>\n",
              "      <td>1</td>\n",
              "    </tr>\n",
              "    <tr>\n",
              "      <th>4</th>\n",
              "      <td>3.0</td>\n",
              "      <td>35678.0</td>\n",
              "      <td>32</td>\n",
              "      <td>0</td>\n",
              "      <td>0</td>\n",
              "      <td>0</td>\n",
              "      <td>0</td>\n",
              "      <td>0</td>\n",
              "      <td>0</td>\n",
              "      <td>0</td>\n",
              "      <td>...</td>\n",
              "      <td>0</td>\n",
              "      <td>0</td>\n",
              "      <td>0</td>\n",
              "      <td>0</td>\n",
              "      <td>0</td>\n",
              "      <td>0</td>\n",
              "      <td>0</td>\n",
              "      <td>1</td>\n",
              "      <td>0</td>\n",
              "      <td>1</td>\n",
              "    </tr>\n",
              "    <tr>\n",
              "      <th>...</th>\n",
              "      <td>...</td>\n",
              "      <td>...</td>\n",
              "      <td>...</td>\n",
              "      <td>...</td>\n",
              "      <td>...</td>\n",
              "      <td>...</td>\n",
              "      <td>...</td>\n",
              "      <td>...</td>\n",
              "      <td>...</td>\n",
              "      <td>...</td>\n",
              "      <td>...</td>\n",
              "      <td>...</td>\n",
              "      <td>...</td>\n",
              "      <td>...</td>\n",
              "      <td>...</td>\n",
              "      <td>...</td>\n",
              "      <td>...</td>\n",
              "      <td>...</td>\n",
              "      <td>...</td>\n",
              "      <td>...</td>\n",
              "      <td>...</td>\n",
              "    </tr>\n",
              "    <tr>\n",
              "      <th>290270</th>\n",
              "      <td>1.6</td>\n",
              "      <td>22894.0</td>\n",
              "      <td>14</td>\n",
              "      <td>0</td>\n",
              "      <td>0</td>\n",
              "      <td>0</td>\n",
              "      <td>0</td>\n",
              "      <td>0</td>\n",
              "      <td>0</td>\n",
              "      <td>0</td>\n",
              "      <td>...</td>\n",
              "      <td>0</td>\n",
              "      <td>0</td>\n",
              "      <td>0</td>\n",
              "      <td>0</td>\n",
              "      <td>0</td>\n",
              "      <td>0</td>\n",
              "      <td>0</td>\n",
              "      <td>1</td>\n",
              "      <td>0</td>\n",
              "      <td>1</td>\n",
              "    </tr>\n",
              "    <tr>\n",
              "      <th>290271</th>\n",
              "      <td>1.6</td>\n",
              "      <td>22270.0</td>\n",
              "      <td>15</td>\n",
              "      <td>0</td>\n",
              "      <td>0</td>\n",
              "      <td>0</td>\n",
              "      <td>0</td>\n",
              "      <td>0</td>\n",
              "      <td>0</td>\n",
              "      <td>0</td>\n",
              "      <td>...</td>\n",
              "      <td>0</td>\n",
              "      <td>0</td>\n",
              "      <td>0</td>\n",
              "      <td>0</td>\n",
              "      <td>0</td>\n",
              "      <td>0</td>\n",
              "      <td>0</td>\n",
              "      <td>1</td>\n",
              "      <td>0</td>\n",
              "      <td>1</td>\n",
              "    </tr>\n",
              "    <tr>\n",
              "      <th>290272</th>\n",
              "      <td>1.6</td>\n",
              "      <td>21663.0</td>\n",
              "      <td>16</td>\n",
              "      <td>0</td>\n",
              "      <td>0</td>\n",
              "      <td>0</td>\n",
              "      <td>0</td>\n",
              "      <td>0</td>\n",
              "      <td>0</td>\n",
              "      <td>0</td>\n",
              "      <td>...</td>\n",
              "      <td>0</td>\n",
              "      <td>0</td>\n",
              "      <td>0</td>\n",
              "      <td>0</td>\n",
              "      <td>0</td>\n",
              "      <td>0</td>\n",
              "      <td>0</td>\n",
              "      <td>1</td>\n",
              "      <td>0</td>\n",
              "      <td>1</td>\n",
              "    </tr>\n",
              "    <tr>\n",
              "      <th>290273</th>\n",
              "      <td>1.6</td>\n",
              "      <td>21073.0</td>\n",
              "      <td>17</td>\n",
              "      <td>0</td>\n",
              "      <td>0</td>\n",
              "      <td>0</td>\n",
              "      <td>0</td>\n",
              "      <td>0</td>\n",
              "      <td>0</td>\n",
              "      <td>0</td>\n",
              "      <td>...</td>\n",
              "      <td>0</td>\n",
              "      <td>0</td>\n",
              "      <td>0</td>\n",
              "      <td>0</td>\n",
              "      <td>0</td>\n",
              "      <td>0</td>\n",
              "      <td>0</td>\n",
              "      <td>1</td>\n",
              "      <td>0</td>\n",
              "      <td>1</td>\n",
              "    </tr>\n",
              "    <tr>\n",
              "      <th>290274</th>\n",
              "      <td>1.6</td>\n",
              "      <td>18264.0</td>\n",
              "      <td>18</td>\n",
              "      <td>0</td>\n",
              "      <td>0</td>\n",
              "      <td>0</td>\n",
              "      <td>0</td>\n",
              "      <td>0</td>\n",
              "      <td>0</td>\n",
              "      <td>0</td>\n",
              "      <td>...</td>\n",
              "      <td>0</td>\n",
              "      <td>0</td>\n",
              "      <td>0</td>\n",
              "      <td>0</td>\n",
              "      <td>0</td>\n",
              "      <td>0</td>\n",
              "      <td>0</td>\n",
              "      <td>1</td>\n",
              "      <td>0</td>\n",
              "      <td>1</td>\n",
              "    </tr>\n",
              "  </tbody>\n",
              "</table>\n",
              "<p>290275 rows × 31 columns</p>\n",
              "</div>\n",
              "      <button class=\"colab-df-convert\" onclick=\"convertToInteractive('df-993cbac9-fbac-4b6c-9cca-a303223dfa38')\"\n",
              "              title=\"Convert this dataframe to an interactive table.\"\n",
              "              style=\"display:none;\">\n",
              "        \n",
              "  <svg xmlns=\"http://www.w3.org/2000/svg\" height=\"24px\"viewBox=\"0 0 24 24\"\n",
              "       width=\"24px\">\n",
              "    <path d=\"M0 0h24v24H0V0z\" fill=\"none\"/>\n",
              "    <path d=\"M18.56 5.44l.94 2.06.94-2.06 2.06-.94-2.06-.94-.94-2.06-.94 2.06-2.06.94zm-11 1L8.5 8.5l.94-2.06 2.06-.94-2.06-.94L8.5 2.5l-.94 2.06-2.06.94zm10 10l.94 2.06.94-2.06 2.06-.94-2.06-.94-.94-2.06-.94 2.06-2.06.94z\"/><path d=\"M17.41 7.96l-1.37-1.37c-.4-.4-.92-.59-1.43-.59-.52 0-1.04.2-1.43.59L10.3 9.45l-7.72 7.72c-.78.78-.78 2.05 0 2.83L4 21.41c.39.39.9.59 1.41.59.51 0 1.02-.2 1.41-.59l7.78-7.78 2.81-2.81c.8-.78.8-2.07 0-2.86zM5.41 20L4 18.59l7.72-7.72 1.47 1.35L5.41 20z\"/>\n",
              "  </svg>\n",
              "      </button>\n",
              "      \n",
              "  <style>\n",
              "    .colab-df-container {\n",
              "      display:flex;\n",
              "      flex-wrap:wrap;\n",
              "      gap: 12px;\n",
              "    }\n",
              "\n",
              "    .colab-df-convert {\n",
              "      background-color: #E8F0FE;\n",
              "      border: none;\n",
              "      border-radius: 50%;\n",
              "      cursor: pointer;\n",
              "      display: none;\n",
              "      fill: #1967D2;\n",
              "      height: 32px;\n",
              "      padding: 0 0 0 0;\n",
              "      width: 32px;\n",
              "    }\n",
              "\n",
              "    .colab-df-convert:hover {\n",
              "      background-color: #E2EBFA;\n",
              "      box-shadow: 0px 1px 2px rgba(60, 64, 67, 0.3), 0px 1px 3px 1px rgba(60, 64, 67, 0.15);\n",
              "      fill: #174EA6;\n",
              "    }\n",
              "\n",
              "    [theme=dark] .colab-df-convert {\n",
              "      background-color: #3B4455;\n",
              "      fill: #D2E3FC;\n",
              "    }\n",
              "\n",
              "    [theme=dark] .colab-df-convert:hover {\n",
              "      background-color: #434B5C;\n",
              "      box-shadow: 0px 1px 3px 1px rgba(0, 0, 0, 0.15);\n",
              "      filter: drop-shadow(0px 1px 2px rgba(0, 0, 0, 0.3));\n",
              "      fill: #FFFFFF;\n",
              "    }\n",
              "  </style>\n",
              "\n",
              "      <script>\n",
              "        const buttonEl =\n",
              "          document.querySelector('#df-993cbac9-fbac-4b6c-9cca-a303223dfa38 button.colab-df-convert');\n",
              "        buttonEl.style.display =\n",
              "          google.colab.kernel.accessAllowed ? 'block' : 'none';\n",
              "\n",
              "        async function convertToInteractive(key) {\n",
              "          const element = document.querySelector('#df-993cbac9-fbac-4b6c-9cca-a303223dfa38');\n",
              "          const dataTable =\n",
              "            await google.colab.kernel.invokeFunction('convertToInteractive',\n",
              "                                                     [key], {});\n",
              "          if (!dataTable) return;\n",
              "\n",
              "          const docLinkHtml = 'Like what you see? Visit the ' +\n",
              "            '<a target=\"_blank\" href=https://colab.research.google.com/notebooks/data_table.ipynb>data table notebook</a>'\n",
              "            + ' to learn more about interactive tables.';\n",
              "          element.innerHTML = '';\n",
              "          dataTable['output_type'] = 'display_data';\n",
              "          await google.colab.output.renderOutput(dataTable, element);\n",
              "          const docLink = document.createElement('div');\n",
              "          docLink.innerHTML = docLinkHtml;\n",
              "          element.appendChild(docLink);\n",
              "        }\n",
              "      </script>\n",
              "    </div>\n",
              "  </div>\n",
              "  "
            ]
          },
          "metadata": {},
          "execution_count": 88
        }
      ]
    },
    {
      "cell_type": "markdown",
      "source": [
        "## Transformação de Variáveis: Yeo-Johnson"
      ],
      "metadata": {
        "id": "I4w1zHxu7MTd"
      }
    },
    {
      "cell_type": "code",
      "source": [
        "sns.displot(avg_price, x='age_years', kind ='kde')\n",
        "\n",
        "sns.displot(avg_price, x='engine_size', kind ='kde')\n"
      ],
      "metadata": {
        "colab": {
          "base_uri": "https://localhost:8080/",
          "height": 738
        },
        "id": "uGrfxrtiBXhi",
        "outputId": "b9d91333-a49a-4d0e-a94d-d2fb24a8a548"
      },
      "execution_count": 89,
      "outputs": [
        {
          "output_type": "execute_result",
          "data": {
            "text/plain": [
              "<seaborn.axisgrid.FacetGrid at 0x7f909da0eac0>"
            ]
          },
          "metadata": {},
          "execution_count": 89
        },
        {
          "output_type": "display_data",
          "data": {
            "text/plain": [
              "<Figure size 360x360 with 1 Axes>"
            ],
            "image/png": "[encoded data removed]"
          },
          "metadata": {
            "needs_background": "light"
          }
        },
        {
          "output_type": "display_data",
          "data": {
            "text/plain": [
              "<Figure size 360x360 with 1 Axes>"
            ],
            "image/png": "[encoded data removed]"
          },
          "metadata": {
            "needs_background": "light"
          }
        }
      ]
    },
    {
      "cell_type": "code",
      "source": [
        "avg_price[[\"age_years\", \"engine_size\"]].describe()"
      ],
      "metadata": {
        "colab": {
          "base_uri": "https://localhost:8080/",
          "height": 300
        },
        "id": "cgYQ_8ipGKvs",
        "outputId": "99e0617e-6681-47a6-f916-ee0c59e34cdd"
      },
      "execution_count": 90,
      "outputs": [
        {
          "output_type": "execute_result",
          "data": {
            "text/plain": [
              "           age_years    engine_size\n",
              "count  290275.000000  290275.000000\n",
              "mean       14.103367       2.266047\n",
              "std         9.263619       1.033109\n",
              "min         0.000000       0.700000\n",
              "25%         7.000000       1.600000\n",
              "50%        13.000000       2.000000\n",
              "75%        22.000000       2.800000\n",
              "max        38.000000       6.700000"
            ],
            "text/html": [
              "\n",
              "  <div id=\"df-84339bd2-84c5-4089-bb8a-5b4b5d9eeffc\">\n",
              "    <div class=\"colab-df-container\">\n",
              "      <div>\n",
              "<style scoped>\n",
              "    .dataframe tbody tr th:only-of-type {\n",
              "        vertical-align: middle;\n",
              "    }\n",
              "\n",
              "    .dataframe tbody tr th {\n",
              "        vertical-align: top;\n",
              "    }\n",
              "\n",
              "    .dataframe thead th {\n",
              "        text-align: right;\n",
              "    }\n",
              "</style>\n",
              "<table border=\"1\" class=\"dataframe\">\n",
              "  <thead>\n",
              "    <tr style=\"text-align: right;\">\n",
              "      <th></th>\n",
              "      <th>age_years</th>\n",
              "      <th>engine_size</th>\n",
              "    </tr>\n",
              "  </thead>\n",
              "  <tbody>\n",
              "    <tr>\n",
              "      <th>count</th>\n",
              "      <td>290275.000000</td>\n",
              "      <td>290275.000000</td>\n",
              "    </tr>\n",
              "    <tr>\n",
              "      <th>mean</th>\n",
              "      <td>14.103367</td>\n",
              "      <td>2.266047</td>\n",
              "    </tr>\n",
              "    <tr>\n",
              "      <th>std</th>\n",
              "      <td>9.263619</td>\n",
              "      <td>1.033109</td>\n",
              "    </tr>\n",
              "    <tr>\n",
              "      <th>min</th>\n",
              "      <td>0.000000</td>\n",
              "      <td>0.700000</td>\n",
              "    </tr>\n",
              "    <tr>\n",
              "      <th>25%</th>\n",
              "      <td>7.000000</td>\n",
              "      <td>1.600000</td>\n",
              "    </tr>\n",
              "    <tr>\n",
              "      <th>50%</th>\n",
              "      <td>13.000000</td>\n",
              "      <td>2.000000</td>\n",
              "    </tr>\n",
              "    <tr>\n",
              "      <th>75%</th>\n",
              "      <td>22.000000</td>\n",
              "      <td>2.800000</td>\n",
              "    </tr>\n",
              "    <tr>\n",
              "      <th>max</th>\n",
              "      <td>38.000000</td>\n",
              "      <td>6.700000</td>\n",
              "    </tr>\n",
              "  </tbody>\n",
              "</table>\n",
              "</div>\n",
              "      <button class=\"colab-df-convert\" onclick=\"convertToInteractive('df-84339bd2-84c5-4089-bb8a-5b4b5d9eeffc')\"\n",
              "              title=\"Convert this dataframe to an interactive table.\"\n",
              "              style=\"display:none;\">\n",
              "        \n",
              "  <svg xmlns=\"http://www.w3.org/2000/svg\" height=\"24px\"viewBox=\"0 0 24 24\"\n",
              "       width=\"24px\">\n",
              "    <path d=\"M0 0h24v24H0V0z\" fill=\"none\"/>\n",
              "    <path d=\"M18.56 5.44l.94 2.06.94-2.06 2.06-.94-2.06-.94-.94-2.06-.94 2.06-2.06.94zm-11 1L8.5 8.5l.94-2.06 2.06-.94-2.06-.94L8.5 2.5l-.94 2.06-2.06.94zm10 10l.94 2.06.94-2.06 2.06-.94-2.06-.94-.94-2.06-.94 2.06-2.06.94z\"/><path d=\"M17.41 7.96l-1.37-1.37c-.4-.4-.92-.59-1.43-.59-.52 0-1.04.2-1.43.59L10.3 9.45l-7.72 7.72c-.78.78-.78 2.05 0 2.83L4 21.41c.39.39.9.59 1.41.59.51 0 1.02-.2 1.41-.59l7.78-7.78 2.81-2.81c.8-.78.8-2.07 0-2.86zM5.41 20L4 18.59l7.72-7.72 1.47 1.35L5.41 20z\"/>\n",
              "  </svg>\n",
              "      </button>\n",
              "      \n",
              "  <style>\n",
              "    .colab-df-container {\n",
              "      display:flex;\n",
              "      flex-wrap:wrap;\n",
              "      gap: 12px;\n",
              "    }\n",
              "\n",
              "    .colab-df-convert {\n",
              "      background-color: #E8F0FE;\n",
              "      border: none;\n",
              "      border-radius: 50%;\n",
              "      cursor: pointer;\n",
              "      display: none;\n",
              "      fill: #1967D2;\n",
              "      height: 32px;\n",
              "      padding: 0 0 0 0;\n",
              "      width: 32px;\n",
              "    }\n",
              "\n",
              "    .colab-df-convert:hover {\n",
              "      background-color: #E2EBFA;\n",
              "      box-shadow: 0px 1px 2px rgba(60, 64, 67, 0.3), 0px 1px 3px 1px rgba(60, 64, 67, 0.15);\n",
              "      fill: #174EA6;\n",
              "    }\n",
              "\n",
              "    [theme=dark] .colab-df-convert {\n",
              "      background-color: #3B4455;\n",
              "      fill: #D2E3FC;\n",
              "    }\n",
              "\n",
              "    [theme=dark] .colab-df-convert:hover {\n",
              "      background-color: #434B5C;\n",
              "      box-shadow: 0px 1px 3px 1px rgba(0, 0, 0, 0.15);\n",
              "      filter: drop-shadow(0px 1px 2px rgba(0, 0, 0, 0.3));\n",
              "      fill: #FFFFFF;\n",
              "    }\n",
              "  </style>\n",
              "\n",
              "      <script>\n",
              "        const buttonEl =\n",
              "          document.querySelector('#df-84339bd2-84c5-4089-bb8a-5b4b5d9eeffc button.colab-df-convert');\n",
              "        buttonEl.style.display =\n",
              "          google.colab.kernel.accessAllowed ? 'block' : 'none';\n",
              "\n",
              "        async function convertToInteractive(key) {\n",
              "          const element = document.querySelector('#df-84339bd2-84c5-4089-bb8a-5b4b5d9eeffc');\n",
              "          const dataTable =\n",
              "            await google.colab.kernel.invokeFunction('convertToInteractive',\n",
              "                                                     [key], {});\n",
              "          if (!dataTable) return;\n",
              "\n",
              "          const docLinkHtml = 'Like what you see? Visit the ' +\n",
              "            '<a target=\"_blank\" href=https://colab.research.google.com/notebooks/data_table.ipynb>data table notebook</a>'\n",
              "            + ' to learn more about interactive tables.';\n",
              "          element.innerHTML = '';\n",
              "          dataTable['output_type'] = 'display_data';\n",
              "          await google.colab.output.renderOutput(dataTable, element);\n",
              "          const docLink = document.createElement('div');\n",
              "          docLink.innerHTML = docLinkHtml;\n",
              "          element.appendChild(docLink);\n",
              "        }\n",
              "      </script>\n",
              "    </div>\n",
              "  </div>\n",
              "  "
            ]
          },
          "metadata": {},
          "execution_count": 90
        }
      ]
    },
    {
      "cell_type": "code",
      "source": [
        "from sklearn.preprocessing import PowerTransformer\n",
        "from sklearn import preprocessing"
      ],
      "metadata": {
        "id": "aVZoo-vlFM9C"
      },
      "execution_count": 91,
      "outputs": []
    },
    {
      "cell_type": "code",
      "source": [
        "features_num = avg_price[['engine_size','age_years']]"
      ],
      "metadata": {
        "id": "n4oiFcGbFSJh"
      },
      "execution_count": 92,
      "outputs": []
    },
    {
      "cell_type": "code",
      "source": [
        "pt = preprocessing.PowerTransformer(method='yeo-johnson', standardize=False)\n",
        "yeoj = pt.fit_transform(features_num)"
      ],
      "metadata": {
        "id": "Bdz2YNV8Fq4C"
      },
      "execution_count": 93,
      "outputs": []
    },
    {
      "cell_type": "code",
      "source": [
        "yeo_colunas = list(features_num.columns)\n",
        "yeo_colunas"
      ],
      "metadata": {
        "colab": {
          "base_uri": "https://localhost:8080/"
        },
        "id": "SGO1km28JVVj",
        "outputId": "146b687a-5464-4fba-fbcc-d38362c6f815"
      },
      "execution_count": 94,
      "outputs": [
        {
          "output_type": "execute_result",
          "data": {
            "text/plain": [
              "['engine_size', 'age_years']"
            ]
          },
          "metadata": {},
          "execution_count": 94
        }
      ]
    },
    {
      "cell_type": "code",
      "source": [
        "X_yeo= pd.DataFrame(yeoj, columns = yeo_colunas)"
      ],
      "metadata": {
        "id": "JygGX2lGJgYy"
      },
      "execution_count": 95,
      "outputs": []
    },
    {
      "cell_type": "code",
      "source": [
        "sns.displot(X_yeo, x='age_years', kind ='kde')\n",
        "\n",
        "sns.displot(X_yeo, x='engine_size', kind ='kde')"
      ],
      "metadata": {
        "colab": {
          "base_uri": "https://localhost:8080/",
          "height": 738
        },
        "id": "EjDXtSEiHYzK",
        "outputId": "3976665e-e238-4303-9789-290e8bb202af"
      },
      "execution_count": 96,
      "outputs": [
        {
          "output_type": "execute_result",
          "data": {
            "text/plain": [
              "<seaborn.axisgrid.FacetGrid at 0x7f909643d5e0>"
            ]
          },
          "metadata": {},
          "execution_count": 96
        },
        {
          "output_type": "display_data",
          "data": {
            "text/plain": [
              "<Figure size 360x360 with 1 Axes>"
            ],
            "image/png": "[encoded data removed]"
          },
          "metadata": {
            "needs_background": "light"
          }
        },
        {
          "output_type": "display_data",
          "data": {
            "text/plain": [
              "<Figure size 360x360 with 1 Axes>"
            ],
            "image/png": "[encoded data removed]"
          },
          "metadata": {
            "needs_background": "light"
          }
        }
      ]
    },
    {
      "cell_type": "code",
      "source": [
        "avg_price = avg_price.drop(['engine_size','age_years'], axis = 1)"
      ],
      "metadata": {
        "id": "p6Rblj1xM0Dw"
      },
      "execution_count": 97,
      "outputs": []
    },
    {
      "cell_type": "code",
      "source": [
        "avg_price = pd.concat([avg_price, X_yeo], axis = 1)"
      ],
      "metadata": {
        "id": "pEyf-c0hNdT7"
      },
      "execution_count": 98,
      "outputs": []
    },
    {
      "cell_type": "markdown",
      "source": [
        "## Transformação de variáveis: Padronização"
      ],
      "metadata": {
        "id": "G26UqUlWdeFt"
      }
    },
    {
      "cell_type": "code",
      "source": [
        "X_avg_price = avg_price.drop(['avg_price_brl'], axis = 1)\n",
        "y_price = avg_price['avg_price_brl']"
      ],
      "metadata": {
        "id": "7Q6ToFfPeQIO"
      },
      "execution_count": 99,
      "outputs": []
    },
    {
      "cell_type": "code",
      "source": [
        "columns = list(X_avg_price.columns)"
      ],
      "metadata": {
        "id": "SvAWhRP7Le1D"
      },
      "execution_count": 100,
      "outputs": []
    },
    {
      "cell_type": "code",
      "source": [
        "from sklearn.preprocessing import StandardScaler"
      ],
      "metadata": {
        "id": "RcS_QNtuLwRB"
      },
      "execution_count": 101,
      "outputs": []
    },
    {
      "cell_type": "code",
      "source": [
        "scaler = preprocessing.StandardScaler()\n",
        "X_scl = scaler.fit_transform(X_avg_price)"
      ],
      "metadata": {
        "id": "vFwU7byOLrcJ"
      },
      "execution_count": 102,
      "outputs": []
    },
    {
      "cell_type": "code",
      "source": [
        "X_price = pd.DataFrame(X_scl, columns = columns)"
      ],
      "metadata": {
        "id": "oqbSDIvzMCPi"
      },
      "execution_count": 103,
      "outputs": []
    },
    {
      "cell_type": "code",
      "source": [
        "X_price"
      ],
      "metadata": {
        "id": "IKe6bY6BgD0d",
        "outputId": "767e7852-df81-43ea-c859-7c9990569701",
        "colab": {
          "base_uri": "https://localhost:8080/",
          "height": 522
        }
      },
      "execution_count": 104,
      "outputs": [
        {
          "output_type": "execute_result",
          "data": {
            "text/plain": [
              "        brand_Audi  brand_BMW  brand_Citroën  brand_Fiat  brand_Ford  \\\n",
              "0        -0.209172  -0.189476      -0.176609   -0.317376   -0.301242   \n",
              "1        -0.209172  -0.189476      -0.176609   -0.317376   -0.301242   \n",
              "2        -0.209172  -0.189476      -0.176609   -0.317376   -0.301242   \n",
              "3        -0.209172  -0.189476      -0.176609   -0.317376   -0.301242   \n",
              "4        -0.209172  -0.189476      -0.176609   -0.317376   -0.301242   \n",
              "...            ...        ...            ...         ...         ...   \n",
              "290270   -0.209172  -0.189476      -0.176609   -0.317376   -0.301242   \n",
              "290271   -0.209172  -0.189476      -0.176609   -0.317376   -0.301242   \n",
              "290272   -0.209172  -0.189476      -0.176609   -0.317376   -0.301242   \n",
              "290273   -0.209172  -0.189476      -0.176609   -0.317376   -0.301242   \n",
              "290274   -0.209172  -0.189476      -0.176609   -0.317376   -0.301242   \n",
              "\n",
              "        brand_GM - Chevrolet  brand_Honda  brand_Hyundai  brand_Jeep  \\\n",
              "0                  -0.327893    -0.141654      -0.162691   -0.112941   \n",
              "1                  -0.327893    -0.141654      -0.162691   -0.112941   \n",
              "2                  -0.327893    -0.141654      -0.162691   -0.112941   \n",
              "3                  -0.327893    -0.141654      -0.162691   -0.112941   \n",
              "4                  -0.327893    -0.141654      -0.162691   -0.112941   \n",
              "...                      ...          ...            ...         ...   \n",
              "290270             -0.327893    -0.141654      -0.162691   -0.112941   \n",
              "290271             -0.327893    -0.141654      -0.162691   -0.112941   \n",
              "290272             -0.327893    -0.141654      -0.162691   -0.112941   \n",
              "290273             -0.327893    -0.141654      -0.162691   -0.112941   \n",
              "290274             -0.327893    -0.141654      -0.162691   -0.112941   \n",
              "\n",
              "        brand_Kia Motors  ...  brand_Toyota  brand_VW - VolksWagen  \\\n",
              "0              -0.138625  ...     -0.191891              -0.327655   \n",
              "1              -0.138625  ...     -0.191891              -0.327655   \n",
              "2              -0.138625  ...     -0.191891              -0.327655   \n",
              "3              -0.138625  ...     -0.191891              -0.327655   \n",
              "4              -0.138625  ...     -0.191891              -0.327655   \n",
              "...                  ...  ...           ...                    ...   \n",
              "290270         -0.138625  ...     -0.191891              -0.327655   \n",
              "290271         -0.138625  ...     -0.191891              -0.327655   \n",
              "290272         -0.138625  ...     -0.191891              -0.327655   \n",
              "290273         -0.138625  ...     -0.191891              -0.327655   \n",
              "290274         -0.138625  ...     -0.191891              -0.327655   \n",
              "\n",
              "        brand_Volvo  fuel_Alcohol  fuel_Diesel  fuel_Gasoline  gear_automatic  \\\n",
              "0         -0.146131      -0.12533    -0.439609       0.464424       -0.616725   \n",
              "1         -0.146131      -0.12533    -0.439609       0.464424       -0.616725   \n",
              "2         -0.146131      -0.12533    -0.439609       0.464424       -0.616725   \n",
              "3         -0.146131      -0.12533    -0.439609       0.464424       -0.616725   \n",
              "4         -0.146131      -0.12533    -0.439609       0.464424       -0.616725   \n",
              "...             ...           ...          ...            ...             ...   \n",
              "290270    -0.146131      -0.12533    -0.439609       0.464424       -0.616725   \n",
              "290271    -0.146131      -0.12533    -0.439609       0.464424       -0.616725   \n",
              "290272    -0.146131      -0.12533    -0.439609       0.464424       -0.616725   \n",
              "290273    -0.146131      -0.12533    -0.439609       0.464424       -0.616725   \n",
              "290274    -0.146131      -0.12533    -0.439609       0.464424       -0.616725   \n",
              "\n",
              "        gear_manual  engine_size  age_years  \n",
              "0          0.616725     0.951664   1.354351  \n",
              "1          0.616725     0.951664   1.429185  \n",
              "2          0.616725     0.951664   1.502896  \n",
              "3          0.616725     0.951664   1.575537  \n",
              "4          0.616725     0.951664   1.647157  \n",
              "...             ...          ...        ...  \n",
              "290270     0.616725    -0.624170   0.143891  \n",
              "290271     0.616725    -0.624170   0.244069  \n",
              "290272     0.616725    -0.624170   0.341447  \n",
              "290273     0.616725    -0.624170   0.436262  \n",
              "290274     0.616725    -0.624170   0.528719  \n",
              "\n",
              "[290275 rows x 30 columns]"
            ],
            "text/html": [
              "\n",
              "  <div id=\"df-863da7a1-fb74-481e-8965-34fe2305c62e\">\n",
              "    <div class=\"colab-df-container\">\n",
              "      <div>\n",
              "<style scoped>\n",
              "    .dataframe tbody tr th:only-of-type {\n",
              "        vertical-align: middle;\n",
              "    }\n",
              "\n",
              "    .dataframe tbody tr th {\n",
              "        vertical-align: top;\n",
              "    }\n",
              "\n",
              "    .dataframe thead th {\n",
              "        text-align: right;\n",
              "    }\n",
              "</style>\n",
              "<table border=\"1\" class=\"dataframe\">\n",
              "  <thead>\n",
              "    <tr style=\"text-align: right;\">\n",
              "      <th></th>\n",
              "      <th>brand_Audi</th>\n",
              "      <th>brand_BMW</th>\n",
              "      <th>brand_Citroën</th>\n",
              "      <th>brand_Fiat</th>\n",
              "      <th>brand_Ford</th>\n",
              "      <th>brand_GM - Chevrolet</th>\n",
              "      <th>brand_Honda</th>\n",
              "      <th>brand_Hyundai</th>\n",
              "      <th>brand_Jeep</th>\n",
              "      <th>brand_Kia Motors</th>\n",
              "      <th>...</th>\n",
              "      <th>brand_Toyota</th>\n",
              "      <th>brand_VW - VolksWagen</th>\n",
              "      <th>brand_Volvo</th>\n",
              "      <th>fuel_Alcohol</th>\n",
              "      <th>fuel_Diesel</th>\n",
              "      <th>fuel_Gasoline</th>\n",
              "      <th>gear_automatic</th>\n",
              "      <th>gear_manual</th>\n",
              "      <th>engine_size</th>\n",
              "      <th>age_years</th>\n",
              "    </tr>\n",
              "  </thead>\n",
              "  <tbody>\n",
              "    <tr>\n",
              "      <th>0</th>\n",
              "      <td>-0.209172</td>\n",
              "      <td>-0.189476</td>\n",
              "      <td>-0.176609</td>\n",
              "      <td>-0.317376</td>\n",
              "      <td>-0.301242</td>\n",
              "      <td>-0.327893</td>\n",
              "      <td>-0.141654</td>\n",
              "      <td>-0.162691</td>\n",
              "      <td>-0.112941</td>\n",
              "      <td>-0.138625</td>\n",
              "      <td>...</td>\n",
              "      <td>-0.191891</td>\n",
              "      <td>-0.327655</td>\n",
              "      <td>-0.146131</td>\n",
              "      <td>-0.12533</td>\n",
              "      <td>-0.439609</td>\n",
              "      <td>0.464424</td>\n",
              "      <td>-0.616725</td>\n",
              "      <td>0.616725</td>\n",
              "      <td>0.951664</td>\n",
              "      <td>1.354351</td>\n",
              "    </tr>\n",
              "    <tr>\n",
              "      <th>1</th>\n",
              "      <td>-0.209172</td>\n",
              "      <td>-0.189476</td>\n",
              "      <td>-0.176609</td>\n",
              "      <td>-0.317376</td>\n",
              "      <td>-0.301242</td>\n",
              "      <td>-0.327893</td>\n",
              "      <td>-0.141654</td>\n",
              "      <td>-0.162691</td>\n",
              "      <td>-0.112941</td>\n",
              "      <td>-0.138625</td>\n",
              "      <td>...</td>\n",
              "      <td>-0.191891</td>\n",
              "      <td>-0.327655</td>\n",
              "      <td>-0.146131</td>\n",
              "      <td>-0.12533</td>\n",
              "      <td>-0.439609</td>\n",
              "      <td>0.464424</td>\n",
              "      <td>-0.616725</td>\n",
              "      <td>0.616725</td>\n",
              "      <td>0.951664</td>\n",
              "      <td>1.429185</td>\n",
              "    </tr>\n",
              "    <tr>\n",
              "      <th>2</th>\n",
              "      <td>-0.209172</td>\n",
              "      <td>-0.189476</td>\n",
              "      <td>-0.176609</td>\n",
              "      <td>-0.317376</td>\n",
              "      <td>-0.301242</td>\n",
              "      <td>-0.327893</td>\n",
              "      <td>-0.141654</td>\n",
              "      <td>-0.162691</td>\n",
              "      <td>-0.112941</td>\n",
              "      <td>-0.138625</td>\n",
              "      <td>...</td>\n",
              "      <td>-0.191891</td>\n",
              "      <td>-0.327655</td>\n",
              "      <td>-0.146131</td>\n",
              "      <td>-0.12533</td>\n",
              "      <td>-0.439609</td>\n",
              "      <td>0.464424</td>\n",
              "      <td>-0.616725</td>\n",
              "      <td>0.616725</td>\n",
              "      <td>0.951664</td>\n",
              "      <td>1.502896</td>\n",
              "    </tr>\n",
              "    <tr>\n",
              "      <th>3</th>\n",
              "      <td>-0.209172</td>\n",
              "      <td>-0.189476</td>\n",
              "      <td>-0.176609</td>\n",
              "      <td>-0.317376</td>\n",
              "      <td>-0.301242</td>\n",
              "      <td>-0.327893</td>\n",
              "      <td>-0.141654</td>\n",
              "      <td>-0.162691</td>\n",
              "      <td>-0.112941</td>\n",
              "      <td>-0.138625</td>\n",
              "      <td>...</td>\n",
              "      <td>-0.191891</td>\n",
              "      <td>-0.327655</td>\n",
              "      <td>-0.146131</td>\n",
              "      <td>-0.12533</td>\n",
              "      <td>-0.439609</td>\n",
              "      <td>0.464424</td>\n",
              "      <td>-0.616725</td>\n",
              "      <td>0.616725</td>\n",
              "      <td>0.951664</td>\n",
              "      <td>1.575537</td>\n",
              "    </tr>\n",
              "    <tr>\n",
              "      <th>4</th>\n",
              "      <td>-0.209172</td>\n",
              "      <td>-0.189476</td>\n",
              "      <td>-0.176609</td>\n",
              "      <td>-0.317376</td>\n",
              "      <td>-0.301242</td>\n",
              "      <td>-0.327893</td>\n",
              "      <td>-0.141654</td>\n",
              "      <td>-0.162691</td>\n",
              "      <td>-0.112941</td>\n",
              "      <td>-0.138625</td>\n",
              "      <td>...</td>\n",
              "      <td>-0.191891</td>\n",
              "      <td>-0.327655</td>\n",
              "      <td>-0.146131</td>\n",
              "      <td>-0.12533</td>\n",
              "      <td>-0.439609</td>\n",
              "      <td>0.464424</td>\n",
              "      <td>-0.616725</td>\n",
              "      <td>0.616725</td>\n",
              "      <td>0.951664</td>\n",
              "      <td>1.647157</td>\n",
              "    </tr>\n",
              "    <tr>\n",
              "      <th>...</th>\n",
              "      <td>...</td>\n",
              "      <td>...</td>\n",
              "      <td>...</td>\n",
              "      <td>...</td>\n",
              "      <td>...</td>\n",
              "      <td>...</td>\n",
              "      <td>...</td>\n",
              "      <td>...</td>\n",
              "      <td>...</td>\n",
              "      <td>...</td>\n",
              "      <td>...</td>\n",
              "      <td>...</td>\n",
              "      <td>...</td>\n",
              "      <td>...</td>\n",
              "      <td>...</td>\n",
              "      <td>...</td>\n",
              "      <td>...</td>\n",
              "      <td>...</td>\n",
              "      <td>...</td>\n",
              "      <td>...</td>\n",
              "      <td>...</td>\n",
              "    </tr>\n",
              "    <tr>\n",
              "      <th>290270</th>\n",
              "      <td>-0.209172</td>\n",
              "      <td>-0.189476</td>\n",
              "      <td>-0.176609</td>\n",
              "      <td>-0.317376</td>\n",
              "      <td>-0.301242</td>\n",
              "      <td>-0.327893</td>\n",
              "      <td>-0.141654</td>\n",
              "      <td>-0.162691</td>\n",
              "      <td>-0.112941</td>\n",
              "      <td>-0.138625</td>\n",
              "      <td>...</td>\n",
              "      <td>-0.191891</td>\n",
              "      <td>-0.327655</td>\n",
              "      <td>-0.146131</td>\n",
              "      <td>-0.12533</td>\n",
              "      <td>-0.439609</td>\n",
              "      <td>0.464424</td>\n",
              "      <td>-0.616725</td>\n",
              "      <td>0.616725</td>\n",
              "      <td>-0.624170</td>\n",
              "      <td>0.143891</td>\n",
              "    </tr>\n",
              "    <tr>\n",
              "      <th>290271</th>\n",
              "      <td>-0.209172</td>\n",
              "      <td>-0.189476</td>\n",
              "      <td>-0.176609</td>\n",
              "      <td>-0.317376</td>\n",
              "      <td>-0.301242</td>\n",
              "      <td>-0.327893</td>\n",
              "      <td>-0.141654</td>\n",
              "      <td>-0.162691</td>\n",
              "      <td>-0.112941</td>\n",
              "      <td>-0.138625</td>\n",
              "      <td>...</td>\n",
              "      <td>-0.191891</td>\n",
              "      <td>-0.327655</td>\n",
              "      <td>-0.146131</td>\n",
              "      <td>-0.12533</td>\n",
              "      <td>-0.439609</td>\n",
              "      <td>0.464424</td>\n",
              "      <td>-0.616725</td>\n",
              "      <td>0.616725</td>\n",
              "      <td>-0.624170</td>\n",
              "      <td>0.244069</td>\n",
              "    </tr>\n",
              "    <tr>\n",
              "      <th>290272</th>\n",
              "      <td>-0.209172</td>\n",
              "      <td>-0.189476</td>\n",
              "      <td>-0.176609</td>\n",
              "      <td>-0.317376</td>\n",
              "      <td>-0.301242</td>\n",
              "      <td>-0.327893</td>\n",
              "      <td>-0.141654</td>\n",
              "      <td>-0.162691</td>\n",
              "      <td>-0.112941</td>\n",
              "      <td>-0.138625</td>\n",
              "      <td>...</td>\n",
              "      <td>-0.191891</td>\n",
              "      <td>-0.327655</td>\n",
              "      <td>-0.146131</td>\n",
              "      <td>-0.12533</td>\n",
              "      <td>-0.439609</td>\n",
              "      <td>0.464424</td>\n",
              "      <td>-0.616725</td>\n",
              "      <td>0.616725</td>\n",
              "      <td>-0.624170</td>\n",
              "      <td>0.341447</td>\n",
              "    </tr>\n",
              "    <tr>\n",
              "      <th>290273</th>\n",
              "      <td>-0.209172</td>\n",
              "      <td>-0.189476</td>\n",
              "      <td>-0.176609</td>\n",
              "      <td>-0.317376</td>\n",
              "      <td>-0.301242</td>\n",
              "      <td>-0.327893</td>\n",
              "      <td>-0.141654</td>\n",
              "      <td>-0.162691</td>\n",
              "      <td>-0.112941</td>\n",
              "      <td>-0.138625</td>\n",
              "      <td>...</td>\n",
              "      <td>-0.191891</td>\n",
              "      <td>-0.327655</td>\n",
              "      <td>-0.146131</td>\n",
              "      <td>-0.12533</td>\n",
              "      <td>-0.439609</td>\n",
              "      <td>0.464424</td>\n",
              "      <td>-0.616725</td>\n",
              "      <td>0.616725</td>\n",
              "      <td>-0.624170</td>\n",
              "      <td>0.436262</td>\n",
              "    </tr>\n",
              "    <tr>\n",
              "      <th>290274</th>\n",
              "      <td>-0.209172</td>\n",
              "      <td>-0.189476</td>\n",
              "      <td>-0.176609</td>\n",
              "      <td>-0.317376</td>\n",
              "      <td>-0.301242</td>\n",
              "      <td>-0.327893</td>\n",
              "      <td>-0.141654</td>\n",
              "      <td>-0.162691</td>\n",
              "      <td>-0.112941</td>\n",
              "      <td>-0.138625</td>\n",
              "      <td>...</td>\n",
              "      <td>-0.191891</td>\n",
              "      <td>-0.327655</td>\n",
              "      <td>-0.146131</td>\n",
              "      <td>-0.12533</td>\n",
              "      <td>-0.439609</td>\n",
              "      <td>0.464424</td>\n",
              "      <td>-0.616725</td>\n",
              "      <td>0.616725</td>\n",
              "      <td>-0.624170</td>\n",
              "      <td>0.528719</td>\n",
              "    </tr>\n",
              "  </tbody>\n",
              "</table>\n",
              "<p>290275 rows × 30 columns</p>\n",
              "</div>\n",
              "      <button class=\"colab-df-convert\" onclick=\"convertToInteractive('df-863da7a1-fb74-481e-8965-34fe2305c62e')\"\n",
              "              title=\"Convert this dataframe to an interactive table.\"\n",
              "              style=\"display:none;\">\n",
              "        \n",
              "  <svg xmlns=\"http://www.w3.org/2000/svg\" height=\"24px\"viewBox=\"0 0 24 24\"\n",
              "       width=\"24px\">\n",
              "    <path d=\"M0 0h24v24H0V0z\" fill=\"none\"/>\n",
              "    <path d=\"M18.56 5.44l.94 2.06.94-2.06 2.06-.94-2.06-.94-.94-2.06-.94 2.06-2.06.94zm-11 1L8.5 8.5l.94-2.06 2.06-.94-2.06-.94L8.5 2.5l-.94 2.06-2.06.94zm10 10l.94 2.06.94-2.06 2.06-.94-2.06-.94-.94-2.06-.94 2.06-2.06.94z\"/><path d=\"M17.41 7.96l-1.37-1.37c-.4-.4-.92-.59-1.43-.59-.52 0-1.04.2-1.43.59L10.3 9.45l-7.72 7.72c-.78.78-.78 2.05 0 2.83L4 21.41c.39.39.9.59 1.41.59.51 0 1.02-.2 1.41-.59l7.78-7.78 2.81-2.81c.8-.78.8-2.07 0-2.86zM5.41 20L4 18.59l7.72-7.72 1.47 1.35L5.41 20z\"/>\n",
              "  </svg>\n",
              "      </button>\n",
              "      \n",
              "  <style>\n",
              "    .colab-df-container {\n",
              "      display:flex;\n",
              "      flex-wrap:wrap;\n",
              "      gap: 12px;\n",
              "    }\n",
              "\n",
              "    .colab-df-convert {\n",
              "      background-color: #E8F0FE;\n",
              "      border: none;\n",
              "      border-radius: 50%;\n",
              "      cursor: pointer;\n",
              "      display: none;\n",
              "      fill: #1967D2;\n",
              "      height: 32px;\n",
              "      padding: 0 0 0 0;\n",
              "      width: 32px;\n",
              "    }\n",
              "\n",
              "    .colab-df-convert:hover {\n",
              "      background-color: #E2EBFA;\n",
              "      box-shadow: 0px 1px 2px rgba(60, 64, 67, 0.3), 0px 1px 3px 1px rgba(60, 64, 67, 0.15);\n",
              "      fill: #174EA6;\n",
              "    }\n",
              "\n",
              "    [theme=dark] .colab-df-convert {\n",
              "      background-color: #3B4455;\n",
              "      fill: #D2E3FC;\n",
              "    }\n",
              "\n",
              "    [theme=dark] .colab-df-convert:hover {\n",
              "      background-color: #434B5C;\n",
              "      box-shadow: 0px 1px 3px 1px rgba(0, 0, 0, 0.15);\n",
              "      filter: drop-shadow(0px 1px 2px rgba(0, 0, 0, 0.3));\n",
              "      fill: #FFFFFF;\n",
              "    }\n",
              "  </style>\n",
              "\n",
              "      <script>\n",
              "        const buttonEl =\n",
              "          document.querySelector('#df-863da7a1-fb74-481e-8965-34fe2305c62e button.colab-df-convert');\n",
              "        buttonEl.style.display =\n",
              "          google.colab.kernel.accessAllowed ? 'block' : 'none';\n",
              "\n",
              "        async function convertToInteractive(key) {\n",
              "          const element = document.querySelector('#df-863da7a1-fb74-481e-8965-34fe2305c62e');\n",
              "          const dataTable =\n",
              "            await google.colab.kernel.invokeFunction('convertToInteractive',\n",
              "                                                     [key], {});\n",
              "          if (!dataTable) return;\n",
              "\n",
              "          const docLinkHtml = 'Like what you see? Visit the ' +\n",
              "            '<a target=\"_blank\" href=https://colab.research.google.com/notebooks/data_table.ipynb>data table notebook</a>'\n",
              "            + ' to learn more about interactive tables.';\n",
              "          element.innerHTML = '';\n",
              "          dataTable['output_type'] = 'display_data';\n",
              "          await google.colab.output.renderOutput(dataTable, element);\n",
              "          const docLink = document.createElement('div');\n",
              "          docLink.innerHTML = docLinkHtml;\n",
              "          element.appendChild(docLink);\n",
              "        }\n",
              "      </script>\n",
              "    </div>\n",
              "  </div>\n",
              "  "
            ]
          },
          "metadata": {},
          "execution_count": 104
        }
      ]
    },
    {
      "cell_type": "markdown",
      "source": [
        "# Versionamento: MLflow"
      ],
      "metadata": {
        "id": "RgPIz4G8PNzo"
      }
    },
    {
      "cell_type": "code",
      "source": [
        "! pip install mlflow --quiet"
      ],
      "metadata": {
        "id": "RC1qR-d2PUtZ"
      },
      "execution_count": 105,
      "outputs": []
    },
    {
      "cell_type": "code",
      "source": [
        "import mlflow\n",
        "from mlflow import MlflowClient"
      ],
      "metadata": {
        "id": "4FJJNDKSQwAk"
      },
      "execution_count": 106,
      "outputs": []
    },
    {
      "cell_type": "code",
      "source": [
        "MLFLOW_TRACKING_URI='https://dagshub.com/vicentefonsecabh/Previsao_Precos_Carros.mlflow'\n",
        "MLFLOW_TRACKING_USERNAME='vicentefonsecabh'\n",
        "MLFLOW_TRACKING_PASSWORD='4a903a714b28f8b2becc4cd3a1dc975c08e3d34a'\n",
        "\n",
        "os.environ['MLFLOW_TRACKING_USERNAME'] = MLFLOW_TRACKING_USERNAME\n",
        "os.environ['MLFLOW_TRACKING_PASSWORD'] = MLFLOW_TRACKING_PASSWORD\n",
        "\n",
        "mlflow.set_tracking_uri(MLFLOW_TRACKING_URI)\n",
        "\n",
        "mlflow.sklearn.autolog(log_models=True, \n",
        "                       log_input_examples=True,\n",
        "                       log_model_signatures=True)\n",
        "\n",
        "tmp_dir = 'tmp'\n",
        "\n",
        "if not os.path.exists(tmp_dir):\n",
        "    os.makedirs(tmp_dir)\n",
        "\n",
        "pickle.dump(scaler, \n",
        "            open(os.path.join(tmp_dir,\n",
        "                              'scaler.pkl'), 'wb'))\n",
        "\n",
        "def print_auto_logged_info(r):\n",
        "    tags = {k: v for k, v in r.data.tags.items() if not k.startswith(\"mlflow.\")}\n",
        "    artifacts = [f.path for f in MlflowClient().list_artifacts(r.info.run_id, \"model\")]\n",
        "    print(\"run_id: {}\".format(r.info.run_id))\n",
        "    print(\"artifacts: {}\".format(artifacts))\n",
        "    print(\"params: {}\".format(r.data.params))\n",
        "    print(\"metrics: {}\".format(r.data.metrics))\n",
        "    print(\"tags: {}\".format(tags))"
      ],
      "metadata": {
        "id": "I2VC6m5jQ6UN"
      },
      "execution_count": 107,
      "outputs": []
    },
    {
      "cell_type": "markdown",
      "source": [
        "# Conjuntos Treino e Teste"
      ],
      "metadata": {
        "id": "TjZCMPfXSwJU"
      }
    },
    {
      "cell_type": "code",
      "source": [
        "from sklearn.model_selection import train_test_split "
      ],
      "metadata": {
        "id": "dEPmhcn6S1LQ"
      },
      "execution_count": 108,
      "outputs": []
    },
    {
      "cell_type": "code",
      "source": [
        "X_treino, X_teste, y_treino, y_teste  = train_test_split(X_price, y_price, test_size = 0.3, random_state = 42)"
      ],
      "metadata": {
        "id": "1SZe555zSvI2"
      },
      "execution_count": 109,
      "outputs": []
    },
    {
      "cell_type": "markdown",
      "source": [
        "# Modelos"
      ],
      "metadata": {
        "id": "qn21lJiff1um"
      }
    },
    {
      "cell_type": "markdown",
      "source": [
        "## Regressão Linear\n"
      ],
      "metadata": {
        "id": "K42yYVHhf9Hf"
      }
    },
    {
      "cell_type": "code",
      "source": [
        "from sklearn.linear_model import LinearRegression\n",
        "from sklearn.metrics import mean_absolute_error,mean_squared_error, r2_score"
      ],
      "metadata": {
        "id": "dLa5SKghgAic"
      },
      "execution_count": 110,
      "outputs": []
    },
    {
      "cell_type": "code",
      "source": [
        "reg = LinearRegression()\n",
        "\n",
        "with mlflow.start_run(run_name ='Regressão Linear') as run:\n",
        "  reg.fit(X_treino, y_treino)\n",
        "  y_pred = reg.predict(X_teste)\n",
        "  mae = mean_absolute_error(y_true=y_teste,y_pred=y_pred)\n",
        "  #squared True returns MSE value, False returns RMSE value.\n",
        "  mse = mean_squared_error(y_true=y_teste,y_pred=y_pred) #default=True\n",
        "  rmse = mean_squared_error(y_true=y_teste,y_pred=y_pred,squared=False)\n",
        " \n",
        "  mlflow.log_artifact(os.path.join(tmp_dir,'scaler.pkl'))"
      ],
      "metadata": {
        "id": "5JgWCJhog_RP",
        "outputId": "c7ac3bbe-bf91-469f-cdd1-e93781957596",
        "colab": {
          "base_uri": "https://localhost:8080/"
        }
      },
      "execution_count": 111,
      "outputs": [
        {
          "output_type": "stream",
          "name": "stderr",
          "text": [
            "WARNING:urllib3.connectionpool:Retrying (Retry(total=4, connect=5, read=4, redirect=5, status=5)) after connection broken by 'ProtocolError('Connection aborted.', ConnectionResetError(104, 'Connection reset by peer'))': /vicentefonsecabh/Previsao_Precos_Carros.mlflow/api/2.0/mlflow/runs/create\n"
          ]
        }
      ]
    },
    {
      "cell_type": "markdown",
      "source": [
        "Avaliando o modelo"
      ],
      "metadata": {
        "id": "gjDQf4z0O2a5"
      }
    },
    {
      "cell_type": "code",
      "source": [
        "reg.score(X_treino,y_treino)"
      ],
      "metadata": {
        "id": "w8wc04QPiVyl",
        "outputId": "768a84c5-ceb5-430e-a71d-a85c53e1d456",
        "colab": {
          "base_uri": "https://localhost:8080/"
        }
      },
      "execution_count": 112,
      "outputs": [
        {
          "output_type": "execute_result",
          "data": {
            "text/plain": [
              "0.28907468353676946"
            ]
          },
          "metadata": {},
          "execution_count": 112
        }
      ]
    },
    {
      "cell_type": "code",
      "source": [
        "reg.score(X_teste, y_teste)"
      ],
      "metadata": {
        "colab": {
          "base_uri": "https://localhost:8080/"
        },
        "id": "_zDDUytjgaY3",
        "outputId": "bf54bfca-f45e-4083-c51e-e55bd6ba735f"
      },
      "execution_count": 113,
      "outputs": [
        {
          "output_type": "execute_result",
          "data": {
            "text/plain": [
              "0.28038494088528865"
            ]
          },
          "metadata": {},
          "execution_count": 113
        }
      ]
    },
    {
      "cell_type": "code",
      "source": [
        "print(\"MAE:\",mae)\n",
        "print(\"MSE:\",mse)\n",
        "print(\"RMSE:\",rmse)"
      ],
      "metadata": {
        "colab": {
          "base_uri": "https://localhost:8080/"
        },
        "id": "ZWh271dLjCFA",
        "outputId": "78f2a622-8e36-453f-df02-bb3706d502ba"
      },
      "execution_count": 114,
      "outputs": [
        {
          "output_type": "stream",
          "name": "stdout",
          "text": [
            "MAE: 104942.27542653166\n",
            "MSE: 72938089558.67773\n",
            "RMSE: 270070.5270085533\n"
          ]
        }
      ]
    },
    {
      "cell_type": "code",
      "source": [
        "y_treino_pred = reg.predict(X_treino)\n",
        "y_teste_pred = reg.predict(X_teste)"
      ],
      "metadata": {
        "id": "tW8u_VNqNd0E"
      },
      "execution_count": 115,
      "outputs": []
    },
    {
      "cell_type": "code",
      "source": [
        "rmse_treino = mean_squared_error(y_treino,y_treino_pred,squared=False)"
      ],
      "metadata": {
        "id": "wl_5Pj66N1NF"
      },
      "execution_count": 116,
      "outputs": []
    },
    {
      "cell_type": "code",
      "source": [
        "rmse_teste = mean_squared_error(y_teste,y_teste_pred,squared=False)"
      ],
      "metadata": {
        "id": "pPzzMoiPN1FV"
      },
      "execution_count": 117,
      "outputs": []
    },
    {
      "cell_type": "code",
      "source": [
        "print(\"RMSE treino:\",rmse_treino)\n",
        "print(\"RMSE teste:\",rmse_teste)"
      ],
      "metadata": {
        "id": "mdFqyFBQNyMj",
        "outputId": "5adb76df-7197-4ce6-961a-3b5d51d89086",
        "colab": {
          "base_uri": "https://localhost:8080/"
        }
      },
      "execution_count": 118,
      "outputs": [
        {
          "output_type": "stream",
          "name": "stdout",
          "text": [
            "RMSE treino: 272694.74108061387\n",
            "RMSE teste: 270070.5270085533\n"
          ]
        }
      ]
    },
    {
      "cell_type": "code",
      "source": [
        "r2_score(y_teste, y_pred)"
      ],
      "metadata": {
        "id": "LeS5g6-Okla-",
        "outputId": "030e001d-0e9c-4fa8-f94b-49fc9e8262a7",
        "colab": {
          "base_uri": "https://localhost:8080/"
        }
      },
      "execution_count": 119,
      "outputs": [
        {
          "output_type": "execute_result",
          "data": {
            "text/plain": [
              "0.28038494088528865"
            ]
          },
          "metadata": {},
          "execution_count": 119
        }
      ]
    },
    {
      "cell_type": "code",
      "source": [
        "features = X_treino.columns"
      ],
      "metadata": {
        "id": "qVVV8pPsiox9"
      },
      "execution_count": 120,
      "outputs": []
    },
    {
      "cell_type": "code",
      "source": [
        "reg.coef_"
      ],
      "metadata": {
        "id": "Ui8Q0jx6ivCO",
        "outputId": "39ad8be0-7ee7-4e40-de33-53384360b82f",
        "colab": {
          "base_uri": "https://localhost:8080/"
        }
      },
      "execution_count": 121,
      "outputs": [
        {
          "output_type": "execute_result",
          "data": {
            "text/plain": [
              "array([-5.50540038e+16, -5.02479130e+16, -4.70496014e+16, -7.92094240e+16,\n",
              "       -7.58708156e+16, -8.13329141e+16, -3.81489109e+16, -4.35412883e+16,\n",
              "       -3.06357791e+16, -3.73643636e+16, -4.20637513e+16, -6.53350102e+16,\n",
              "       -5.05406732e+16, -4.18039752e+16, -8.47139107e+16, -5.27561771e+16,\n",
              "       -4.15513546e+16, -6.11842592e+16, -3.25653388e+16, -3.14958263e+16,\n",
              "       -5.08433624e+16, -8.12852370e+16, -3.93050667e+16,  1.09979413e+17,\n",
              "        3.28366248e+17,  3.40500274e+17, -1.84075479e+16, -1.84075479e+16,\n",
              "        1.09424000e+05, -1.24124500e+05])"
            ]
          },
          "metadata": {},
          "execution_count": 121
        }
      ]
    },
    {
      "cell_type": "code",
      "source": [
        "reg.intercept_"
      ],
      "metadata": {
        "id": "x1_25oSMjAYF",
        "outputId": "3975cea5-6b4b-42e2-c016-0b20f4056838",
        "colab": {
          "base_uri": "https://localhost:8080/"
        }
      },
      "execution_count": 122,
      "outputs": [
        {
          "output_type": "execute_result",
          "data": {
            "text/plain": [
              "122573.73338676956"
            ]
          },
          "metadata": {},
          "execution_count": 122
        }
      ]
    },
    {
      "cell_type": "code",
      "source": [
        "# plt.scatter(X_teste[:,0], y_teste, color=\"black\")\n",
        "# plt.plot(X_teste[:,0], y_pred, color=\"blue\", linewidth=3)"
      ],
      "metadata": {
        "id": "SZ7i1RTOlITu"
      },
      "execution_count": 123,
      "outputs": []
    },
    {
      "cell_type": "markdown",
      "source": [
        "## Árvore de Decisão"
      ],
      "metadata": {
        "id": "vaCxbWh66ydc"
      }
    },
    {
      "cell_type": "code",
      "source": [
        "from sklearn.tree import DecisionTreeRegressor\n",
        "from sklearn import tree"
      ],
      "metadata": {
        "id": "neFVJgyS66nm"
      },
      "execution_count": 124,
      "outputs": []
    },
    {
      "cell_type": "code",
      "source": [
        "tree_reg = DecisionTreeRegressor(max_depth= 2)\n",
        "\n",
        "with mlflow.start_run(run_name ='Decision Tree') as run:\n",
        "  tree_reg.fit(X_treino, y_treino)\n",
        "  y_pred = tree_reg.predict(X_teste)\n",
        "  mae = mean_absolute_error(y_true=y_teste,y_pred=y_pred)\n",
        "  #squared True returns MSE value, False returns RMSE value.\n",
        "  mse = mean_squared_error(y_true=y_teste,y_pred=y_pred) #default=True\n",
        "  rmse = mean_squared_error(y_true=y_teste,y_pred=y_pred,squared=False)\n",
        " \n",
        "  mlflow.log_artifact(os.path.join(tmp_dir,'scaler.pkl'))"
      ],
      "metadata": {
        "id": "ljrzq8Di75tM"
      },
      "execution_count": 125,
      "outputs": []
    },
    {
      "cell_type": "code",
      "source": [
        "fig = plt.figure(figsize=(25,20))\n",
        "_ = tree.plot_tree(tree_reg, feature_names=features, filled=True)"
      ],
      "metadata": {
        "id": "cEw7igQhnxPf",
        "outputId": "46a2f30d-a368-416b-e391-f094c8c159c5",
        "colab": {
          "base_uri": "https://localhost:8080/",
          "height": 812
        }
      },
      "execution_count": 126,
      "outputs": [
        {
          "output_type": "display_data",
          "data": {
            "text/plain": [
              "<Figure size 1800x1440 with 1 Axes>"
            ],
            "image/png": "[encoded data removed]"
          },
          "metadata": {
            "needs_background": "light"
          }
        }
      ]
    },
    {
      "cell_type": "markdown",
      "source": [
        "Avaliando o modelo"
      ],
      "metadata": {
        "id": "2HL7X4EIJKP7"
      }
    },
    {
      "cell_type": "code",
      "source": [
        "y_treino_pred_tree = tree_reg.predict(X_treino)\n",
        "y_teste_pred_tree = tree_reg.predict(X_teste)\n",
        "rmse_treino_tree = mean_squared_error(y_treino,y_treino_pred_tree,squared=False)\n",
        "rmse_teste_tree = mean_squared_error(y_teste,y_teste_pred_tree,squared=False)\n",
        "\n",
        "print(\"RMSE tree treino:\",rmse_treino_tree)\n",
        "print(\"RMSE tree teste:\", rmse_teste_tree)"
      ],
      "metadata": {
        "id": "jwCEEGj-BClC",
        "outputId": "ea1ef196-9e6d-4a54-fd4c-745901bc4078",
        "colab": {
          "base_uri": "https://localhost:8080/"
        }
      },
      "execution_count": 127,
      "outputs": [
        {
          "output_type": "stream",
          "name": "stdout",
          "text": [
            "RMSE tree treino: 275880.1179014938\n",
            "RMSE tree teste: 267169.85815105395\n"
          ]
        }
      ]
    },
    {
      "cell_type": "markdown",
      "source": [
        "## Random Forest Regressor"
      ],
      "metadata": {
        "id": "j30hW8kGJ-pa"
      }
    },
    {
      "cell_type": "code",
      "source": [
        "from sklearn.ensemble import RandomForestRegressor\n",
        "\n",
        "randf = RandomForestRegressor(max_depth=2, random_state=0)\n",
        "\n",
        "with mlflow.start_run(run_name ='Random Forest Regressor') as run:\n",
        "  randf.fit(X_treino, y_treino)\n",
        "  y_pred = tree_reg.predict(X_teste)\n",
        "  mae = mean_absolute_error(y_true=y_teste,y_pred=y_pred)\n",
        "  #squared True returns MSE value, False returns RMSE value.\n",
        "  mse = mean_squared_error(y_true=y_teste,y_pred=y_pred) #default=True\n",
        "  rmse = mean_squared_error(y_true=y_teste,y_pred=y_pred,squared=False)\n",
        " \n",
        "  mlflow.log_artifact(os.path.join(tmp_dir,'scaler.pkl'))\n"
      ],
      "metadata": {
        "id": "ORMmMaPiJ9E1"
      },
      "execution_count": 128,
      "outputs": []
    },
    {
      "cell_type": "markdown",
      "source": [
        "Avaliando o modelo"
      ],
      "metadata": {
        "id": "y51y3iZuMARd"
      }
    },
    {
      "cell_type": "code",
      "source": [
        "y_treino_pred_randf = randf.predict(X_treino)\n",
        "y_teste_pred_randf = randf.predict(X_teste)\n",
        "rmse_treino_randf = mean_squared_error(y_treino,y_treino_pred_randf,squared=False)\n",
        "rmse_teste_randf = mean_squared_error(y_teste,y_teste_pred_randf,squared=False)\n",
        "\n",
        "print(\"RMSE random forest treino:\",rmse_treino_randf)\n",
        "print(\"RMSE random forest teste:\", rmse_teste_randf)"
      ],
      "metadata": {
        "id": "IdAER04fKsna",
        "outputId": "517d5c6d-1531-4c6b-f27b-7c90750edee1",
        "colab": {
          "base_uri": "https://localhost:8080/"
        }
      },
      "execution_count": 129,
      "outputs": [
        {
          "output_type": "stream",
          "name": "stdout",
          "text": [
            "RMSE random forest treino: 275199.60585128824\n",
            "RMSE random forest teste: 266554.50877245516\n"
          ]
        }
      ]
    },
    {
      "cell_type": "code",
      "source": [
        "randf.score(X_treino, y_treino)"
      ],
      "metadata": {
        "id": "auBShBfLMKJK",
        "outputId": "c1fa6d97-8b68-4f1b-cbcd-d0001e6b9d26",
        "colab": {
          "base_uri": "https://localhost:8080/"
        }
      },
      "execution_count": 130,
      "outputs": [
        {
          "output_type": "execute_result",
          "data": {
            "text/plain": [
              "0.27595414808977115"
            ]
          },
          "metadata": {},
          "execution_count": 130
        }
      ]
    },
    {
      "cell_type": "code",
      "source": [
        "randf.score(X_teste, y_teste)"
      ],
      "metadata": {
        "id": "Bo2KX394M3oF",
        "outputId": "48ad367e-3229-4fb0-ef0b-de3f93851795",
        "colab": {
          "base_uri": "https://localhost:8080/"
        }
      },
      "execution_count": 131,
      "outputs": [
        {
          "output_type": "execute_result",
          "data": {
            "text/plain": [
              "0.29900014954513265"
            ]
          },
          "metadata": {},
          "execution_count": 131
        }
      ]
    },
    {
      "cell_type": "markdown",
      "source": [
        "https://www.tensorflow.org/tutorials/keras/regression?hl=pt-br <br> https://machinelearningmastery.com/regression-tutorial-keras-deep-learning-library-python/ <br> https://www.projectpro.io/recipes/perform-basic-regression-keras-model"
      ],
      "metadata": {
        "id": "7MNhzgWXXePm"
      }
    }
  ]
}