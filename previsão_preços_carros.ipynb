{
  "nbformat": 4,
  "nbformat_minor": 0,
  "metadata": {
    "colab": {
      "provenance": [],
      "authorship_tag": "ABX9TyNiFksSGQWHGmgheMN98muc",
      "include_colab_link": true
    },
    "kernelspec": {
      "name": "python3",
      "display_name": "Python 3"
    },
    "language_info": {
      "name": "python"
    }
  },
  "cells": [
    {
      "cell_type": "markdown",
      "metadata": {
        "id": "view-in-github",
        "colab_type": "text"
      },
      "source": [
        "<a href=\"https://colab.research.google.com/github/VicenteJFonseca/previs-o_pre-o_carros/blob/main/previs%C3%A3o_pre%C3%A7os_carros.ipynb\" target=\"_parent\"><img src=\"https://colab.research.google.com/assets/colab-badge.svg\" alt=\"Open In Colab\"/></a>"
      ]
    },
    {
      "cell_type": "markdown",
      "source": [
        "Fonte dados: https://www.kaggle.com/datasets/vagnerbessa/average-car-prices-bazil\n",
        "\n",
        "\n",
        "---\n",
        "\n"
      ],
      "metadata": {
        "id": "GxJjBJm1A2cS"
      }
    },
    {
      "cell_type": "code",
      "execution_count": 1,
      "metadata": {
        "id": "gHULNh0tyCtY"
      },
      "outputs": [],
      "source": [
        "import os\n",
        "import pickle\n",
        "import numpy as np\n",
        "import pandas as pd\n",
        "import seaborn as sns\n",
        "import matplotlib.pyplot as plt"
      ]
    },
    {
      "cell_type": "code",
      "source": [
        "from google.colab import drive\n",
        "drive.mount('/content/drive')"
      ],
      "metadata": {
        "colab": {
          "base_uri": "https://localhost:8080/"
        },
        "id": "t5Z_pONH_l_h",
        "outputId": "d8de028f-9deb-453b-f7cc-af5fb33fc101"
      },
      "execution_count": 2,
      "outputs": [
        {
          "output_type": "stream",
          "name": "stdout",
          "text": [
            "Mounted at /content/drive\n"
          ]
        }
      ]
    },
    {
      "cell_type": "code",
      "source": [
        "fipe22 = pd.read_csv(\"/content/drive/MyDrive/Colab Notebooks/Datasets/fipe_2022.csv\", delimiter = \",\")"
      ],
      "metadata": {
        "id": "OExNoYur_wcA"
      },
      "execution_count": 5,
      "outputs": []
    },
    {
      "cell_type": "code",
      "source": [
        "fipe22.head()"
      ],
      "metadata": {
        "colab": {
          "base_uri": "https://localhost:8080/",
          "height": 357
        },
        "id": "86fzt6p4_6Aq",
        "outputId": "16d241c2-2960-48d8-d502-e1795a5ab337"
      },
      "execution_count": 6,
      "outputs": [
        {
          "output_type": "execute_result",
          "data": {
            "text/plain": [
              "   year_of_reference month_of_reference fipe_code authentication  brand  \\\n",
              "0               2022            January  038001-6     vwmrywl5qs  Acura   \n",
              "1               2022            January  038001-6     t9mt723qhz  Acura   \n",
              "2               2022            January  038001-6     tr5wv4z21g  Acura   \n",
              "3               2022            January  038001-6     s2xxsjz3mt  Acura   \n",
              "4               2022            January  038001-6     rtm9gj7zk8  Acura   \n",
              "\n",
              "     model      fuel    gear  engine_size  year_model  avg_price_brl  \\\n",
              "0  NSX 3.0  Gasoline  manual          3.0        1995        43779.0   \n",
              "1  NSX 3.0  Gasoline  manual          3.0        1994        42244.0   \n",
              "2  NSX 3.0  Gasoline  manual          3.0        1993        40841.0   \n",
              "3  NSX 3.0  Gasoline  manual          3.0        1992        39028.0   \n",
              "4  NSX 3.0  Gasoline  manual          3.0        1991        35678.0   \n",
              "\n",
              "   age_years  \n",
              "0         28  \n",
              "1         29  \n",
              "2         30  \n",
              "3         31  \n",
              "4         32  "
            ],
            "text/html": [
              "\n",
              "  <div id=\"df-5711f28a-78bb-4ae8-8f39-76348be1a7dd\">\n",
              "    <div class=\"colab-df-container\">\n",
              "      <div>\n",
              "<style scoped>\n",
              "    .dataframe tbody tr th:only-of-type {\n",
              "        vertical-align: middle;\n",
              "    }\n",
              "\n",
              "    .dataframe tbody tr th {\n",
              "        vertical-align: top;\n",
              "    }\n",
              "\n",
              "    .dataframe thead th {\n",
              "        text-align: right;\n",
              "    }\n",
              "</style>\n",
              "<table border=\"1\" class=\"dataframe\">\n",
              "  <thead>\n",
              "    <tr style=\"text-align: right;\">\n",
              "      <th></th>\n",
              "      <th>year_of_reference</th>\n",
              "      <th>month_of_reference</th>\n",
              "      <th>fipe_code</th>\n",
              "      <th>authentication</th>\n",
              "      <th>brand</th>\n",
              "      <th>model</th>\n",
              "      <th>fuel</th>\n",
              "      <th>gear</th>\n",
              "      <th>engine_size</th>\n",
              "      <th>year_model</th>\n",
              "      <th>avg_price_brl</th>\n",
              "      <th>age_years</th>\n",
              "    </tr>\n",
              "  </thead>\n",
              "  <tbody>\n",
              "    <tr>\n",
              "      <th>0</th>\n",
              "      <td>2022</td>\n",
              "      <td>January</td>\n",
              "      <td>038001-6</td>\n",
              "      <td>vwmrywl5qs</td>\n",
              "      <td>Acura</td>\n",
              "      <td>NSX 3.0</td>\n",
              "      <td>Gasoline</td>\n",
              "      <td>manual</td>\n",
              "      <td>3.0</td>\n",
              "      <td>1995</td>\n",
              "      <td>43779.0</td>\n",
              "      <td>28</td>\n",
              "    </tr>\n",
              "    <tr>\n",
              "      <th>1</th>\n",
              "      <td>2022</td>\n",
              "      <td>January</td>\n",
              "      <td>038001-6</td>\n",
              "      <td>t9mt723qhz</td>\n",
              "      <td>Acura</td>\n",
              "      <td>NSX 3.0</td>\n",
              "      <td>Gasoline</td>\n",
              "      <td>manual</td>\n",
              "      <td>3.0</td>\n",
              "      <td>1994</td>\n",
              "      <td>42244.0</td>\n",
              "      <td>29</td>\n",
              "    </tr>\n",
              "    <tr>\n",
              "      <th>2</th>\n",
              "      <td>2022</td>\n",
              "      <td>January</td>\n",
              "      <td>038001-6</td>\n",
              "      <td>tr5wv4z21g</td>\n",
              "      <td>Acura</td>\n",
              "      <td>NSX 3.0</td>\n",
              "      <td>Gasoline</td>\n",
              "      <td>manual</td>\n",
              "      <td>3.0</td>\n",
              "      <td>1993</td>\n",
              "      <td>40841.0</td>\n",
              "      <td>30</td>\n",
              "    </tr>\n",
              "    <tr>\n",
              "      <th>3</th>\n",
              "      <td>2022</td>\n",
              "      <td>January</td>\n",
              "      <td>038001-6</td>\n",
              "      <td>s2xxsjz3mt</td>\n",
              "      <td>Acura</td>\n",
              "      <td>NSX 3.0</td>\n",
              "      <td>Gasoline</td>\n",
              "      <td>manual</td>\n",
              "      <td>3.0</td>\n",
              "      <td>1992</td>\n",
              "      <td>39028.0</td>\n",
              "      <td>31</td>\n",
              "    </tr>\n",
              "    <tr>\n",
              "      <th>4</th>\n",
              "      <td>2022</td>\n",
              "      <td>January</td>\n",
              "      <td>038001-6</td>\n",
              "      <td>rtm9gj7zk8</td>\n",
              "      <td>Acura</td>\n",
              "      <td>NSX 3.0</td>\n",
              "      <td>Gasoline</td>\n",
              "      <td>manual</td>\n",
              "      <td>3.0</td>\n",
              "      <td>1991</td>\n",
              "      <td>35678.0</td>\n",
              "      <td>32</td>\n",
              "    </tr>\n",
              "  </tbody>\n",
              "</table>\n",
              "</div>\n",
              "      <button class=\"colab-df-convert\" onclick=\"convertToInteractive('df-5711f28a-78bb-4ae8-8f39-76348be1a7dd')\"\n",
              "              title=\"Convert this dataframe to an interactive table.\"\n",
              "              style=\"display:none;\">\n",
              "        \n",
              "  <svg xmlns=\"http://www.w3.org/2000/svg\" height=\"24px\"viewBox=\"0 0 24 24\"\n",
              "       width=\"24px\">\n",
              "    <path d=\"M0 0h24v24H0V0z\" fill=\"none\"/>\n",
              "    <path d=\"M18.56 5.44l.94 2.06.94-2.06 2.06-.94-2.06-.94-.94-2.06-.94 2.06-2.06.94zm-11 1L8.5 8.5l.94-2.06 2.06-.94-2.06-.94L8.5 2.5l-.94 2.06-2.06.94zm10 10l.94 2.06.94-2.06 2.06-.94-2.06-.94-.94-2.06-.94 2.06-2.06.94z\"/><path d=\"M17.41 7.96l-1.37-1.37c-.4-.4-.92-.59-1.43-.59-.52 0-1.04.2-1.43.59L10.3 9.45l-7.72 7.72c-.78.78-.78 2.05 0 2.83L4 21.41c.39.39.9.59 1.41.59.51 0 1.02-.2 1.41-.59l7.78-7.78 2.81-2.81c.8-.78.8-2.07 0-2.86zM5.41 20L4 18.59l7.72-7.72 1.47 1.35L5.41 20z\"/>\n",
              "  </svg>\n",
              "      </button>\n",
              "      \n",
              "  <style>\n",
              "    .colab-df-container {\n",
              "      display:flex;\n",
              "      flex-wrap:wrap;\n",
              "      gap: 12px;\n",
              "    }\n",
              "\n",
              "    .colab-df-convert {\n",
              "      background-color: #E8F0FE;\n",
              "      border: none;\n",
              "      border-radius: 50%;\n",
              "      cursor: pointer;\n",
              "      display: none;\n",
              "      fill: #1967D2;\n",
              "      height: 32px;\n",
              "      padding: 0 0 0 0;\n",
              "      width: 32px;\n",
              "    }\n",
              "\n",
              "    .colab-df-convert:hover {\n",
              "      background-color: #E2EBFA;\n",
              "      box-shadow: 0px 1px 2px rgba(60, 64, 67, 0.3), 0px 1px 3px 1px rgba(60, 64, 67, 0.15);\n",
              "      fill: #174EA6;\n",
              "    }\n",
              "\n",
              "    [theme=dark] .colab-df-convert {\n",
              "      background-color: #3B4455;\n",
              "      fill: #D2E3FC;\n",
              "    }\n",
              "\n",
              "    [theme=dark] .colab-df-convert:hover {\n",
              "      background-color: #434B5C;\n",
              "      box-shadow: 0px 1px 3px 1px rgba(0, 0, 0, 0.15);\n",
              "      filter: drop-shadow(0px 1px 2px rgba(0, 0, 0, 0.3));\n",
              "      fill: #FFFFFF;\n",
              "    }\n",
              "  </style>\n",
              "\n",
              "      <script>\n",
              "        const buttonEl =\n",
              "          document.querySelector('#df-5711f28a-78bb-4ae8-8f39-76348be1a7dd button.colab-df-convert');\n",
              "        buttonEl.style.display =\n",
              "          google.colab.kernel.accessAllowed ? 'block' : 'none';\n",
              "\n",
              "        async function convertToInteractive(key) {\n",
              "          const element = document.querySelector('#df-5711f28a-78bb-4ae8-8f39-76348be1a7dd');\n",
              "          const dataTable =\n",
              "            await google.colab.kernel.invokeFunction('convertToInteractive',\n",
              "                                                     [key], {});\n",
              "          if (!dataTable) return;\n",
              "\n",
              "          const docLinkHtml = 'Like what you see? Visit the ' +\n",
              "            '<a target=\"_blank\" href=https://colab.research.google.com/notebooks/data_table.ipynb>data table notebook</a>'\n",
              "            + ' to learn more about interactive tables.';\n",
              "          element.innerHTML = '';\n",
              "          dataTable['output_type'] = 'display_data';\n",
              "          await google.colab.output.renderOutput(dataTable, element);\n",
              "          const docLink = document.createElement('div');\n",
              "          docLink.innerHTML = docLinkHtml;\n",
              "          element.appendChild(docLink);\n",
              "        }\n",
              "      </script>\n",
              "    </div>\n",
              "  </div>\n",
              "  "
            ]
          },
          "metadata": {},
          "execution_count": 6
        }
      ]
    },
    {
      "cell_type": "code",
      "source": [
        "fipe22.info()"
      ],
      "metadata": {
        "colab": {
          "base_uri": "https://localhost:8080/"
        },
        "id": "22KJaPc8ACeY",
        "outputId": "e17c501a-556d-4252-d20f-9270fddd0d5f"
      },
      "execution_count": 8,
      "outputs": [
        {
          "output_type": "stream",
          "name": "stdout",
          "text": [
            "<class 'pandas.core.frame.DataFrame'>\n",
            "RangeIndex: 290275 entries, 0 to 290274\n",
            "Data columns (total 12 columns):\n",
            " #   Column              Non-Null Count   Dtype  \n",
            "---  ------              --------------   -----  \n",
            " 0   year_of_reference   290275 non-null  int64  \n",
            " 1   month_of_reference  290275 non-null  object \n",
            " 2   fipe_code           290275 non-null  object \n",
            " 3   authentication      290275 non-null  object \n",
            " 4   brand               290275 non-null  object \n",
            " 5   model               290275 non-null  object \n",
            " 6   fuel                290275 non-null  object \n",
            " 7   gear                290275 non-null  object \n",
            " 8   engine_size         290275 non-null  float64\n",
            " 9   year_model          290275 non-null  int64  \n",
            " 10  avg_price_brl       290275 non-null  float64\n",
            " 11  age_years           290275 non-null  int64  \n",
            "dtypes: float64(2), int64(3), object(7)\n",
            "memory usage: 26.6+ MB\n"
          ]
        }
      ]
    }
  ]
}