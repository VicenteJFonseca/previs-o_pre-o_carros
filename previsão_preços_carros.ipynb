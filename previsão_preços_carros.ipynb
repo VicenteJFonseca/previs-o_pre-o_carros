{
  "nbformat": 4,
  "nbformat_minor": 0,
  "metadata": {
    "colab": {
      "provenance": [],
      "toc_visible": true,
      "authorship_tag": "ABX9TyO3l3/AmjCc+jBHDfQSM2zI",
      "include_colab_link": true
    },
    "kernelspec": {
      "name": "python3",
      "display_name": "Python 3"
    },
    "language_info": {
      "name": "python"
    }
  },
  "cells": [
    {
      "cell_type": "markdown",
      "metadata": {
        "id": "view-in-github",
        "colab_type": "text"
      },
      "source": [
        "<a href=\"https://colab.research.google.com/github/VicenteJFonseca/previs-o_pre-o_carros/blob/main/previs%C3%A3o_pre%C3%A7os_carros.ipynb\" target=\"_parent\"><img src=\"https://colab.research.google.com/assets/colab-badge.svg\" alt=\"Open In Colab\"/></a>"
      ]
    },
    {
      "cell_type": "markdown",
      "source": [
        "Fonte dados: https://www.kaggle.com/datasets/vagnerbessa/average-car-prices-bazil\n",
        "\n",
        "\n",
        "---\n",
        "\n"
      ],
      "metadata": {
        "id": "GxJjBJm1A2cS"
      }
    },
    {
      "cell_type": "markdown",
      "source": [
        "# Importando Dados e Bibliotecas Python"
      ],
      "metadata": {
        "id": "aobDV-GO2qFy"
      }
    },
    {
      "cell_type": "code",
      "execution_count": 1,
      "metadata": {
        "id": "gHULNh0tyCtY"
      },
      "outputs": [],
      "source": [
        "import os\n",
        "import pickle\n",
        "import numpy as np\n",
        "import pandas as pd\n",
        "import seaborn as sns\n",
        "import matplotlib.pyplot as plt"
      ]
    },
    {
      "cell_type": "code",
      "source": [
        "from google.colab import drive\n",
        "drive.mount('/content/drive')"
      ],
      "metadata": {
        "colab": {
          "base_uri": "https://localhost:8080/"
        },
        "id": "t5Z_pONH_l_h",
        "outputId": "38c2297f-46e3-4a62-d454-03ed4e96446f"
      },
      "execution_count": 2,
      "outputs": [
        {
          "output_type": "stream",
          "name": "stdout",
          "text": [
            "Mounted at /content/drive\n"
          ]
        }
      ]
    },
    {
      "cell_type": "code",
      "source": [
        "fipe22 = pd.read_csv(\"/content/drive/MyDrive/Colab Notebooks/Datasets/fipe_2022.csv\", delimiter = \",\")"
      ],
      "metadata": {
        "id": "OExNoYur_wcA"
      },
      "execution_count": 3,
      "outputs": []
    },
    {
      "cell_type": "markdown",
      "source": [
        "# Visualização dos Dados"
      ],
      "metadata": {
        "id": "28hMgffD2xyc"
      }
    },
    {
      "cell_type": "code",
      "source": [
        "fipe22.head()"
      ],
      "metadata": {
        "colab": {
          "base_uri": "https://localhost:8080/",
          "height": 357
        },
        "id": "86fzt6p4_6Aq",
        "outputId": "8d7b51f5-6d64-46f8-84ca-5770aeda1746"
      },
      "execution_count": 4,
      "outputs": [
        {
          "output_type": "execute_result",
          "data": {
            "text/plain": [
              "   year_of_reference month_of_reference fipe_code authentication  brand  \\\n",
              "0               2022            January  038001-6     vwmrywl5qs  Acura   \n",
              "1               2022            January  038001-6     t9mt723qhz  Acura   \n",
              "2               2022            January  038001-6     tr5wv4z21g  Acura   \n",
              "3               2022            January  038001-6     s2xxsjz3mt  Acura   \n",
              "4               2022            January  038001-6     rtm9gj7zk8  Acura   \n",
              "\n",
              "     model      fuel    gear  engine_size  year_model  avg_price_brl  \\\n",
              "0  NSX 3.0  Gasoline  manual          3.0        1995        43779.0   \n",
              "1  NSX 3.0  Gasoline  manual          3.0        1994        42244.0   \n",
              "2  NSX 3.0  Gasoline  manual          3.0        1993        40841.0   \n",
              "3  NSX 3.0  Gasoline  manual          3.0        1992        39028.0   \n",
              "4  NSX 3.0  Gasoline  manual          3.0        1991        35678.0   \n",
              "\n",
              "   age_years  \n",
              "0         28  \n",
              "1         29  \n",
              "2         30  \n",
              "3         31  \n",
              "4         32  "
            ],
            "text/html": [
              "\n",
              "  <div id=\"df-a1bc1c94-39e4-4f9b-a14b-7a14437027cd\">\n",
              "    <div class=\"colab-df-container\">\n",
              "      <div>\n",
              "<style scoped>\n",
              "    .dataframe tbody tr th:only-of-type {\n",
              "        vertical-align: middle;\n",
              "    }\n",
              "\n",
              "    .dataframe tbody tr th {\n",
              "        vertical-align: top;\n",
              "    }\n",
              "\n",
              "    .dataframe thead th {\n",
              "        text-align: right;\n",
              "    }\n",
              "</style>\n",
              "<table border=\"1\" class=\"dataframe\">\n",
              "  <thead>\n",
              "    <tr style=\"text-align: right;\">\n",
              "      <th></th>\n",
              "      <th>year_of_reference</th>\n",
              "      <th>month_of_reference</th>\n",
              "      <th>fipe_code</th>\n",
              "      <th>authentication</th>\n",
              "      <th>brand</th>\n",
              "      <th>model</th>\n",
              "      <th>fuel</th>\n",
              "      <th>gear</th>\n",
              "      <th>engine_size</th>\n",
              "      <th>year_model</th>\n",
              "      <th>avg_price_brl</th>\n",
              "      <th>age_years</th>\n",
              "    </tr>\n",
              "  </thead>\n",
              "  <tbody>\n",
              "    <tr>\n",
              "      <th>0</th>\n",
              "      <td>2022</td>\n",
              "      <td>January</td>\n",
              "      <td>038001-6</td>\n",
              "      <td>vwmrywl5qs</td>\n",
              "      <td>Acura</td>\n",
              "      <td>NSX 3.0</td>\n",
              "      <td>Gasoline</td>\n",
              "      <td>manual</td>\n",
              "      <td>3.0</td>\n",
              "      <td>1995</td>\n",
              "      <td>43779.0</td>\n",
              "      <td>28</td>\n",
              "    </tr>\n",
              "    <tr>\n",
              "      <th>1</th>\n",
              "      <td>2022</td>\n",
              "      <td>January</td>\n",
              "      <td>038001-6</td>\n",
              "      <td>t9mt723qhz</td>\n",
              "      <td>Acura</td>\n",
              "      <td>NSX 3.0</td>\n",
              "      <td>Gasoline</td>\n",
              "      <td>manual</td>\n",
              "      <td>3.0</td>\n",
              "      <td>1994</td>\n",
              "      <td>42244.0</td>\n",
              "      <td>29</td>\n",
              "    </tr>\n",
              "    <tr>\n",
              "      <th>2</th>\n",
              "      <td>2022</td>\n",
              "      <td>January</td>\n",
              "      <td>038001-6</td>\n",
              "      <td>tr5wv4z21g</td>\n",
              "      <td>Acura</td>\n",
              "      <td>NSX 3.0</td>\n",
              "      <td>Gasoline</td>\n",
              "      <td>manual</td>\n",
              "      <td>3.0</td>\n",
              "      <td>1993</td>\n",
              "      <td>40841.0</td>\n",
              "      <td>30</td>\n",
              "    </tr>\n",
              "    <tr>\n",
              "      <th>3</th>\n",
              "      <td>2022</td>\n",
              "      <td>January</td>\n",
              "      <td>038001-6</td>\n",
              "      <td>s2xxsjz3mt</td>\n",
              "      <td>Acura</td>\n",
              "      <td>NSX 3.0</td>\n",
              "      <td>Gasoline</td>\n",
              "      <td>manual</td>\n",
              "      <td>3.0</td>\n",
              "      <td>1992</td>\n",
              "      <td>39028.0</td>\n",
              "      <td>31</td>\n",
              "    </tr>\n",
              "    <tr>\n",
              "      <th>4</th>\n",
              "      <td>2022</td>\n",
              "      <td>January</td>\n",
              "      <td>038001-6</td>\n",
              "      <td>rtm9gj7zk8</td>\n",
              "      <td>Acura</td>\n",
              "      <td>NSX 3.0</td>\n",
              "      <td>Gasoline</td>\n",
              "      <td>manual</td>\n",
              "      <td>3.0</td>\n",
              "      <td>1991</td>\n",
              "      <td>35678.0</td>\n",
              "      <td>32</td>\n",
              "    </tr>\n",
              "  </tbody>\n",
              "</table>\n",
              "</div>\n",
              "      <button class=\"colab-df-convert\" onclick=\"convertToInteractive('df-a1bc1c94-39e4-4f9b-a14b-7a14437027cd')\"\n",
              "              title=\"Convert this dataframe to an interactive table.\"\n",
              "              style=\"display:none;\">\n",
              "        \n",
              "  <svg xmlns=\"http://www.w3.org/2000/svg\" height=\"24px\"viewBox=\"0 0 24 24\"\n",
              "       width=\"24px\">\n",
              "    <path d=\"M0 0h24v24H0V0z\" fill=\"none\"/>\n",
              "    <path d=\"M18.56 5.44l.94 2.06.94-2.06 2.06-.94-2.06-.94-.94-2.06-.94 2.06-2.06.94zm-11 1L8.5 8.5l.94-2.06 2.06-.94-2.06-.94L8.5 2.5l-.94 2.06-2.06.94zm10 10l.94 2.06.94-2.06 2.06-.94-2.06-.94-.94-2.06-.94 2.06-2.06.94z\"/><path d=\"M17.41 7.96l-1.37-1.37c-.4-.4-.92-.59-1.43-.59-.52 0-1.04.2-1.43.59L10.3 9.45l-7.72 7.72c-.78.78-.78 2.05 0 2.83L4 21.41c.39.39.9.59 1.41.59.51 0 1.02-.2 1.41-.59l7.78-7.78 2.81-2.81c.8-.78.8-2.07 0-2.86zM5.41 20L4 18.59l7.72-7.72 1.47 1.35L5.41 20z\"/>\n",
              "  </svg>\n",
              "      </button>\n",
              "      \n",
              "  <style>\n",
              "    .colab-df-container {\n",
              "      display:flex;\n",
              "      flex-wrap:wrap;\n",
              "      gap: 12px;\n",
              "    }\n",
              "\n",
              "    .colab-df-convert {\n",
              "      background-color: #E8F0FE;\n",
              "      border: none;\n",
              "      border-radius: 50%;\n",
              "      cursor: pointer;\n",
              "      display: none;\n",
              "      fill: #1967D2;\n",
              "      height: 32px;\n",
              "      padding: 0 0 0 0;\n",
              "      width: 32px;\n",
              "    }\n",
              "\n",
              "    .colab-df-convert:hover {\n",
              "      background-color: #E2EBFA;\n",
              "      box-shadow: 0px 1px 2px rgba(60, 64, 67, 0.3), 0px 1px 3px 1px rgba(60, 64, 67, 0.15);\n",
              "      fill: #174EA6;\n",
              "    }\n",
              "\n",
              "    [theme=dark] .colab-df-convert {\n",
              "      background-color: #3B4455;\n",
              "      fill: #D2E3FC;\n",
              "    }\n",
              "\n",
              "    [theme=dark] .colab-df-convert:hover {\n",
              "      background-color: #434B5C;\n",
              "      box-shadow: 0px 1px 3px 1px rgba(0, 0, 0, 0.15);\n",
              "      filter: drop-shadow(0px 1px 2px rgba(0, 0, 0, 0.3));\n",
              "      fill: #FFFFFF;\n",
              "    }\n",
              "  </style>\n",
              "\n",
              "      <script>\n",
              "        const buttonEl =\n",
              "          document.querySelector('#df-a1bc1c94-39e4-4f9b-a14b-7a14437027cd button.colab-df-convert');\n",
              "        buttonEl.style.display =\n",
              "          google.colab.kernel.accessAllowed ? 'block' : 'none';\n",
              "\n",
              "        async function convertToInteractive(key) {\n",
              "          const element = document.querySelector('#df-a1bc1c94-39e4-4f9b-a14b-7a14437027cd');\n",
              "          const dataTable =\n",
              "            await google.colab.kernel.invokeFunction('convertToInteractive',\n",
              "                                                     [key], {});\n",
              "          if (!dataTable) return;\n",
              "\n",
              "          const docLinkHtml = 'Like what you see? Visit the ' +\n",
              "            '<a target=\"_blank\" href=https://colab.research.google.com/notebooks/data_table.ipynb>data table notebook</a>'\n",
              "            + ' to learn more about interactive tables.';\n",
              "          element.innerHTML = '';\n",
              "          dataTable['output_type'] = 'display_data';\n",
              "          await google.colab.output.renderOutput(dataTable, element);\n",
              "          const docLink = document.createElement('div');\n",
              "          docLink.innerHTML = docLinkHtml;\n",
              "          element.appendChild(docLink);\n",
              "        }\n",
              "      </script>\n",
              "    </div>\n",
              "  </div>\n",
              "  "
            ]
          },
          "metadata": {},
          "execution_count": 4
        }
      ]
    },
    {
      "cell_type": "code",
      "source": [
        "fipe22.info()"
      ],
      "metadata": {
        "colab": {
          "base_uri": "https://localhost:8080/"
        },
        "id": "22KJaPc8ACeY",
        "outputId": "9e37c856-f83b-463b-cf12-924c46f8fd38"
      },
      "execution_count": 5,
      "outputs": [
        {
          "output_type": "stream",
          "name": "stdout",
          "text": [
            "<class 'pandas.core.frame.DataFrame'>\n",
            "RangeIndex: 290275 entries, 0 to 290274\n",
            "Data columns (total 12 columns):\n",
            " #   Column              Non-Null Count   Dtype  \n",
            "---  ------              --------------   -----  \n",
            " 0   year_of_reference   290275 non-null  int64  \n",
            " 1   month_of_reference  290275 non-null  object \n",
            " 2   fipe_code           290275 non-null  object \n",
            " 3   authentication      290275 non-null  object \n",
            " 4   brand               290275 non-null  object \n",
            " 5   model               290275 non-null  object \n",
            " 6   fuel                290275 non-null  object \n",
            " 7   gear                290275 non-null  object \n",
            " 8   engine_size         290275 non-null  float64\n",
            " 9   year_model          290275 non-null  int64  \n",
            " 10  avg_price_brl       290275 non-null  float64\n",
            " 11  age_years           290275 non-null  int64  \n",
            "dtypes: float64(2), int64(3), object(7)\n",
            "memory usage: 26.6+ MB\n"
          ]
        }
      ]
    },
    {
      "cell_type": "markdown",
      "source": [
        "## Aplicando Pandas Profiling"
      ],
      "metadata": {
        "id": "5UXk55Ki23dK"
      }
    },
    {
      "cell_type": "code",
      "source": [
        "# %pip install -U pandas-profiling\n",
        "# from pandas_profiling import ProfileReport\n",
        "# profile = ProfileReport(fipe22)"
      ],
      "metadata": {
        "id": "k0QiBAja2mTN"
      },
      "execution_count": 6,
      "outputs": []
    },
    {
      "cell_type": "code",
      "source": [
        "# profile.to_notebook_iframe()"
      ],
      "metadata": {
        "id": "7dhmQ1iw3LYs"
      },
      "execution_count": 7,
      "outputs": []
    },
    {
      "cell_type": "markdown",
      "source": [
        "# Pré-processamento dos dados"
      ],
      "metadata": {
        "id": "1e_YihSo52gg"
      }
    },
    {
      "cell_type": "markdown",
      "source": [
        "## Tratamento da variável 'brand'"
      ],
      "metadata": {
        "id": "sFHaGeyXG_gZ"
      }
    },
    {
      "cell_type": "code",
      "source": [
        "fipe22.brand.value_counts(normalize=True)"
      ],
      "metadata": {
        "id": "ZRSFPzSG3-Mt",
        "outputId": "67572254-afeb-4197-fcd2-af41b2391855",
        "colab": {
          "base_uri": "https://localhost:8080/"
        }
      },
      "execution_count": 8,
      "outputs": [
        {
          "output_type": "execute_result",
          "data": {
            "text/plain": [
              "GM - Chevrolet     0.097077\n",
              "VW - VolksWagen    0.096949\n",
              "Fiat               0.091510\n",
              "Ford               0.083197\n",
              "Mercedes-Benz      0.060184\n",
              "                     ...   \n",
              "Saturn             0.000083\n",
              "GEELY              0.000083\n",
              "Saab               0.000083\n",
              "Lotus              0.000083\n",
              "SHINERAY           0.000083\n",
              "Name: brand, Length: 86, dtype: float64"
            ]
          },
          "metadata": {},
          "execution_count": 8
        }
      ]
    },
    {
      "cell_type": "code",
      "source": [
        "brand = fipe22.brand.value_counts(normalize=True)"
      ],
      "metadata": {
        "id": "7ubFyYxyC7Ak"
      },
      "execution_count": 9,
      "outputs": []
    },
    {
      "cell_type": "code",
      "source": [
        "brand"
      ],
      "metadata": {
        "id": "bfU66lKhDSjd",
        "outputId": "1d4dc190-8ba1-412e-e5a3-6c780c79e074",
        "colab": {
          "base_uri": "https://localhost:8080/"
        }
      },
      "execution_count": 10,
      "outputs": [
        {
          "output_type": "execute_result",
          "data": {
            "text/plain": [
              "GM - Chevrolet     0.097077\n",
              "VW - VolksWagen    0.096949\n",
              "Fiat               0.091510\n",
              "Ford               0.083197\n",
              "Mercedes-Benz      0.060184\n",
              "                     ...   \n",
              "Saturn             0.000083\n",
              "GEELY              0.000083\n",
              "Saab               0.000083\n",
              "Lotus              0.000083\n",
              "SHINERAY           0.000083\n",
              "Name: brand, Length: 86, dtype: float64"
            ]
          },
          "metadata": {},
          "execution_count": 10
        }
      ]
    },
    {
      "cell_type": "code",
      "source": [
        "df_brand = pd.DataFrame(brand)"
      ],
      "metadata": {
        "id": "WIqMkjm88hWh"
      },
      "execution_count": 11,
      "outputs": []
    },
    {
      "cell_type": "code",
      "source": [
        "df_brand"
      ],
      "metadata": {
        "id": "KGdSe3Db8l6_",
        "outputId": "b53aef75-793f-4b39-dc6d-a6f58342d6aa",
        "colab": {
          "base_uri": "https://localhost:8080/",
          "height": 424
        }
      },
      "execution_count": 12,
      "outputs": [
        {
          "output_type": "execute_result",
          "data": {
            "text/plain": [
              "                    brand\n",
              "GM - Chevrolet   0.097077\n",
              "VW - VolksWagen  0.096949\n",
              "Fiat             0.091510\n",
              "Ford             0.083197\n",
              "Mercedes-Benz    0.060184\n",
              "...                   ...\n",
              "Saturn           0.000083\n",
              "GEELY            0.000083\n",
              "Saab             0.000083\n",
              "Lotus            0.000083\n",
              "SHINERAY         0.000083\n",
              "\n",
              "[86 rows x 1 columns]"
            ],
            "text/html": [
              "\n",
              "  <div id=\"df-6e24d3f9-6175-461b-b43e-b37b5d39a9f2\">\n",
              "    <div class=\"colab-df-container\">\n",
              "      <div>\n",
              "<style scoped>\n",
              "    .dataframe tbody tr th:only-of-type {\n",
              "        vertical-align: middle;\n",
              "    }\n",
              "\n",
              "    .dataframe tbody tr th {\n",
              "        vertical-align: top;\n",
              "    }\n",
              "\n",
              "    .dataframe thead th {\n",
              "        text-align: right;\n",
              "    }\n",
              "</style>\n",
              "<table border=\"1\" class=\"dataframe\">\n",
              "  <thead>\n",
              "    <tr style=\"text-align: right;\">\n",
              "      <th></th>\n",
              "      <th>brand</th>\n",
              "    </tr>\n",
              "  </thead>\n",
              "  <tbody>\n",
              "    <tr>\n",
              "      <th>GM - Chevrolet</th>\n",
              "      <td>0.097077</td>\n",
              "    </tr>\n",
              "    <tr>\n",
              "      <th>VW - VolksWagen</th>\n",
              "      <td>0.096949</td>\n",
              "    </tr>\n",
              "    <tr>\n",
              "      <th>Fiat</th>\n",
              "      <td>0.091510</td>\n",
              "    </tr>\n",
              "    <tr>\n",
              "      <th>Ford</th>\n",
              "      <td>0.083197</td>\n",
              "    </tr>\n",
              "    <tr>\n",
              "      <th>Mercedes-Benz</th>\n",
              "      <td>0.060184</td>\n",
              "    </tr>\n",
              "    <tr>\n",
              "      <th>...</th>\n",
              "      <td>...</td>\n",
              "    </tr>\n",
              "    <tr>\n",
              "      <th>Saturn</th>\n",
              "      <td>0.000083</td>\n",
              "    </tr>\n",
              "    <tr>\n",
              "      <th>GEELY</th>\n",
              "      <td>0.000083</td>\n",
              "    </tr>\n",
              "    <tr>\n",
              "      <th>Saab</th>\n",
              "      <td>0.000083</td>\n",
              "    </tr>\n",
              "    <tr>\n",
              "      <th>Lotus</th>\n",
              "      <td>0.000083</td>\n",
              "    </tr>\n",
              "    <tr>\n",
              "      <th>SHINERAY</th>\n",
              "      <td>0.000083</td>\n",
              "    </tr>\n",
              "  </tbody>\n",
              "</table>\n",
              "<p>86 rows × 1 columns</p>\n",
              "</div>\n",
              "      <button class=\"colab-df-convert\" onclick=\"convertToInteractive('df-6e24d3f9-6175-461b-b43e-b37b5d39a9f2')\"\n",
              "              title=\"Convert this dataframe to an interactive table.\"\n",
              "              style=\"display:none;\">\n",
              "        \n",
              "  <svg xmlns=\"http://www.w3.org/2000/svg\" height=\"24px\"viewBox=\"0 0 24 24\"\n",
              "       width=\"24px\">\n",
              "    <path d=\"M0 0h24v24H0V0z\" fill=\"none\"/>\n",
              "    <path d=\"M18.56 5.44l.94 2.06.94-2.06 2.06-.94-2.06-.94-.94-2.06-.94 2.06-2.06.94zm-11 1L8.5 8.5l.94-2.06 2.06-.94-2.06-.94L8.5 2.5l-.94 2.06-2.06.94zm10 10l.94 2.06.94-2.06 2.06-.94-2.06-.94-.94-2.06-.94 2.06-2.06.94z\"/><path d=\"M17.41 7.96l-1.37-1.37c-.4-.4-.92-.59-1.43-.59-.52 0-1.04.2-1.43.59L10.3 9.45l-7.72 7.72c-.78.78-.78 2.05 0 2.83L4 21.41c.39.39.9.59 1.41.59.51 0 1.02-.2 1.41-.59l7.78-7.78 2.81-2.81c.8-.78.8-2.07 0-2.86zM5.41 20L4 18.59l7.72-7.72 1.47 1.35L5.41 20z\"/>\n",
              "  </svg>\n",
              "      </button>\n",
              "      \n",
              "  <style>\n",
              "    .colab-df-container {\n",
              "      display:flex;\n",
              "      flex-wrap:wrap;\n",
              "      gap: 12px;\n",
              "    }\n",
              "\n",
              "    .colab-df-convert {\n",
              "      background-color: #E8F0FE;\n",
              "      border: none;\n",
              "      border-radius: 50%;\n",
              "      cursor: pointer;\n",
              "      display: none;\n",
              "      fill: #1967D2;\n",
              "      height: 32px;\n",
              "      padding: 0 0 0 0;\n",
              "      width: 32px;\n",
              "    }\n",
              "\n",
              "    .colab-df-convert:hover {\n",
              "      background-color: #E2EBFA;\n",
              "      box-shadow: 0px 1px 2px rgba(60, 64, 67, 0.3), 0px 1px 3px 1px rgba(60, 64, 67, 0.15);\n",
              "      fill: #174EA6;\n",
              "    }\n",
              "\n",
              "    [theme=dark] .colab-df-convert {\n",
              "      background-color: #3B4455;\n",
              "      fill: #D2E3FC;\n",
              "    }\n",
              "\n",
              "    [theme=dark] .colab-df-convert:hover {\n",
              "      background-color: #434B5C;\n",
              "      box-shadow: 0px 1px 3px 1px rgba(0, 0, 0, 0.15);\n",
              "      filter: drop-shadow(0px 1px 2px rgba(0, 0, 0, 0.3));\n",
              "      fill: #FFFFFF;\n",
              "    }\n",
              "  </style>\n",
              "\n",
              "      <script>\n",
              "        const buttonEl =\n",
              "          document.querySelector('#df-6e24d3f9-6175-461b-b43e-b37b5d39a9f2 button.colab-df-convert');\n",
              "        buttonEl.style.display =\n",
              "          google.colab.kernel.accessAllowed ? 'block' : 'none';\n",
              "\n",
              "        async function convertToInteractive(key) {\n",
              "          const element = document.querySelector('#df-6e24d3f9-6175-461b-b43e-b37b5d39a9f2');\n",
              "          const dataTable =\n",
              "            await google.colab.kernel.invokeFunction('convertToInteractive',\n",
              "                                                     [key], {});\n",
              "          if (!dataTable) return;\n",
              "\n",
              "          const docLinkHtml = 'Like what you see? Visit the ' +\n",
              "            '<a target=\"_blank\" href=https://colab.research.google.com/notebooks/data_table.ipynb>data table notebook</a>'\n",
              "            + ' to learn more about interactive tables.';\n",
              "          element.innerHTML = '';\n",
              "          dataTable['output_type'] = 'display_data';\n",
              "          await google.colab.output.renderOutput(dataTable, element);\n",
              "          const docLink = document.createElement('div');\n",
              "          docLink.innerHTML = docLinkHtml;\n",
              "          element.appendChild(docLink);\n",
              "        }\n",
              "      </script>\n",
              "    </div>\n",
              "  </div>\n",
              "  "
            ]
          },
          "metadata": {},
          "execution_count": 12
        }
      ]
    },
    {
      "cell_type": "code",
      "source": [
        "df_brand[df_brand[\"brand\"] < 0.01]"
      ],
      "metadata": {
        "id": "Qey9IdpT_AYB",
        "outputId": "0bb102b3-4e8d-4201-bb69-5b0d0bff1a5a",
        "colab": {
          "base_uri": "https://localhost:8080/",
          "height": 424
        }
      },
      "execution_count": 13,
      "outputs": [
        {
          "output_type": "execute_result",
          "data": {
            "text/plain": [
              "               brand\n",
              "Jaguar      0.009605\n",
              "MINI        0.008103\n",
              "Chrysler    0.006284\n",
              "Lexus       0.006025\n",
              "Caoa Chery  0.005453\n",
              "...              ...\n",
              "Saturn      0.000083\n",
              "GEELY       0.000083\n",
              "Saab        0.000083\n",
              "Lotus       0.000083\n",
              "SHINERAY    0.000083\n",
              "\n",
              "[64 rows x 1 columns]"
            ],
            "text/html": [
              "\n",
              "  <div id=\"df-8f8c0e5b-f538-4433-b5e9-cdfdddc4c9c4\">\n",
              "    <div class=\"colab-df-container\">\n",
              "      <div>\n",
              "<style scoped>\n",
              "    .dataframe tbody tr th:only-of-type {\n",
              "        vertical-align: middle;\n",
              "    }\n",
              "\n",
              "    .dataframe tbody tr th {\n",
              "        vertical-align: top;\n",
              "    }\n",
              "\n",
              "    .dataframe thead th {\n",
              "        text-align: right;\n",
              "    }\n",
              "</style>\n",
              "<table border=\"1\" class=\"dataframe\">\n",
              "  <thead>\n",
              "    <tr style=\"text-align: right;\">\n",
              "      <th></th>\n",
              "      <th>brand</th>\n",
              "    </tr>\n",
              "  </thead>\n",
              "  <tbody>\n",
              "    <tr>\n",
              "      <th>Jaguar</th>\n",
              "      <td>0.009605</td>\n",
              "    </tr>\n",
              "    <tr>\n",
              "      <th>MINI</th>\n",
              "      <td>0.008103</td>\n",
              "    </tr>\n",
              "    <tr>\n",
              "      <th>Chrysler</th>\n",
              "      <td>0.006284</td>\n",
              "    </tr>\n",
              "    <tr>\n",
              "      <th>Lexus</th>\n",
              "      <td>0.006025</td>\n",
              "    </tr>\n",
              "    <tr>\n",
              "      <th>Caoa Chery</th>\n",
              "      <td>0.005453</td>\n",
              "    </tr>\n",
              "    <tr>\n",
              "      <th>...</th>\n",
              "      <td>...</td>\n",
              "    </tr>\n",
              "    <tr>\n",
              "      <th>Saturn</th>\n",
              "      <td>0.000083</td>\n",
              "    </tr>\n",
              "    <tr>\n",
              "      <th>GEELY</th>\n",
              "      <td>0.000083</td>\n",
              "    </tr>\n",
              "    <tr>\n",
              "      <th>Saab</th>\n",
              "      <td>0.000083</td>\n",
              "    </tr>\n",
              "    <tr>\n",
              "      <th>Lotus</th>\n",
              "      <td>0.000083</td>\n",
              "    </tr>\n",
              "    <tr>\n",
              "      <th>SHINERAY</th>\n",
              "      <td>0.000083</td>\n",
              "    </tr>\n",
              "  </tbody>\n",
              "</table>\n",
              "<p>64 rows × 1 columns</p>\n",
              "</div>\n",
              "      <button class=\"colab-df-convert\" onclick=\"convertToInteractive('df-8f8c0e5b-f538-4433-b5e9-cdfdddc4c9c4')\"\n",
              "              title=\"Convert this dataframe to an interactive table.\"\n",
              "              style=\"display:none;\">\n",
              "        \n",
              "  <svg xmlns=\"http://www.w3.org/2000/svg\" height=\"24px\"viewBox=\"0 0 24 24\"\n",
              "       width=\"24px\">\n",
              "    <path d=\"M0 0h24v24H0V0z\" fill=\"none\"/>\n",
              "    <path d=\"M18.56 5.44l.94 2.06.94-2.06 2.06-.94-2.06-.94-.94-2.06-.94 2.06-2.06.94zm-11 1L8.5 8.5l.94-2.06 2.06-.94-2.06-.94L8.5 2.5l-.94 2.06-2.06.94zm10 10l.94 2.06.94-2.06 2.06-.94-2.06-.94-.94-2.06-.94 2.06-2.06.94z\"/><path d=\"M17.41 7.96l-1.37-1.37c-.4-.4-.92-.59-1.43-.59-.52 0-1.04.2-1.43.59L10.3 9.45l-7.72 7.72c-.78.78-.78 2.05 0 2.83L4 21.41c.39.39.9.59 1.41.59.51 0 1.02-.2 1.41-.59l7.78-7.78 2.81-2.81c.8-.78.8-2.07 0-2.86zM5.41 20L4 18.59l7.72-7.72 1.47 1.35L5.41 20z\"/>\n",
              "  </svg>\n",
              "      </button>\n",
              "      \n",
              "  <style>\n",
              "    .colab-df-container {\n",
              "      display:flex;\n",
              "      flex-wrap:wrap;\n",
              "      gap: 12px;\n",
              "    }\n",
              "\n",
              "    .colab-df-convert {\n",
              "      background-color: #E8F0FE;\n",
              "      border: none;\n",
              "      border-radius: 50%;\n",
              "      cursor: pointer;\n",
              "      display: none;\n",
              "      fill: #1967D2;\n",
              "      height: 32px;\n",
              "      padding: 0 0 0 0;\n",
              "      width: 32px;\n",
              "    }\n",
              "\n",
              "    .colab-df-convert:hover {\n",
              "      background-color: #E2EBFA;\n",
              "      box-shadow: 0px 1px 2px rgba(60, 64, 67, 0.3), 0px 1px 3px 1px rgba(60, 64, 67, 0.15);\n",
              "      fill: #174EA6;\n",
              "    }\n",
              "\n",
              "    [theme=dark] .colab-df-convert {\n",
              "      background-color: #3B4455;\n",
              "      fill: #D2E3FC;\n",
              "    }\n",
              "\n",
              "    [theme=dark] .colab-df-convert:hover {\n",
              "      background-color: #434B5C;\n",
              "      box-shadow: 0px 1px 3px 1px rgba(0, 0, 0, 0.15);\n",
              "      filter: drop-shadow(0px 1px 2px rgba(0, 0, 0, 0.3));\n",
              "      fill: #FFFFFF;\n",
              "    }\n",
              "  </style>\n",
              "\n",
              "      <script>\n",
              "        const buttonEl =\n",
              "          document.querySelector('#df-8f8c0e5b-f538-4433-b5e9-cdfdddc4c9c4 button.colab-df-convert');\n",
              "        buttonEl.style.display =\n",
              "          google.colab.kernel.accessAllowed ? 'block' : 'none';\n",
              "\n",
              "        async function convertToInteractive(key) {\n",
              "          const element = document.querySelector('#df-8f8c0e5b-f538-4433-b5e9-cdfdddc4c9c4');\n",
              "          const dataTable =\n",
              "            await google.colab.kernel.invokeFunction('convertToInteractive',\n",
              "                                                     [key], {});\n",
              "          if (!dataTable) return;\n",
              "\n",
              "          const docLinkHtml = 'Like what you see? Visit the ' +\n",
              "            '<a target=\"_blank\" href=https://colab.research.google.com/notebooks/data_table.ipynb>data table notebook</a>'\n",
              "            + ' to learn more about interactive tables.';\n",
              "          element.innerHTML = '';\n",
              "          dataTable['output_type'] = 'display_data';\n",
              "          await google.colab.output.renderOutput(dataTable, element);\n",
              "          const docLink = document.createElement('div');\n",
              "          docLink.innerHTML = docLinkHtml;\n",
              "          element.appendChild(docLink);\n",
              "        }\n",
              "      </script>\n",
              "    </div>\n",
              "  </div>\n",
              "  "
            ]
          },
          "metadata": {},
          "execution_count": 13
        }
      ]
    },
    {
      "cell_type": "code",
      "source": [
        "several_brands = df_brand[df_brand[\"brand\"] < 0.01].index.tolist()"
      ],
      "metadata": {
        "id": "_eupC_euDriL"
      },
      "execution_count": 14,
      "outputs": []
    },
    {
      "cell_type": "code",
      "source": [
        "fipe22['brand'] = fipe22['brand'].replace( several_brands, 'Others Brands')"
      ],
      "metadata": {
        "id": "BzpWm-4EGJxR"
      },
      "execution_count": 15,
      "outputs": []
    },
    {
      "cell_type": "code",
      "source": [
        "fipe22['brand'].value_counts(normalize = True)"
      ],
      "metadata": {
        "id": "2FqkEEOUGuiq",
        "outputId": "7fe8de74-48bd-4dc2-cb9a-a9397526046a",
        "colab": {
          "base_uri": "https://localhost:8080/"
        }
      },
      "execution_count": 16,
      "outputs": [
        {
          "output_type": "execute_result",
          "data": {
            "text/plain": [
              "Others Brands      0.106416\n",
              "GM - Chevrolet     0.097077\n",
              "VW - VolksWagen    0.096949\n",
              "Fiat               0.091510\n",
              "Ford               0.083197\n",
              "Mercedes-Benz      0.060184\n",
              "Renault            0.052343\n",
              "Audi               0.041919\n",
              "Peugeot            0.038350\n",
              "Toyota             0.035515\n",
              "Mitsubishi         0.035077\n",
              "BMW                0.034657\n",
              "Citroën            0.030247\n",
              "Hyundai            0.025786\n",
              "Land Rover         0.024022\n",
              "Nissan             0.023719\n",
              "Porsche            0.023426\n",
              "Volvo              0.020908\n",
              "Honda              0.019671\n",
              "Kia Motors         0.018855\n",
              "Subaru             0.014255\n",
              "Suzuki             0.013322\n",
              "Jeep               0.012595\n",
              "Name: brand, dtype: float64"
            ]
          },
          "metadata": {},
          "execution_count": 16
        }
      ]
    },
    {
      "cell_type": "markdown",
      "source": [
        "## Seleção de Variáveis"
      ],
      "metadata": {
        "id": "tjZSmUhkWjd0"
      }
    },
    {
      "cell_type": "code",
      "source": [
        "fipe22.info()"
      ],
      "metadata": {
        "colab": {
          "base_uri": "https://localhost:8080/"
        },
        "id": "t75l-EqGWwjf",
        "outputId": "eaf42da9-cf49-47e9-b457-31a7d172b362"
      },
      "execution_count": 17,
      "outputs": [
        {
          "output_type": "stream",
          "name": "stdout",
          "text": [
            "<class 'pandas.core.frame.DataFrame'>\n",
            "RangeIndex: 290275 entries, 0 to 290274\n",
            "Data columns (total 12 columns):\n",
            " #   Column              Non-Null Count   Dtype  \n",
            "---  ------              --------------   -----  \n",
            " 0   year_of_reference   290275 non-null  int64  \n",
            " 1   month_of_reference  290275 non-null  object \n",
            " 2   fipe_code           290275 non-null  object \n",
            " 3   authentication      290275 non-null  object \n",
            " 4   brand               290275 non-null  object \n",
            " 5   model               290275 non-null  object \n",
            " 6   fuel                290275 non-null  object \n",
            " 7   gear                290275 non-null  object \n",
            " 8   engine_size         290275 non-null  float64\n",
            " 9   year_model          290275 non-null  int64  \n",
            " 10  avg_price_brl       290275 non-null  float64\n",
            " 11  age_years           290275 non-null  int64  \n",
            "dtypes: float64(2), int64(3), object(7)\n",
            "memory usage: 26.6+ MB\n"
          ]
        }
      ]
    },
    {
      "cell_type": "code",
      "source": [
        "price_car = fipe22.drop(['year_of_reference','month_of_reference','fipe_code','year_model','authentication','model'], axis = 1)"
      ],
      "metadata": {
        "id": "Grolj1R_Xq9C"
      },
      "execution_count": 18,
      "outputs": []
    },
    {
      "cell_type": "code",
      "source": [
        "price_car.info()"
      ],
      "metadata": {
        "colab": {
          "base_uri": "https://localhost:8080/"
        },
        "id": "in-B5sxnYm6l",
        "outputId": "8bfe0709-47b2-4389-e5fd-d8183de8e617"
      },
      "execution_count": 19,
      "outputs": [
        {
          "output_type": "stream",
          "name": "stdout",
          "text": [
            "<class 'pandas.core.frame.DataFrame'>\n",
            "RangeIndex: 290275 entries, 0 to 290274\n",
            "Data columns (total 6 columns):\n",
            " #   Column         Non-Null Count   Dtype  \n",
            "---  ------         --------------   -----  \n",
            " 0   brand          290275 non-null  object \n",
            " 1   fuel           290275 non-null  object \n",
            " 2   gear           290275 non-null  object \n",
            " 3   engine_size    290275 non-null  float64\n",
            " 4   avg_price_brl  290275 non-null  float64\n",
            " 5   age_years      290275 non-null  int64  \n",
            "dtypes: float64(2), int64(1), object(3)\n",
            "memory usage: 13.3+ MB\n"
          ]
        }
      ]
    },
    {
      "cell_type": "markdown",
      "source": [
        "## Binarização de variáveis categóricas"
      ],
      "metadata": {
        "id": "hlPsN74PPtRR"
      }
    },
    {
      "cell_type": "code",
      "source": [
        "avg_price = pd.get_dummies(data = price_car, columns = ['brand','fuel','gear'])"
      ],
      "metadata": {
        "id": "2aohRZHoZFc1"
      },
      "execution_count": 20,
      "outputs": []
    },
    {
      "cell_type": "code",
      "source": [
        "avg_price.info()"
      ],
      "metadata": {
        "colab": {
          "base_uri": "https://localhost:8080/"
        },
        "id": "SsyJ6bGyatNE",
        "outputId": "5fc0acc5-e987-4d78-bca5-d2ca9dcf2481"
      },
      "execution_count": 21,
      "outputs": [
        {
          "output_type": "stream",
          "name": "stdout",
          "text": [
            "<class 'pandas.core.frame.DataFrame'>\n",
            "RangeIndex: 290275 entries, 0 to 290274\n",
            "Data columns (total 31 columns):\n",
            " #   Column                 Non-Null Count   Dtype  \n",
            "---  ------                 --------------   -----  \n",
            " 0   engine_size            290275 non-null  float64\n",
            " 1   avg_price_brl          290275 non-null  float64\n",
            " 2   age_years              290275 non-null  int64  \n",
            " 3   brand_Audi             290275 non-null  uint8  \n",
            " 4   brand_BMW              290275 non-null  uint8  \n",
            " 5   brand_Citroën          290275 non-null  uint8  \n",
            " 6   brand_Fiat             290275 non-null  uint8  \n",
            " 7   brand_Ford             290275 non-null  uint8  \n",
            " 8   brand_GM - Chevrolet   290275 non-null  uint8  \n",
            " 9   brand_Honda            290275 non-null  uint8  \n",
            " 10  brand_Hyundai          290275 non-null  uint8  \n",
            " 11  brand_Jeep             290275 non-null  uint8  \n",
            " 12  brand_Kia Motors       290275 non-null  uint8  \n",
            " 13  brand_Land Rover       290275 non-null  uint8  \n",
            " 14  brand_Mercedes-Benz    290275 non-null  uint8  \n",
            " 15  brand_Mitsubishi       290275 non-null  uint8  \n",
            " 16  brand_Nissan           290275 non-null  uint8  \n",
            " 17  brand_Others Brands    290275 non-null  uint8  \n",
            " 18  brand_Peugeot          290275 non-null  uint8  \n",
            " 19  brand_Porsche          290275 non-null  uint8  \n",
            " 20  brand_Renault          290275 non-null  uint8  \n",
            " 21  brand_Subaru           290275 non-null  uint8  \n",
            " 22  brand_Suzuki           290275 non-null  uint8  \n",
            " 23  brand_Toyota           290275 non-null  uint8  \n",
            " 24  brand_VW - VolksWagen  290275 non-null  uint8  \n",
            " 25  brand_Volvo            290275 non-null  uint8  \n",
            " 26  fuel_Alcohol           290275 non-null  uint8  \n",
            " 27  fuel_Diesel            290275 non-null  uint8  \n",
            " 28  fuel_Gasoline          290275 non-null  uint8  \n",
            " 29  gear_automatic         290275 non-null  uint8  \n",
            " 30  gear_manual            290275 non-null  uint8  \n",
            "dtypes: float64(2), int64(1), uint8(28)\n",
            "memory usage: 14.4 MB\n"
          ]
        }
      ]
    },
    {
      "cell_type": "code",
      "source": [
        "avg_price"
      ],
      "metadata": {
        "id": "1tS5MVK0dZfH",
        "outputId": "43bfe292-f595-4d14-96cf-2ce6b9425419",
        "colab": {
          "base_uri": "https://localhost:8080/",
          "height": 522
        }
      },
      "execution_count": 22,
      "outputs": [
        {
          "output_type": "execute_result",
          "data": {
            "text/plain": [
              "        engine_size  avg_price_brl  age_years  brand_Audi  brand_BMW  \\\n",
              "0               3.0        43779.0         28           0          0   \n",
              "1               3.0        42244.0         29           0          0   \n",
              "2               3.0        40841.0         30           0          0   \n",
              "3               3.0        39028.0         31           0          0   \n",
              "4               3.0        35678.0         32           0          0   \n",
              "...             ...            ...        ...         ...        ...   \n",
              "290270          1.6        22894.0         14           0          0   \n",
              "290271          1.6        22270.0         15           0          0   \n",
              "290272          1.6        21663.0         16           0          0   \n",
              "290273          1.6        21073.0         17           0          0   \n",
              "290274          1.6        18264.0         18           0          0   \n",
              "\n",
              "        brand_Citroën  brand_Fiat  brand_Ford  brand_GM - Chevrolet  \\\n",
              "0                   0           0           0                     0   \n",
              "1                   0           0           0                     0   \n",
              "2                   0           0           0                     0   \n",
              "3                   0           0           0                     0   \n",
              "4                   0           0           0                     0   \n",
              "...               ...         ...         ...                   ...   \n",
              "290270              0           0           0                     0   \n",
              "290271              0           0           0                     0   \n",
              "290272              0           0           0                     0   \n",
              "290273              0           0           0                     0   \n",
              "290274              0           0           0                     0   \n",
              "\n",
              "        brand_Honda  ...  brand_Subaru  brand_Suzuki  brand_Toyota  \\\n",
              "0                 0  ...             0             0             0   \n",
              "1                 0  ...             0             0             0   \n",
              "2                 0  ...             0             0             0   \n",
              "3                 0  ...             0             0             0   \n",
              "4                 0  ...             0             0             0   \n",
              "...             ...  ...           ...           ...           ...   \n",
              "290270            0  ...             0             0             0   \n",
              "290271            0  ...             0             0             0   \n",
              "290272            0  ...             0             0             0   \n",
              "290273            0  ...             0             0             0   \n",
              "290274            0  ...             0             0             0   \n",
              "\n",
              "        brand_VW - VolksWagen  brand_Volvo  fuel_Alcohol  fuel_Diesel  \\\n",
              "0                           0            0             0            0   \n",
              "1                           0            0             0            0   \n",
              "2                           0            0             0            0   \n",
              "3                           0            0             0            0   \n",
              "4                           0            0             0            0   \n",
              "...                       ...          ...           ...          ...   \n",
              "290270                      0            0             0            0   \n",
              "290271                      0            0             0            0   \n",
              "290272                      0            0             0            0   \n",
              "290273                      0            0             0            0   \n",
              "290274                      0            0             0            0   \n",
              "\n",
              "        fuel_Gasoline  gear_automatic  gear_manual  \n",
              "0                   1               0            1  \n",
              "1                   1               0            1  \n",
              "2                   1               0            1  \n",
              "3                   1               0            1  \n",
              "4                   1               0            1  \n",
              "...               ...             ...          ...  \n",
              "290270              1               0            1  \n",
              "290271              1               0            1  \n",
              "290272              1               0            1  \n",
              "290273              1               0            1  \n",
              "290274              1               0            1  \n",
              "\n",
              "[290275 rows x 31 columns]"
            ],
            "text/html": [
              "\n",
              "  <div id=\"df-45db810e-35cf-4607-9d2e-724a05f826e3\">\n",
              "    <div class=\"colab-df-container\">\n",
              "      <div>\n",
              "<style scoped>\n",
              "    .dataframe tbody tr th:only-of-type {\n",
              "        vertical-align: middle;\n",
              "    }\n",
              "\n",
              "    .dataframe tbody tr th {\n",
              "        vertical-align: top;\n",
              "    }\n",
              "\n",
              "    .dataframe thead th {\n",
              "        text-align: right;\n",
              "    }\n",
              "</style>\n",
              "<table border=\"1\" class=\"dataframe\">\n",
              "  <thead>\n",
              "    <tr style=\"text-align: right;\">\n",
              "      <th></th>\n",
              "      <th>engine_size</th>\n",
              "      <th>avg_price_brl</th>\n",
              "      <th>age_years</th>\n",
              "      <th>brand_Audi</th>\n",
              "      <th>brand_BMW</th>\n",
              "      <th>brand_Citroën</th>\n",
              "      <th>brand_Fiat</th>\n",
              "      <th>brand_Ford</th>\n",
              "      <th>brand_GM - Chevrolet</th>\n",
              "      <th>brand_Honda</th>\n",
              "      <th>...</th>\n",
              "      <th>brand_Subaru</th>\n",
              "      <th>brand_Suzuki</th>\n",
              "      <th>brand_Toyota</th>\n",
              "      <th>brand_VW - VolksWagen</th>\n",
              "      <th>brand_Volvo</th>\n",
              "      <th>fuel_Alcohol</th>\n",
              "      <th>fuel_Diesel</th>\n",
              "      <th>fuel_Gasoline</th>\n",
              "      <th>gear_automatic</th>\n",
              "      <th>gear_manual</th>\n",
              "    </tr>\n",
              "  </thead>\n",
              "  <tbody>\n",
              "    <tr>\n",
              "      <th>0</th>\n",
              "      <td>3.0</td>\n",
              "      <td>43779.0</td>\n",
              "      <td>28</td>\n",
              "      <td>0</td>\n",
              "      <td>0</td>\n",
              "      <td>0</td>\n",
              "      <td>0</td>\n",
              "      <td>0</td>\n",
              "      <td>0</td>\n",
              "      <td>0</td>\n",
              "      <td>...</td>\n",
              "      <td>0</td>\n",
              "      <td>0</td>\n",
              "      <td>0</td>\n",
              "      <td>0</td>\n",
              "      <td>0</td>\n",
              "      <td>0</td>\n",
              "      <td>0</td>\n",
              "      <td>1</td>\n",
              "      <td>0</td>\n",
              "      <td>1</td>\n",
              "    </tr>\n",
              "    <tr>\n",
              "      <th>1</th>\n",
              "      <td>3.0</td>\n",
              "      <td>42244.0</td>\n",
              "      <td>29</td>\n",
              "      <td>0</td>\n",
              "      <td>0</td>\n",
              "      <td>0</td>\n",
              "      <td>0</td>\n",
              "      <td>0</td>\n",
              "      <td>0</td>\n",
              "      <td>0</td>\n",
              "      <td>...</td>\n",
              "      <td>0</td>\n",
              "      <td>0</td>\n",
              "      <td>0</td>\n",
              "      <td>0</td>\n",
              "      <td>0</td>\n",
              "      <td>0</td>\n",
              "      <td>0</td>\n",
              "      <td>1</td>\n",
              "      <td>0</td>\n",
              "      <td>1</td>\n",
              "    </tr>\n",
              "    <tr>\n",
              "      <th>2</th>\n",
              "      <td>3.0</td>\n",
              "      <td>40841.0</td>\n",
              "      <td>30</td>\n",
              "      <td>0</td>\n",
              "      <td>0</td>\n",
              "      <td>0</td>\n",
              "      <td>0</td>\n",
              "      <td>0</td>\n",
              "      <td>0</td>\n",
              "      <td>0</td>\n",
              "      <td>...</td>\n",
              "      <td>0</td>\n",
              "      <td>0</td>\n",
              "      <td>0</td>\n",
              "      <td>0</td>\n",
              "      <td>0</td>\n",
              "      <td>0</td>\n",
              "      <td>0</td>\n",
              "      <td>1</td>\n",
              "      <td>0</td>\n",
              "      <td>1</td>\n",
              "    </tr>\n",
              "    <tr>\n",
              "      <th>3</th>\n",
              "      <td>3.0</td>\n",
              "      <td>39028.0</td>\n",
              "      <td>31</td>\n",
              "      <td>0</td>\n",
              "      <td>0</td>\n",
              "      <td>0</td>\n",
              "      <td>0</td>\n",
              "      <td>0</td>\n",
              "      <td>0</td>\n",
              "      <td>0</td>\n",
              "      <td>...</td>\n",
              "      <td>0</td>\n",
              "      <td>0</td>\n",
              "      <td>0</td>\n",
              "      <td>0</td>\n",
              "      <td>0</td>\n",
              "      <td>0</td>\n",
              "      <td>0</td>\n",
              "      <td>1</td>\n",
              "      <td>0</td>\n",
              "      <td>1</td>\n",
              "    </tr>\n",
              "    <tr>\n",
              "      <th>4</th>\n",
              "      <td>3.0</td>\n",
              "      <td>35678.0</td>\n",
              "      <td>32</td>\n",
              "      <td>0</td>\n",
              "      <td>0</td>\n",
              "      <td>0</td>\n",
              "      <td>0</td>\n",
              "      <td>0</td>\n",
              "      <td>0</td>\n",
              "      <td>0</td>\n",
              "      <td>...</td>\n",
              "      <td>0</td>\n",
              "      <td>0</td>\n",
              "      <td>0</td>\n",
              "      <td>0</td>\n",
              "      <td>0</td>\n",
              "      <td>0</td>\n",
              "      <td>0</td>\n",
              "      <td>1</td>\n",
              "      <td>0</td>\n",
              "      <td>1</td>\n",
              "    </tr>\n",
              "    <tr>\n",
              "      <th>...</th>\n",
              "      <td>...</td>\n",
              "      <td>...</td>\n",
              "      <td>...</td>\n",
              "      <td>...</td>\n",
              "      <td>...</td>\n",
              "      <td>...</td>\n",
              "      <td>...</td>\n",
              "      <td>...</td>\n",
              "      <td>...</td>\n",
              "      <td>...</td>\n",
              "      <td>...</td>\n",
              "      <td>...</td>\n",
              "      <td>...</td>\n",
              "      <td>...</td>\n",
              "      <td>...</td>\n",
              "      <td>...</td>\n",
              "      <td>...</td>\n",
              "      <td>...</td>\n",
              "      <td>...</td>\n",
              "      <td>...</td>\n",
              "      <td>...</td>\n",
              "    </tr>\n",
              "    <tr>\n",
              "      <th>290270</th>\n",
              "      <td>1.6</td>\n",
              "      <td>22894.0</td>\n",
              "      <td>14</td>\n",
              "      <td>0</td>\n",
              "      <td>0</td>\n",
              "      <td>0</td>\n",
              "      <td>0</td>\n",
              "      <td>0</td>\n",
              "      <td>0</td>\n",
              "      <td>0</td>\n",
              "      <td>...</td>\n",
              "      <td>0</td>\n",
              "      <td>0</td>\n",
              "      <td>0</td>\n",
              "      <td>0</td>\n",
              "      <td>0</td>\n",
              "      <td>0</td>\n",
              "      <td>0</td>\n",
              "      <td>1</td>\n",
              "      <td>0</td>\n",
              "      <td>1</td>\n",
              "    </tr>\n",
              "    <tr>\n",
              "      <th>290271</th>\n",
              "      <td>1.6</td>\n",
              "      <td>22270.0</td>\n",
              "      <td>15</td>\n",
              "      <td>0</td>\n",
              "      <td>0</td>\n",
              "      <td>0</td>\n",
              "      <td>0</td>\n",
              "      <td>0</td>\n",
              "      <td>0</td>\n",
              "      <td>0</td>\n",
              "      <td>...</td>\n",
              "      <td>0</td>\n",
              "      <td>0</td>\n",
              "      <td>0</td>\n",
              "      <td>0</td>\n",
              "      <td>0</td>\n",
              "      <td>0</td>\n",
              "      <td>0</td>\n",
              "      <td>1</td>\n",
              "      <td>0</td>\n",
              "      <td>1</td>\n",
              "    </tr>\n",
              "    <tr>\n",
              "      <th>290272</th>\n",
              "      <td>1.6</td>\n",
              "      <td>21663.0</td>\n",
              "      <td>16</td>\n",
              "      <td>0</td>\n",
              "      <td>0</td>\n",
              "      <td>0</td>\n",
              "      <td>0</td>\n",
              "      <td>0</td>\n",
              "      <td>0</td>\n",
              "      <td>0</td>\n",
              "      <td>...</td>\n",
              "      <td>0</td>\n",
              "      <td>0</td>\n",
              "      <td>0</td>\n",
              "      <td>0</td>\n",
              "      <td>0</td>\n",
              "      <td>0</td>\n",
              "      <td>0</td>\n",
              "      <td>1</td>\n",
              "      <td>0</td>\n",
              "      <td>1</td>\n",
              "    </tr>\n",
              "    <tr>\n",
              "      <th>290273</th>\n",
              "      <td>1.6</td>\n",
              "      <td>21073.0</td>\n",
              "      <td>17</td>\n",
              "      <td>0</td>\n",
              "      <td>0</td>\n",
              "      <td>0</td>\n",
              "      <td>0</td>\n",
              "      <td>0</td>\n",
              "      <td>0</td>\n",
              "      <td>0</td>\n",
              "      <td>...</td>\n",
              "      <td>0</td>\n",
              "      <td>0</td>\n",
              "      <td>0</td>\n",
              "      <td>0</td>\n",
              "      <td>0</td>\n",
              "      <td>0</td>\n",
              "      <td>0</td>\n",
              "      <td>1</td>\n",
              "      <td>0</td>\n",
              "      <td>1</td>\n",
              "    </tr>\n",
              "    <tr>\n",
              "      <th>290274</th>\n",
              "      <td>1.6</td>\n",
              "      <td>18264.0</td>\n",
              "      <td>18</td>\n",
              "      <td>0</td>\n",
              "      <td>0</td>\n",
              "      <td>0</td>\n",
              "      <td>0</td>\n",
              "      <td>0</td>\n",
              "      <td>0</td>\n",
              "      <td>0</td>\n",
              "      <td>...</td>\n",
              "      <td>0</td>\n",
              "      <td>0</td>\n",
              "      <td>0</td>\n",
              "      <td>0</td>\n",
              "      <td>0</td>\n",
              "      <td>0</td>\n",
              "      <td>0</td>\n",
              "      <td>1</td>\n",
              "      <td>0</td>\n",
              "      <td>1</td>\n",
              "    </tr>\n",
              "  </tbody>\n",
              "</table>\n",
              "<p>290275 rows × 31 columns</p>\n",
              "</div>\n",
              "      <button class=\"colab-df-convert\" onclick=\"convertToInteractive('df-45db810e-35cf-4607-9d2e-724a05f826e3')\"\n",
              "              title=\"Convert this dataframe to an interactive table.\"\n",
              "              style=\"display:none;\">\n",
              "        \n",
              "  <svg xmlns=\"http://www.w3.org/2000/svg\" height=\"24px\"viewBox=\"0 0 24 24\"\n",
              "       width=\"24px\">\n",
              "    <path d=\"M0 0h24v24H0V0z\" fill=\"none\"/>\n",
              "    <path d=\"M18.56 5.44l.94 2.06.94-2.06 2.06-.94-2.06-.94-.94-2.06-.94 2.06-2.06.94zm-11 1L8.5 8.5l.94-2.06 2.06-.94-2.06-.94L8.5 2.5l-.94 2.06-2.06.94zm10 10l.94 2.06.94-2.06 2.06-.94-2.06-.94-.94-2.06-.94 2.06-2.06.94z\"/><path d=\"M17.41 7.96l-1.37-1.37c-.4-.4-.92-.59-1.43-.59-.52 0-1.04.2-1.43.59L10.3 9.45l-7.72 7.72c-.78.78-.78 2.05 0 2.83L4 21.41c.39.39.9.59 1.41.59.51 0 1.02-.2 1.41-.59l7.78-7.78 2.81-2.81c.8-.78.8-2.07 0-2.86zM5.41 20L4 18.59l7.72-7.72 1.47 1.35L5.41 20z\"/>\n",
              "  </svg>\n",
              "      </button>\n",
              "      \n",
              "  <style>\n",
              "    .colab-df-container {\n",
              "      display:flex;\n",
              "      flex-wrap:wrap;\n",
              "      gap: 12px;\n",
              "    }\n",
              "\n",
              "    .colab-df-convert {\n",
              "      background-color: #E8F0FE;\n",
              "      border: none;\n",
              "      border-radius: 50%;\n",
              "      cursor: pointer;\n",
              "      display: none;\n",
              "      fill: #1967D2;\n",
              "      height: 32px;\n",
              "      padding: 0 0 0 0;\n",
              "      width: 32px;\n",
              "    }\n",
              "\n",
              "    .colab-df-convert:hover {\n",
              "      background-color: #E2EBFA;\n",
              "      box-shadow: 0px 1px 2px rgba(60, 64, 67, 0.3), 0px 1px 3px 1px rgba(60, 64, 67, 0.15);\n",
              "      fill: #174EA6;\n",
              "    }\n",
              "\n",
              "    [theme=dark] .colab-df-convert {\n",
              "      background-color: #3B4455;\n",
              "      fill: #D2E3FC;\n",
              "    }\n",
              "\n",
              "    [theme=dark] .colab-df-convert:hover {\n",
              "      background-color: #434B5C;\n",
              "      box-shadow: 0px 1px 3px 1px rgba(0, 0, 0, 0.15);\n",
              "      filter: drop-shadow(0px 1px 2px rgba(0, 0, 0, 0.3));\n",
              "      fill: #FFFFFF;\n",
              "    }\n",
              "  </style>\n",
              "\n",
              "      <script>\n",
              "        const buttonEl =\n",
              "          document.querySelector('#df-45db810e-35cf-4607-9d2e-724a05f826e3 button.colab-df-convert');\n",
              "        buttonEl.style.display =\n",
              "          google.colab.kernel.accessAllowed ? 'block' : 'none';\n",
              "\n",
              "        async function convertToInteractive(key) {\n",
              "          const element = document.querySelector('#df-45db810e-35cf-4607-9d2e-724a05f826e3');\n",
              "          const dataTable =\n",
              "            await google.colab.kernel.invokeFunction('convertToInteractive',\n",
              "                                                     [key], {});\n",
              "          if (!dataTable) return;\n",
              "\n",
              "          const docLinkHtml = 'Like what you see? Visit the ' +\n",
              "            '<a target=\"_blank\" href=https://colab.research.google.com/notebooks/data_table.ipynb>data table notebook</a>'\n",
              "            + ' to learn more about interactive tables.';\n",
              "          element.innerHTML = '';\n",
              "          dataTable['output_type'] = 'display_data';\n",
              "          await google.colab.output.renderOutput(dataTable, element);\n",
              "          const docLink = document.createElement('div');\n",
              "          docLink.innerHTML = docLinkHtml;\n",
              "          element.appendChild(docLink);\n",
              "        }\n",
              "      </script>\n",
              "    </div>\n",
              "  </div>\n",
              "  "
            ]
          },
          "metadata": {},
          "execution_count": 22
        }
      ]
    },
    {
      "cell_type": "markdown",
      "source": [
        "## Transformação de Variáveis: Yeo-Johnson"
      ],
      "metadata": {
        "id": "I4w1zHxu7MTd"
      }
    },
    {
      "cell_type": "code",
      "source": [
        "sns.displot(avg_price, x='age_years', kind ='kde')\n",
        "\n",
        "sns.displot(avg_price, x='engine_size', kind ='kde')\n"
      ],
      "metadata": {
        "colab": {
          "base_uri": "https://localhost:8080/",
          "height": 738
        },
        "id": "uGrfxrtiBXhi",
        "outputId": "2bcc69b5-66fa-4799-b7f5-4dff69258c4a"
      },
      "execution_count": 33,
      "outputs": [
        {
          "output_type": "execute_result",
          "data": {
            "text/plain": [
              "<seaborn.axisgrid.FacetGrid at 0x7f61f0954be0>"
            ]
          },
          "metadata": {},
          "execution_count": 33
        },
        {
          "output_type": "display_data",
          "data": {
            "text/plain": [
              "<Figure size 360x360 with 1 Axes>"
            ],
            "image/png": "[encoded data removed]"
          },
          "metadata": {
            "needs_background": "light"
          }
        },
        {
          "output_type": "display_data",
          "data": {
            "text/plain": [
              "<Figure size 360x360 with 1 Axes>"
            ],
            "image/png": "[encoded data removed]"
          },
          "metadata": {
            "needs_background": "light"
          }
        }
      ]
    },
    {
      "cell_type": "code",
      "source": [
        "avg_price[[\"age_years\", \"engine_size\"]].describe()"
      ],
      "metadata": {
        "colab": {
          "base_uri": "https://localhost:8080/",
          "height": 300
        },
        "id": "cgYQ_8ipGKvs",
        "outputId": "d8d048e2-155b-4195-c330-85b2bccd76d0"
      },
      "execution_count": 45,
      "outputs": [
        {
          "output_type": "execute_result",
          "data": {
            "text/plain": [
              "           age_years    engine_size\n",
              "count  290275.000000  290275.000000\n",
              "mean       14.103367       2.266047\n",
              "std         9.263619       1.033109\n",
              "min         0.000000       0.700000\n",
              "25%         7.000000       1.600000\n",
              "50%        13.000000       2.000000\n",
              "75%        22.000000       2.800000\n",
              "max        38.000000       6.700000"
            ],
            "text/html": [
              "\n",
              "  <div id=\"df-0fd79fec-0193-4dff-ade3-e79173585fa0\">\n",
              "    <div class=\"colab-df-container\">\n",
              "      <div>\n",
              "<style scoped>\n",
              "    .dataframe tbody tr th:only-of-type {\n",
              "        vertical-align: middle;\n",
              "    }\n",
              "\n",
              "    .dataframe tbody tr th {\n",
              "        vertical-align: top;\n",
              "    }\n",
              "\n",
              "    .dataframe thead th {\n",
              "        text-align: right;\n",
              "    }\n",
              "</style>\n",
              "<table border=\"1\" class=\"dataframe\">\n",
              "  <thead>\n",
              "    <tr style=\"text-align: right;\">\n",
              "      <th></th>\n",
              "      <th>age_years</th>\n",
              "      <th>engine_size</th>\n",
              "    </tr>\n",
              "  </thead>\n",
              "  <tbody>\n",
              "    <tr>\n",
              "      <th>count</th>\n",
              "      <td>290275.000000</td>\n",
              "      <td>290275.000000</td>\n",
              "    </tr>\n",
              "    <tr>\n",
              "      <th>mean</th>\n",
              "      <td>14.103367</td>\n",
              "      <td>2.266047</td>\n",
              "    </tr>\n",
              "    <tr>\n",
              "      <th>std</th>\n",
              "      <td>9.263619</td>\n",
              "      <td>1.033109</td>\n",
              "    </tr>\n",
              "    <tr>\n",
              "      <th>min</th>\n",
              "      <td>0.000000</td>\n",
              "      <td>0.700000</td>\n",
              "    </tr>\n",
              "    <tr>\n",
              "      <th>25%</th>\n",
              "      <td>7.000000</td>\n",
              "      <td>1.600000</td>\n",
              "    </tr>\n",
              "    <tr>\n",
              "      <th>50%</th>\n",
              "      <td>13.000000</td>\n",
              "      <td>2.000000</td>\n",
              "    </tr>\n",
              "    <tr>\n",
              "      <th>75%</th>\n",
              "      <td>22.000000</td>\n",
              "      <td>2.800000</td>\n",
              "    </tr>\n",
              "    <tr>\n",
              "      <th>max</th>\n",
              "      <td>38.000000</td>\n",
              "      <td>6.700000</td>\n",
              "    </tr>\n",
              "  </tbody>\n",
              "</table>\n",
              "</div>\n",
              "      <button class=\"colab-df-convert\" onclick=\"convertToInteractive('df-0fd79fec-0193-4dff-ade3-e79173585fa0')\"\n",
              "              title=\"Convert this dataframe to an interactive table.\"\n",
              "              style=\"display:none;\">\n",
              "        \n",
              "  <svg xmlns=\"http://www.w3.org/2000/svg\" height=\"24px\"viewBox=\"0 0 24 24\"\n",
              "       width=\"24px\">\n",
              "    <path d=\"M0 0h24v24H0V0z\" fill=\"none\"/>\n",
              "    <path d=\"M18.56 5.44l.94 2.06.94-2.06 2.06-.94-2.06-.94-.94-2.06-.94 2.06-2.06.94zm-11 1L8.5 8.5l.94-2.06 2.06-.94-2.06-.94L8.5 2.5l-.94 2.06-2.06.94zm10 10l.94 2.06.94-2.06 2.06-.94-2.06-.94-.94-2.06-.94 2.06-2.06.94z\"/><path d=\"M17.41 7.96l-1.37-1.37c-.4-.4-.92-.59-1.43-.59-.52 0-1.04.2-1.43.59L10.3 9.45l-7.72 7.72c-.78.78-.78 2.05 0 2.83L4 21.41c.39.39.9.59 1.41.59.51 0 1.02-.2 1.41-.59l7.78-7.78 2.81-2.81c.8-.78.8-2.07 0-2.86zM5.41 20L4 18.59l7.72-7.72 1.47 1.35L5.41 20z\"/>\n",
              "  </svg>\n",
              "      </button>\n",
              "      \n",
              "  <style>\n",
              "    .colab-df-container {\n",
              "      display:flex;\n",
              "      flex-wrap:wrap;\n",
              "      gap: 12px;\n",
              "    }\n",
              "\n",
              "    .colab-df-convert {\n",
              "      background-color: #E8F0FE;\n",
              "      border: none;\n",
              "      border-radius: 50%;\n",
              "      cursor: pointer;\n",
              "      display: none;\n",
              "      fill: #1967D2;\n",
              "      height: 32px;\n",
              "      padding: 0 0 0 0;\n",
              "      width: 32px;\n",
              "    }\n",
              "\n",
              "    .colab-df-convert:hover {\n",
              "      background-color: #E2EBFA;\n",
              "      box-shadow: 0px 1px 2px rgba(60, 64, 67, 0.3), 0px 1px 3px 1px rgba(60, 64, 67, 0.15);\n",
              "      fill: #174EA6;\n",
              "    }\n",
              "\n",
              "    [theme=dark] .colab-df-convert {\n",
              "      background-color: #3B4455;\n",
              "      fill: #D2E3FC;\n",
              "    }\n",
              "\n",
              "    [theme=dark] .colab-df-convert:hover {\n",
              "      background-color: #434B5C;\n",
              "      box-shadow: 0px 1px 3px 1px rgba(0, 0, 0, 0.15);\n",
              "      filter: drop-shadow(0px 1px 2px rgba(0, 0, 0, 0.3));\n",
              "      fill: #FFFFFF;\n",
              "    }\n",
              "  </style>\n",
              "\n",
              "      <script>\n",
              "        const buttonEl =\n",
              "          document.querySelector('#df-0fd79fec-0193-4dff-ade3-e79173585fa0 button.colab-df-convert');\n",
              "        buttonEl.style.display =\n",
              "          google.colab.kernel.accessAllowed ? 'block' : 'none';\n",
              "\n",
              "        async function convertToInteractive(key) {\n",
              "          const element = document.querySelector('#df-0fd79fec-0193-4dff-ade3-e79173585fa0');\n",
              "          const dataTable =\n",
              "            await google.colab.kernel.invokeFunction('convertToInteractive',\n",
              "                                                     [key], {});\n",
              "          if (!dataTable) return;\n",
              "\n",
              "          const docLinkHtml = 'Like what you see? Visit the ' +\n",
              "            '<a target=\"_blank\" href=https://colab.research.google.com/notebooks/data_table.ipynb>data table notebook</a>'\n",
              "            + ' to learn more about interactive tables.';\n",
              "          element.innerHTML = '';\n",
              "          dataTable['output_type'] = 'display_data';\n",
              "          await google.colab.output.renderOutput(dataTable, element);\n",
              "          const docLink = document.createElement('div');\n",
              "          docLink.innerHTML = docLinkHtml;\n",
              "          element.appendChild(docLink);\n",
              "        }\n",
              "      </script>\n",
              "    </div>\n",
              "  </div>\n",
              "  "
            ]
          },
          "metadata": {},
          "execution_count": 45
        }
      ]
    },
    {
      "cell_type": "code",
      "source": [
        "from sklearn.preprocessing import PowerTransformer\n",
        "from sklearn import preprocessing"
      ],
      "metadata": {
        "id": "aVZoo-vlFM9C"
      },
      "execution_count": 37,
      "outputs": []
    },
    {
      "cell_type": "code",
      "source": [
        "features_num = avg_price[['engine_size','age_years']]"
      ],
      "metadata": {
        "id": "n4oiFcGbFSJh"
      },
      "execution_count": 47,
      "outputs": []
    },
    {
      "cell_type": "code",
      "source": [
        "pt = preprocessing.PowerTransformer(method='yeo-johnson', standardize=False)\n",
        "yeoj = pt.fit_transform(features_num)"
      ],
      "metadata": {
        "id": "Bdz2YNV8Fq4C"
      },
      "execution_count": 48,
      "outputs": []
    },
    {
      "cell_type": "code",
      "source": [
        "yeo_colunas = list(features_num.columns)\n",
        "yeo_colunas"
      ],
      "metadata": {
        "colab": {
          "base_uri": "https://localhost:8080/"
        },
        "id": "SGO1km28JVVj",
        "outputId": "6ae3086b-8893-4f09-a8f2-67d7efc328ee"
      },
      "execution_count": 52,
      "outputs": [
        {
          "output_type": "execute_result",
          "data": {
            "text/plain": [
              "['engine_size', 'age_years']"
            ]
          },
          "metadata": {},
          "execution_count": 52
        }
      ]
    },
    {
      "cell_type": "code",
      "source": [
        "X_yeo= pd.DataFrame(yeoj, columns = yeo_colunas)"
      ],
      "metadata": {
        "id": "JygGX2lGJgYy"
      },
      "execution_count": 54,
      "outputs": []
    },
    {
      "cell_type": "code",
      "source": [
        "sns.displot(X_yeo, x='age_years', kind ='kde')\n",
        "\n",
        "sns.displot(X_yeo, x='engine_size', kind ='kde')"
      ],
      "metadata": {
        "colab": {
          "base_uri": "https://localhost:8080/",
          "height": 738
        },
        "id": "EjDXtSEiHYzK",
        "outputId": "19ed37e0-86b8-48a2-9ed1-80e421e8102c"
      },
      "execution_count": 55,
      "outputs": [
        {
          "output_type": "execute_result",
          "data": {
            "text/plain": [
              "<seaborn.axisgrid.FacetGrid at 0x7f61f095da00>"
            ]
          },
          "metadata": {},
          "execution_count": 55
        },
        {
          "output_type": "display_data",
          "data": {
            "text/plain": [
              "<Figure size 360x360 with 1 Axes>"
            ],
            "image/png": "[encoded data removed]"
          },
          "metadata": {
            "needs_background": "light"
          }
        },
        {
          "output_type": "display_data",
          "data": {
            "text/plain": [
              "<Figure size 360x360 with 1 Axes>"
            ],
            "image/png": "[encoded data removed]"
          },
          "metadata": {
            "needs_background": "light"
          }
        }
      ]
    },
    {
      "cell_type": "code",
      "source": [
        "avg_price = avg_price.drop(['engine_size','age_years'], axis = 1)"
      ],
      "metadata": {
        "id": "p6Rblj1xM0Dw"
      },
      "execution_count": 65,
      "outputs": []
    },
    {
      "cell_type": "code",
      "source": [
        "avg_price = pd.concat([avg_price, X_yeo], axis = 1)"
      ],
      "metadata": {
        "id": "pEyf-c0hNdT7"
      },
      "execution_count": 66,
      "outputs": []
    },
    {
      "cell_type": "markdown",
      "source": [
        "## Transformação de variáveis: Padronização"
      ],
      "metadata": {
        "id": "G26UqUlWdeFt"
      }
    },
    {
      "cell_type": "code",
      "source": [
        "X_avg_price = avg_price.drop(['avg_price_brl'], axis = 1)\n",
        "y_price = avg_price['avg_price_brl']"
      ],
      "metadata": {
        "id": "7Q6ToFfPeQIO"
      },
      "execution_count": 67,
      "outputs": []
    },
    {
      "cell_type": "code",
      "source": [
        "columns = list(X_avg_price.columns)"
      ],
      "metadata": {
        "id": "SvAWhRP7Le1D"
      },
      "execution_count": 68,
      "outputs": []
    },
    {
      "cell_type": "code",
      "source": [
        "from sklearn.preprocessing import StandardScaler"
      ],
      "metadata": {
        "id": "RcS_QNtuLwRB"
      },
      "execution_count": 69,
      "outputs": []
    },
    {
      "cell_type": "code",
      "source": [
        "scaler = preprocessing.StandardScaler()\n",
        "X_scl = scaler.fit_transform(X_avg_price)"
      ],
      "metadata": {
        "id": "vFwU7byOLrcJ"
      },
      "execution_count": 70,
      "outputs": []
    },
    {
      "cell_type": "code",
      "source": [
        "X_price = pd.DataFrame(X_scl, columns = columns)"
      ],
      "metadata": {
        "id": "oqbSDIvzMCPi"
      },
      "execution_count": 71,
      "outputs": []
    },
    {
      "cell_type": "markdown",
      "source": [
        "# Versionamento: MLflow"
      ],
      "metadata": {
        "id": "RgPIz4G8PNzo"
      }
    },
    {
      "cell_type": "code",
      "source": [
        "! pip install mlflow --quiet"
      ],
      "metadata": {
        "id": "RC1qR-d2PUtZ",
        "outputId": "e6298f9d-0c3d-4dd7-d21b-ce9b8393f8c8",
        "colab": {
          "base_uri": "https://localhost:8080/"
        }
      },
      "execution_count": 72,
      "outputs": [
        {
          "output_type": "stream",
          "name": "stdout",
          "text": [
            "\u001b[2K     \u001b[90m━━━━━━━━━━━━━━━━━━━━━━━━━━━━━━━━━━━━━━━━\u001b[0m \u001b[32m16.7/16.7 MB\u001b[0m \u001b[31m50.9 MB/s\u001b[0m eta \u001b[36m0:00:00\u001b[0m\n",
            "\u001b[2K     \u001b[90m━━━━━━━━━━━━━━━━━━━━━━━━━━━━━━━━━━━━━━━━\u001b[0m \u001b[32m82.3/82.3 KB\u001b[0m \u001b[31m6.1 MB/s\u001b[0m eta \u001b[36m0:00:00\u001b[0m\n",
            "\u001b[?25h  Preparing metadata (setup.py) ... \u001b[?25l\u001b[?25hdone\n",
            "\u001b[2K     \u001b[90m━━━━━━━━━━━━━━━━━━━━━━━━━━━━━━━━━━━━━━\u001b[0m \u001b[32m147.5/147.5 KB\u001b[0m \u001b[31m14.3 MB/s\u001b[0m eta \u001b[36m0:00:00\u001b[0m\n",
            "\u001b[2K     \u001b[90m━━━━━━━━━━━━━━━━━━━━━━━━━━━━━━━━━━━━━━\u001b[0m \u001b[32m184.0/184.0 KB\u001b[0m \u001b[31m17.3 MB/s\u001b[0m eta \u001b[36m0:00:00\u001b[0m\n",
            "\u001b[2K     \u001b[90m━━━━━━━━━━━━━━━━━━━━━━━━━━━━━━━━━━━━━━\u001b[0m \u001b[32m210.6/210.6 KB\u001b[0m \u001b[31m17.1 MB/s\u001b[0m eta \u001b[36m0:00:00\u001b[0m\n",
            "\u001b[2K     \u001b[90m━━━━━━━━━━━━━━━━━━━━━━━━━━━━━━━━━━━━━━\u001b[0m \u001b[32m575.9/575.9 KB\u001b[0m \u001b[31m38.8 MB/s\u001b[0m eta \u001b[36m0:00:00\u001b[0m\n",
            "\u001b[2K     \u001b[90m━━━━━━━━━━━━━━━━━━━━━━━━━━━━━━━━━━━━━━━━\u001b[0m \u001b[32m79.5/79.5 KB\u001b[0m \u001b[31m5.8 MB/s\u001b[0m eta \u001b[36m0:00:00\u001b[0m\n",
            "\u001b[2K     \u001b[90m━━━━━━━━━━━━━━━━━━━━━━━━━━━━━━━━━━━━━━━━\u001b[0m \u001b[32m78.7/78.7 KB\u001b[0m \u001b[31m7.7 MB/s\u001b[0m eta \u001b[36m0:00:00\u001b[0m\n",
            "\u001b[2K     \u001b[90m━━━━━━━━━━━━━━━━━━━━━━━━━━━━━━━━━━━━━━━━\u001b[0m \u001b[32m55.3/55.3 KB\u001b[0m \u001b[31m5.4 MB/s\u001b[0m eta \u001b[36m0:00:00\u001b[0m\n",
            "\u001b[2K     \u001b[90m━━━━━━━━━━━━━━━━━━━━━━━━━━━━━━━━━━━━━━\u001b[0m \u001b[32m140.6/140.6 KB\u001b[0m \u001b[31m14.7 MB/s\u001b[0m eta \u001b[36m0:00:00\u001b[0m\n",
            "\u001b[2K     \u001b[90m━━━━━━━━━━━━━━━━━━━━━━━━━━━━━━━━━━━━━━━━\u001b[0m \u001b[32m62.8/62.8 KB\u001b[0m \u001b[31m5.6 MB/s\u001b[0m eta \u001b[36m0:00:00\u001b[0m\n",
            "\u001b[2K     \u001b[90m━━━━━━━━━━━━━━━━━━━━━━━━━━━━━━━━━━━━━━━━\u001b[0m \u001b[32m62.7/62.7 KB\u001b[0m \u001b[31m6.2 MB/s\u001b[0m eta \u001b[36m0:00:00\u001b[0m\n",
            "\u001b[?25h  Building wheel for databricks-cli (setup.py) ... \u001b[?25l\u001b[?25hdone\n"
          ]
        }
      ]
    },
    {
      "cell_type": "code",
      "source": [
        "import mlflow\n",
        "from mlflow import MlflowClient"
      ],
      "metadata": {
        "id": "4FJJNDKSQwAk"
      },
      "execution_count": 73,
      "outputs": []
    },
    {
      "cell_type": "code",
      "source": [
        "MLFLOW_TRACKING_URI='https://dagshub.com/vicentefonsecabh/Previsao_Precos_Carros.mlflow'\n",
        "MLFLOW_TRACKING_USERNAME='vicentefonsecabh'\n",
        "MLFLOW_TRACKING_PASSWORD='4a903a714b28f8b2becc4cd3a1dc975c08e3d34a'\n",
        "\n",
        "os.environ['MLFLOW_TRACKING_USERNAME'] = MLFLOW_TRACKING_USERNAME\n",
        "os.environ['MLFLOW_TRACKING_PASSWORD'] = MLFLOW_TRACKING_PASSWORD\n",
        "\n",
        "mlflow.set_tracking_uri(MLFLOW_TRACKING_URI)\n",
        "\n",
        "mlflow.sklearn.autolog(log_models=True, \n",
        "                       log_input_examples=True,\n",
        "                       log_model_signatures=True)\n",
        "\n",
        "tmp_dir = 'tmp'\n",
        "\n",
        "if not os.path.exists(tmp_dir):\n",
        "    os.makedirs(tmp_dir)\n",
        "\n",
        "pickle.dump(scaler, \n",
        "            open(os.path.join(tmp_dir,\n",
        "                              'scaler.pkl'), 'wb'))\n",
        "\n",
        "def print_auto_logged_info(r):\n",
        "    tags = {k: v for k, v in r.data.tags.items() if not k.startswith(\"mlflow.\")}\n",
        "    artifacts = [f.path for f in MlflowClient().list_artifacts(r.info.run_id, \"model\")]\n",
        "    print(\"run_id: {}\".format(r.info.run_id))\n",
        "    print(\"artifacts: {}\".format(artifacts))\n",
        "    print(\"params: {}\".format(r.data.params))\n",
        "    print(\"metrics: {}\".format(r.data.metrics))\n",
        "    print(\"tags: {}\".format(tags))"
      ],
      "metadata": {
        "id": "I2VC6m5jQ6UN"
      },
      "execution_count": 74,
      "outputs": []
    },
    {
      "cell_type": "markdown",
      "source": [
        "# Conjuntos Treino e Teste"
      ],
      "metadata": {
        "id": "TjZCMPfXSwJU"
      }
    },
    {
      "cell_type": "code",
      "source": [
        "from sklearn.model_selection import train_test_split "
      ],
      "metadata": {
        "id": "dEPmhcn6S1LQ"
      },
      "execution_count": 75,
      "outputs": []
    },
    {
      "cell_type": "code",
      "source": [
        "X_treino, X_teste, y_treino, y_teste  = train_test_split(X_price, y_price, test_size = 0.3, random_state = 42)"
      ],
      "metadata": {
        "id": "1SZe555zSvI2"
      },
      "execution_count": 77,
      "outputs": []
    }
  ]
}